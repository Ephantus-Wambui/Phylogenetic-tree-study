{
 "cells": [
  {
   "cell_type": "markdown",
   "metadata": {},
   "source": [
    "Title: Phylogenetic trees and unsupervised learning in the 16S rRNA region of bacteria\n",
    "\n",
    "Author: Nyabuti Mainye\n",
    "\n",
    "Date: 28/12/2017"
   ]
  },
  {
   "cell_type": "markdown",
   "metadata": {},
   "source": [
    "The phylogenetic tree analysis project structure:\n",
    "* Introduction: About organism comparison, phylogenetics: measurements and evolution and importance of this analysis.\n",
    "* Data: Explanation about the data we'll be using and a glimpse of what we'll be trying to do\n",
    "* Exploratory data analysis: Summary statistics (mean, mode, median) for example of the nucleic acid sequences to reveal insights to proceed with the analysis.\n",
    "* Discussion: Based on what we've done in the previous step, a more detailed explanation of what's happening. \n",
    "* Conclusion: What i learned from the whole analysis."
   ]
  },
  {
   "cell_type": "markdown",
   "metadata": {},
   "source": [
    "# Introduction"
   ]
  },
  {
   "cell_type": "markdown",
   "metadata": {},
   "source": [
    "These days the word DNA is being thrown around a lot and used as an excuse for observed traits in animals(phenotype this is called a trait you can observe). DNA is actually an acronymn meaning deoxyribonucleic acid, this is packaged in the nucleus of the cell, specifically in the chromosome and in mitochondrion in the context of animal cells. The good thing is that it's present in every living organism, DNA, i could be wrong. Some organisms such as viruses can have a variant of DNA rather a transcribed form of it; it's called RNA(ribonucleic acid). It can be single stranded or double stranded remember: measles virus and influenza virus those are great examples.\n",
    "\n",
    "\n",
    "Long ago, no till now we've been using microscopy to see the differences between organisms. However, using this morphological standard is not the best method to classify organisms since some look the same as others and this can throw off your experiment for example *Mycobacterium* species. So in the work of Carl Woese, proposed using a conserved region called Ribosomal rna region(think of it as a string of characters consisting of ATGC) in bacteria. His discovery changed the world of microbial ecology and taxonomy since via he's method -- we can now discover more organisms than we could ever grow in culture media dealing with the **great plate count anomaly**. **The amount of difference between the strings is a measure of the amount of evolution that separates the organisms**. Remember this sentence it will come in handy in other sections of this study.\n",
    "\n",
    "We are going to do phylogenetics which involves drawing tree diagrams similar to hierarchial clustering done in unsupervised learning, a technique in machine learning. This shows relationships between members and their sequences. The importance of such studies like this is to study evolutionary relationships, pattern divergence and generate hypotheses about gene and protein function."
   ]
  },
  {
   "cell_type": "markdown",
   "metadata": {
    "collapsed": true
   },
   "source": [
    "# Data"
   ]
  },
  {
   "cell_type": "markdown",
   "metadata": {
    "collapsed": true
   },
   "source": [
    "We'll use a multifasta file, a common way of representing genomic features. However, they are usually for a similar region/locus of different organisms. In our case we'll be dealing with several microbial regions 16S ribosomal ribonucleic acid region in short, 16S rRNA, a part of the 30S small subunit of a prokaryotic ribosome. Why did i choose this region? it is a small region about 1500 nucleotides long with conserved and variable regions. The conserved region helps us identify the gene especially the V4 region where as the variable tell the species apart. This region doesn't evolve quickly and it also codes for the major ribosomal subunit. \n",
    "\n",
    "We'll be working with similar regions of 6 bacterial 16S Rrna regions from [NCBI](https://www.ncbi.nlm.nih.gov/)- obtained from \n",
    "mostly wounds of human beings. The organisms chosen are potentially dangerous since they could cause wound infections leading to bacteriema or septicemia. Intially, i was interested in look\n",
    "ing at antibiotic resistant strains only but they proved to be very difficult to find in the\n",
    "database mentioned. Below are the accession numbers, the names of the bacteria(italicized), the region and number of nucleotides(I counted these separately then appended the result):\n",
    "\n",
    "NB. the .1 means the version of that particular record\n",
    "* AM157442.1 *Streptococcus pneumoniae* 16S rRNA gene, clone 4V4 1,555 bp\n",
    "* U01332.1 *Helicobacter pylori isolate* MC903 16S rRNA gene 1,503 bp\n",
    "* LN871587.1 *Staphylococcus aureus partial* 16S rRNA gene, isolate A5 790bp\n",
    "* FM207520.1 *Acinetobacter baumannii* partial 16S rRNA gene, strain CWS18 735bp\n",
    "* HF564650.1 *Escherichia coli* partial 16S rRNA gene, isolate A2M11 844 bp\n",
    "* FM207545.1 *Klebsiella pneumoniae* partial 16S rRNA gene, strain CWS45 679 bp\n",
    "\n",
    "But the sequences are supposed to be ~1500 bases/nucleotides? For the organisms, i was interested in that wasn't the case. So i just worked with what i could get. The upside is that the sequences are not ranges within the gene. Hopefully, they'll align during the multiple sequence alignment.\n",
    "\n",
    "A glimpse of the data we'll be working with:\n",
    ">S.aureus_LN871587.1\n",
    "CGGGGGGGTTTTTTTTTTTTAAGAGTTTTCCTCGTAGGATGAACGCTGGCGGCGTGCCTAATACATGCAA\n",
    "GTCGAGCGAACGGACGAGAAGCTTGCTTCTCTGATGTTAGCGGCGGACGGGTGAGTAACACGTGGATAAC\n",
    "CTACCTATAAGACTGGGATAACTTCGGGAAACCGGAGCTAATACCGGATAATATTTTGAACCGCATGGTT\n",
    "CAAAAGTGAAAGACGGTCTTGCTGTCACTTATAGATGGATCCGCGCTGCATTAGCTAGTTGGTAAGGTAA\n",
    "CGGCTTACCAAGGCAACGATGCATAGCCGACCTGAGAGGGTGATCGGCCACACTGGAACTGAGACACGGT\n",
    "CCAGACTCCTACGGGAGGCAGCAGTAGGGAATCTTCCGCAATGGGCGAAAGCCTGACGGAGCAACGCCGC\n",
    "GTGAGTGATGAAGGTCTTCGGATCGTAAAACTCTGTTATTAGGGAAGAACATATGTGTAAGTAACTGTGC\n",
    "ACATCTTGACGGTACCTAATCAGAAAGCCACGGCTAACTACGTGCCAGCAGCCGCGGTAATACGTAGGTG\n",
    "GCAAGCGTTATCCGGAATTATTGGGCGTAAAGCGCGCGTAGGCGGTTTTTTAAGTCTGATGTGAAAGCCC\n",
    "ACGGCTCAACCGTGGAGGGTCATTGGAAACTGGAAAACTTGAGTGCAGAAGAGGAAAGTGGAATTCCATG\n",
    "TGTAGCGGTGAAATGCGCAGAGATATGGAGGAACACCAGTGGCGAAGGCGACTTTCTGGTCTGTAACTGA\n",
    "CGCTGATTGCGAAAGATCGC\n",
    "\n",
    "\n",
    ">A.baumannii_FM207520.1\n",
    "GCTGGCGGCAGGCTTAACACATGCAAGTCGAGCGGGGGAAGGTAGCTTGCTACTGGACCTAGCGGCGGAC\n",
    "GGGTGAGTAATGCTTAGGAATCTGCCTATTAGTGGGGGACAACATCTCGAAAGGGATGCTAATACCGCAT\n",
    "ACGTCCTACGGGAGAAAGCAGGGGATCTTCGGACCTTGCGCTAATAGATGAGCCTAAGTCGGATTAGCTA\n",
    "GTTGGTGGGGTAAAGGCCTACCAAGGCGACGATCTGTAGCGGGTCTGAGAGGATGATCCGCCACACTGGG\n",
    "ACTGAGACACGGCCCAGACTCCTACGGGAGGCAGCAGTGGGGAATATTGGACAATGGGGGGAACCCTGAT\n",
    "CCAGCCATGCCGCGTGTGTGAAGAAGGCCTTATGGTTGTAAAGCACTTTAAGCGAGGAGGAGGCTACTTT\n",
    "AGTTAATACCTAGAGATAGTGGACGTTACTCGCAGAATAAGCACCGGCTAACTCTGTGCCAGCAGCCGCG\n",
    "GTAATACAGAGGGTGCGAGCGTTAATCGGATTTACTGGGCGTAAAGCGTGCGTAGGCGGCTTATTAAGTC\n",
    "GGATGTGAAATCCCCGAGCTTAACTTGGGAATTGCATTCGATACTGGTGAGCTAGAGTATGGGAGAGGAT\n",
    "GGTAGAATTCCAGGTGTAGCGGTGAAATGCGTAGAGTCTGGAGGAATACCGATGGCGAAGGCAGCCATCT\n",
    "GGCCTAATACTGACGCTGAGGTACGAAAGCAGGGG\n"
   ]
  },
  {
   "cell_type": "markdown",
   "metadata": {
    "collapsed": true
   },
   "source": [
    "# Exploratory Data analysis"
   ]
  },
  {
   "cell_type": "markdown",
   "metadata": {},
   "source": [
    "If you were expecting summary statitstics and a graph here. Then you got it! What we are going to do here. Let's first count the number of bases per region in the different organisms."
   ]
  },
  {
   "cell_type": "markdown",
   "metadata": {},
   "source": [
    "Pseudocode:\n",
    "\n",
    "Find a way to import the bases to your notebook.\n",
    "\n",
    "Count the number of bases in each organism.\n",
    "\n",
    "Generate summary status especially the median.\n",
    "\n",
    "Draw a graph to see distribution of each nitrogenous base/base."
   ]
  },
  {
   "cell_type": "code",
   "execution_count": 1,
   "metadata": {
    "collapsed": false
   },
   "outputs": [],
   "source": [
    "import pyperclip"
   ]
  },
  {
   "cell_type": "code",
   "execution_count": 2,
   "metadata": {
    "collapsed": true
   },
   "outputs": [],
   "source": [
    "def import_nuc_segments ():\n",
    "    '''displays text copied onto clipboard and shows the result\n",
    "    Returns the text copied'''\n",
    "    organism = pyperclip.paste()\n",
    "    return (organism)"
   ]
  },
  {
   "cell_type": "code",
   "execution_count": 3,
   "metadata": {
    "collapsed": false
   },
   "outputs": [
    {
     "name": "stdout",
     "output_type": "stream",
     "text": [
      "CGGGGGGGTTTTTTTTTTTTAAGAGTTTTCCTCGTAGGATGAACGCTGGCGGCGTGCCTAATACATGCAA\n",
      "GTCGAGCGAACGGACGAGAAGCTTGCTTCTCTGATGTTAGCGGCGGACGGGTGAGTAACACGTGGATAAC\n",
      "CTACCTATAAGACTGGGATAACTTCGGGAAACCGGAGCTAATACCGGATAATATTTTGAACCGCATGGTT\n",
      "CAAAAGTGAAAGACGGTCTTGCTGTCACTTATAGATGGATCCGCGCTGCATTAGCTAGTTGGTAAGGTAA\n",
      "CGGCTTACCAAGGCAACGATGCATAGCCGACCTGAGAGGGTGATCGGCCACACTGGAACTGAGACACGGT\n",
      "CCAGACTCCTACGGGAGGCAGCAGTAGGGAATCTTCCGCAATGGGCGAAAGCCTGACGGAGCAACGCCGC\n",
      "GTGAGTGATGAAGGTCTTCGGATCGTAAAACTCTGTTATTAGGGAAGAACATATGTGTAAGTAACTGTGC\n",
      "ACATCTTGACGGTACCTAATCAGAAAGCCACGGCTAACTACGTGCCAGCAGCCGCGGTAATACGTAGGTG\n",
      "GCAAGCGTTATCCGGAATTATTGGGCGTAAAGCGCGCGTAGGCGGTTTTTTAAGTCTGATGTGAAAGCCC\n",
      "ACGGCTCAACCGTGGAGGGTCATTGGAAACTGGAAAACTTGAGTGCAGAAGAGGAAAGTGGAATTCCATG\n",
      "TGTAGCGGTGAAATGCGCAGAGATATGGAGGAACACCAGTGGCGAAGGCGACTTTCTGGTCTGTAACTGA\n",
      "CGCTGATTGCGAAAGATCGC\n"
     ]
    }
   ],
   "source": [
    "s_aureus = import_nuc_segments()\n",
    "print (s_aureus)"
   ]
  },
  {
   "cell_type": "code",
   "execution_count": 4,
   "metadata": {
    "collapsed": false
   },
   "outputs": [
    {
     "name": "stdout",
     "output_type": "stream",
     "text": [
      "GCTGGCGGCAGGCTTAACACATGCAAGTCGAGCGGGGGAAGGTAGCTTGCTACTGGACCTAGCGGCGGAC\n",
      "GGGTGAGTAATGCTTAGGAATCTGCCTATTAGTGGGGGACAACATCTCGAAAGGGATGCTAATACCGCAT\n",
      "ACGTCCTACGGGAGAAAGCAGGGGATCTTCGGACCTTGCGCTAATAGATGAGCCTAAGTCGGATTAGCTA\n",
      "GTTGGTGGGGTAAAGGCCTACCAAGGCGACGATCTGTAGCGGGTCTGAGAGGATGATCCGCCACACTGGG\n",
      "ACTGAGACACGGCCCAGACTCCTACGGGAGGCAGCAGTGGGGAATATTGGACAATGGGGGGAACCCTGAT\n",
      "CCAGCCATGCCGCGTGTGTGAAGAAGGCCTTATGGTTGTAAAGCACTTTAAGCGAGGAGGAGGCTACTTT\n",
      "AGTTAATACCTAGAGATAGTGGACGTTACTCGCAGAATAAGCACCGGCTAACTCTGTGCCAGCAGCCGCG\n",
      "GTAATACAGAGGGTGCGAGCGTTAATCGGATTTACTGGGCGTAAAGCGTGCGTAGGCGGCTTATTAAGTC\n",
      "GGATGTGAAATCCCCGAGCTTAACTTGGGAATTGCATTCGATACTGGTGAGCTAGAGTATGGGAGAGGAT\n",
      "GGTAGAATTCCAGGTGTAGCGGGAAATGCGTAGAGTCTGGAGGAATACCGATGGCGAAGGCAGCCATCT\n",
      "GGCCTAATACTGACGCTGAGGTACGAAAGCAGGGG\n"
     ]
    }
   ],
   "source": [
    "a_baumannii = import_nuc_segments()\n",
    "print (a_baumannii)"
   ]
  },
  {
   "cell_type": "code",
   "execution_count": 5,
   "metadata": {
    "collapsed": false
   },
   "outputs": [
    {
     "name": "stdout",
     "output_type": "stream",
     "text": [
      "TGCAGTCGAACGGTAACAGGAAGCAGCTTGCTGCTTTGCTGACGAGTGGCGGACGGGTGAGTAATGTCTG\n",
      "GGAAACTGCCTGATGGAGGGGGATAACTACTGGAAACGGTAGCTAATACCGCATAACGTCGCAAGACCAA\n",
      "AGAGGGGGACCTTCGGGCCTCTTGCCATCGGATGTGCCCAGATGGGATTAGCTAGTAGGTGGGGTAACGG\n",
      "CTCACCTAGGCGACGATCCCTAGCTGGTCTGAGAGGATGACCAGCCACACTGGAACTGAGACACGGTCCA\n",
      "GACTCCTACGGGAGGCAGCAGTGGGGAATATTGCACAATGGGCGCAAGCCTGATGCAGCCATGCCGCGTG\n",
      "TATGAAGAAGGCCTTCGGGTTGTAAAGTACTTTCAGCGGGGAGGAAGGGAGTAAAGTTAATACCTTTGCT\n",
      "CATTGACGTTACCCGCAGAAGAAGCACCGGCTAACTCCGTGCCAGCAGCCGCGGTAATACGGAGGGTGCA\n",
      "AGCGTTAATCGGAATTACTGGGCGTAAAGCGCACGCAGGCGGTTTGTTAAGTCAGATGTGAAATCCCCGG\n",
      "GCTCAACCTGGGAACTGCATCTGATACTGGCAAGCTTGAGTCTCGTAGAGGGGGGTAGAATTCCAGGTGT\n",
      "AGCGGTGAAATGCGTAGAGATCTGGAGGAATACCGGTGGCGAAGGCGGCCCCCTGGACGAAGACTGACGC\n",
      "TCAGGTGCGAAAGCGTGGGGAGCAAACAGGATTAGATACCCTGGTAGTCCACGCCGTAAACGATGTCGAC\n",
      "TTGGAGGTTGTGCCCTTGAGGCGTGGCTTCCGGAGCTAACGCGTTAAGTCGACCGCCTGGGGAGTACGGC\n",
      "CGCA\n"
     ]
    }
   ],
   "source": [
    "e_coli = import_nuc_segments()\n",
    "print (e_coli)"
   ]
  },
  {
   "cell_type": "code",
   "execution_count": 6,
   "metadata": {
    "collapsed": false
   },
   "outputs": [
    {
     "name": "stdout",
     "output_type": "stream",
     "text": [
      "CGAGCGGTAGCACAGAGAGCTTGCTCTCGGGTGACGAGCGGCGGACGGGTGAGTAATGTCTGGGAAACTG\n",
      "CCTGATGGAGGGGGATAACTACTGGAAACGGTAGCTAATACCGCATAACGTCGCAAGACCAAAGTGGGGG\n",
      "ACCTTCGGGCCTCATGCCATCAGATGTGCCCAGATGGGATTAGCTAGTAGGTGGGGTAACGGCTCACCTA\n",
      "GGCGACGATCCCTAGCTGGTCTGAGAGGATGACCAGCCACACTGGAACTGAGACACGGTCCAGACTCCTA\n",
      "CGGGAGGCAGCAGTGGGGAATATTGCACAATGGGCGCAAGCCTGATGCAAGCCATGCCGCGTGTGTGAAG\n",
      "AAGGCCTTCGGGTTGTAAAGCACTTTCAGCGGGGAGGAAGGCGATAAGGTTAATAACCTTGTCGATTGAC\n",
      "GTTACCCGCAGAAGAAGCCCCGGCTAACTCCGTGCCAGCAGCCGCGGTAATACGGAGGGTGCAAGCGTTA\n",
      "ATCGGAATTACTGGGCGTAAAGCGCACGCAGGCGGTCTGTCAAGTCGGATGTGAAATCCCCGGGCTCAAC\n",
      "CTGGGAACTGCATTCGAAACTGGCAGGCTAGAGTCTTGTAGAGGGGGGTAGAATTCCAGGTGTAGCGGTG\n",
      "AAATGCGTAGAGATCTGGAGGAATACCGGTGGCGAAGGCGGCCCCCTGG\n"
     ]
    }
   ],
   "source": [
    "k_pneumoniae = import_nuc_segments()\n",
    "print (k_pneumoniae)"
   ]
  },
  {
   "cell_type": "code",
   "execution_count": 7,
   "metadata": {
    "collapsed": false
   },
   "outputs": [
    {
     "name": "stdout",
     "output_type": "stream",
     "text": [
      "TACGGTTACCTTGTTACGACTTCACCCCAATCATCTATCCCACCTTAGGCGGCTGGCTCCTTACGGTTAC\n",
      "CTCACCGACTTCGGGTGTTACAAACTCTCGTGGTGTGACGGGCGGTGTGTACAAGGCCCGGGAACGTATT\n",
      "CACCGCGGCGTGCTGATCCGCGATTACTAGCGATTCCGACTTCATGTAGGCGAGTTGCAGCCTACAATCC\n",
      "GAACTGAGACTGGCTTTAAGAGATTAGCTTGCCGTCACCGGCTTGCGACTCGTTGTACCAGCCATTGTAG\n",
      "CACGTGTGTAGCCCAGGTCATAAGGGGCATGATGATTTGACGTCATCCCCACCTTCCTCCGGTTTATTAC\n",
      "CGGCAGTCTCGCTAGAGTGCCCAACTCAATGATGGCAACTAACAATAGGGGTTGCGCTCGTTGCGGGACT\n",
      "TAACCCAACATCTCACGACACGAGCTGACGACAACCATGCACCACCTGTCACCTCTGTCCCGAAGGAAAG\n",
      "CTCTATCTCTAGAGCGGTCAGAGGGATGTCAAGACCTGGTAAGGTTCTTCGCGTTGCTTCGAATTAAACC\n",
      "ACATGCTCCACCGCTTGTGCGGGCCCCCGTCAATTCCTTTGAGTTTCAACCTTGCGGTCGTACTCCCCAG\n",
      "GCGGAGTGCTTAATGCGTTAGCTACGGCACTAAACCCCGGAAAGGGTCTAACACCTAGCACTCATCGTTT\n",
      "ACGGCGTGGACTACCAGGGTATCTAATCCTGTTTGCTCCCCACGCTTTCGAGCCTCAGCGTCAGTTACAA\n",
      "GCCAGAGAGCCGCTTTCGCCACCGGTGTTCCTCCATATATCTACGCATTTCACCGCTACACATGGAATTC\n",
      "CACTCTCCCCTCTTGCACTCAAGTTAAACAGTTTCTAAAGCGTACTATGGTTAAGCCACAGCCTTTAACT\n",
      "TCAGACTTATCTAACCGCCTGCGGCTCGCTTTACGCCCAATAAATCCGGACAACGCTCGGGACCTACGTA\n",
      "TTACCGCGGCTGCTGGCACGTAGTTAGCCGTCCCTTTCTGGTAAGATACCGTCACAGTGTGAACTTTCCA\n",
      "CTCTCACACTCGTTCTTCTCTTACAACAGAGCTTTACGATCCGAAAACCTTCTTCACTCACGCGGCGTTG\n",
      "CTCGGTCAGACTTCCGTCCATTGCCGAAGATTCCCTACTGCTGCCTCCCGTAGGAGTCTGGGCCGTGTCT\n",
      "CAGTCCCAGTGTGGCCGATCACCCTCTCAGGTCGGCTATGTATCGTCGCCTTGGTGAGCCGTTACCCCAC\n",
      "CAACTAGCTAATACAACGCAGGTCCATCTGGTAGTGATGCAATTGCACCTTTCAAACAGTTGTCATACAA\n",
      "CAACTACTATTATGCGGTATTAGCTATCGTTTCCAATAGTTATCCCCCGCTACCAGGCAGGTTACCTACG\n",
      "CGTTACTCACCCGTTCGCAACTCATCCAGAGAAGCAAGCTCCTCCTTCAGCGTTCTACTTGCATGTATTA\n",
      "GGCACGCCGCCAGCGTTCGTCCTGAGCCAGAATCAAACTCTAATCGAATTCCCGCGGCCGCCATGGCGGC\n",
      "CGGAGCTGCRCTCGC\n"
     ]
    }
   ],
   "source": [
    "s_pneumoniae = import_nuc_segments()\n",
    "print (s_pneumoniae)"
   ]
  },
  {
   "cell_type": "code",
   "execution_count": 9,
   "metadata": {
    "collapsed": false
   },
   "outputs": [
    {
     "name": "stdout",
     "output_type": "stream",
     "text": [
      "TTTATGGAGAGTTTGATCCTGGCTCAGAGTGAACGCTGGCGGCGTGCCTAATACATGCAAGTCGAACGAT\n",
      "GAAGCTTCTAGCTTGCTAGAATGCTGATTAGTGGCGCACGGGTGAGTAACGCATAGGTCATGTGCCTCTT\n",
      "AGTTTGGGATAGCCATTGGAAACGATGATTAATACCAGATACTCCCTACGGGGGAAAGATTTATCGCTAA\n",
      "GAGATCAGCCTATGTCCTATCAGCTTGTTGGTAAGGTAATGGCTTACCAAGGCTATGACGGGTATCCGGC\n",
      "CTGAGAGGGTGAACGGACACACTGGAACTGAGACACGGTCCAGACTCCTACGGGAGGCAGCAGTAGGGAA\n",
      "TATTGCTCAATGGGGGAAACCCTGAAGCAGCAACGCCGCGTGGAGGATGAAGGTTTTAGGATTGTAAACT\n",
      "CCTTTTGTTAGAGAAGATAATGACGGTATCTAACGAATAAGCACCGGCTAACTCCGTGCCAGCAGCCGCG\n",
      "GTAATACGGAGGGTGCAAGCGTTACTCGGAATCACTGGGCGTAAAGAGCGCGTAGGCGGGATAGTCAGTC\n",
      "AGGTGTGAAATCCTATGGCTTAACCATAGAACTGCATTTGAAACTACTATTCTAGAGTGTGGGAGAGGTA\n",
      "GGTGGAATTCTTGGTGTAGGGGTAAAATCCGTAGAGATCAAGAGGAATACTCATTGCGAAGGCGACCTGC\n",
      "TGGAACATTACTGACGCTGATTGCGCGAAAGCGTGGGGAGCAAACAGGATTAGATACCCTGGTAGTCCAC\n",
      "GCCCTAAACGATGGATGCTAGTTGTTGGAGGGCTTAGTCTCTCCAGTAATGCAGCTAACGCATTAAGCAT\n",
      "CCCGCCTGGGGAGTACGGTCGCAAGATTAAAACTCAAAGGAATAGACGGGGACCCGCACAAGCGGTGGAG\n",
      "CATGTGGTTTAATTCGAAGATACACGAAGAACCTTACCTAGGCTTGACATTGAGAGAATCCGCTAGAAAT\n",
      "AGTGGAGTGTCTGGCTTGCTAGACCTTGAAAACAGGTGCTGCACGGCTGTCGTCAGCTCGTGTCGTGAGA\n",
      "TGTTGGGTTAAGTCCCGCAACGAGCGCAACCCCCTTTCTTAGTTGCTAACAGGTCATGCTGAGAACTCTA\n",
      "AGGATACTGCCTCCGTAAGGAGGAGGAAGGTGGGGACGACGTCAAGTCATCATGGCCCTTACGCCTAGGG\n",
      "CTACACACGTGCTACAATGGGGTGCACAAAGAGAAGCAATACTGCGAAGTGGAGTCAATCTTCAAAACAC\n",
      "CTCTCAGTTCGGATTGTAGGCTGCAACTCGCCTGCATGAAGCTGGAATCGCTAGTAATCGCAAATCAGCC\n",
      "ATGTTGCGGTGAATACGTTCCCGGGTCTTGTACTCACCGCCCGTCACACCATGGGAGTTGTGTTTGCCTT\n",
      "AAGTCAGGATGCTAAATTGGCTACTGCCCACGGCACACACAGCGACTGGGGTGAAGTCGTAACAAGGTAA\n",
      "CCGTAGGTGAACCTGCGGCTGGATCACCTCCTT\n"
     ]
    }
   ],
   "source": [
    "h_pylori = import_nuc_segments()\n",
    "print (h_pylori)"
   ]
  },
  {
   "cell_type": "markdown",
   "metadata": {},
   "source": [
    "We already know then length of each sequence. Let's proceed to the next step. Counting each base for the different organisms."
   ]
  },
  {
   "cell_type": "code",
   "execution_count": 10,
   "metadata": {
    "collapsed": true
   },
   "outputs": [],
   "source": [
    "from collections import Counter"
   ]
  },
  {
   "cell_type": "code",
   "execution_count": 11,
   "metadata": {
    "collapsed": false
   },
   "outputs": [],
   "source": [
    "def count_nucleotide (organismbases):\n",
    "    '''A function that takes a string of letters e.g ATCG, computes the number of bases, \n",
    "    sum of the bases and the most common bases provided.'''\n",
    "    organismbases = organismbases.replace('\\n', '') # removing newline characters\n",
    "    count_base = Counter(organismbases) # count each base\n",
    "    most_comm_base = count_base.most_common(2) # method to display the 2 most common bases\n",
    "    print (\"The three results are the number of each nucleotide, sum of all nucleotides and the 2 most common bases found.\")\n",
    "    return count_base, sum(count_base.values()),most_comm_base # cumulating the results "
   ]
  },
  {
   "cell_type": "code",
   "execution_count": 12,
   "metadata": {
    "collapsed": false
   },
   "outputs": [
    {
     "name": "stdout",
     "output_type": "stream",
     "text": [
      "The three results are the number of each nucleotide, sum of all nucleotides and the 2 most common bases found.\n",
      "(Counter({'G': 239, 'A': 213, 'T': 178, 'C': 160}), 790, [('G', 239), ('A', 213)])\n"
     ]
    }
   ],
   "source": [
    "print (count_nucleotide(s_aureus)) "
   ]
  },
  {
   "cell_type": "code",
   "execution_count": 13,
   "metadata": {
    "collapsed": false
   },
   "outputs": [
    {
     "name": "stdout",
     "output_type": "stream",
     "text": [
      "The three results are the number of each nucleotide, sum of all nucleotides and the 2 most common bases found.\n",
      "(Counter({'G': 246, 'A': 190, 'T': 151, 'C': 147}), 734, [('G', 246), ('A', 190)])\n"
     ]
    }
   ],
   "source": [
    "print(count_nucleotide(a_baumannii))"
   ]
  },
  {
   "cell_type": "code",
   "execution_count": 14,
   "metadata": {
    "collapsed": false
   },
   "outputs": [
    {
     "name": "stdout",
     "output_type": "stream",
     "text": [
      "The three results are the number of each nucleotide, sum of all nucleotides and the 2 most common bases found.\n",
      "(Counter({'G': 283, 'A': 207, 'C': 191, 'T': 163}), 844, [('G', 283), ('A', 207)])\n"
     ]
    }
   ],
   "source": [
    "print(count_nucleotide(e_coli))"
   ]
  },
  {
   "cell_type": "code",
   "execution_count": 15,
   "metadata": {
    "collapsed": false
   },
   "outputs": [
    {
     "name": "stdout",
     "output_type": "stream",
     "text": [
      "The three results are the number of each nucleotide, sum of all nucleotides and the 2 most common bases found.\n",
      "(Counter({'G': 434, 'A': 401, 'T': 342, 'C': 326}), 1503, [('G', 434), ('A', 401)])\n"
     ]
    }
   ],
   "source": [
    "print (count_nucleotide(h_pylori))"
   ]
  },
  {
   "cell_type": "code",
   "execution_count": 16,
   "metadata": {
    "collapsed": false
   },
   "outputs": [
    {
     "name": "stdout",
     "output_type": "stream",
     "text": [
      "The three results are the number of each nucleotide, sum of all nucleotides and the 2 most common bases found.\n",
      "(Counter({'C': 481, 'T': 394, 'G': 345, 'A': 334, 'R': 1}), 1555, [('C', 481), ('T', 394)])\n"
     ]
    }
   ],
   "source": [
    "print(count_nucleotide(s_pneumoniae))\n",
    "# Ignore the \"R\" for now"
   ]
  },
  {
   "cell_type": "code",
   "execution_count": 17,
   "metadata": {
    "collapsed": false
   },
   "outputs": [
    {
     "name": "stdout",
     "output_type": "stream",
     "text": [
      "The three results are the number of each nucleotide, sum of all nucleotides and the 2 most common bases found.\n",
      "(Counter({'G': 232, 'A': 168, 'C': 155, 'T': 124}), 679, [('G', 232), ('A', 168)])\n"
     ]
    }
   ],
   "source": [
    "print(count_nucleotide(k_pneumoniae))"
   ]
  },
  {
   "cell_type": "markdown",
   "metadata": {},
   "source": [
    "Interesting. Check the abundances of \"G\" and \"A\" they are the most common in almost every sequence, we've imported. Intially, while i was mindmapping writing this i wanted to use GC content. Now, i wanna use GA content. Not all organisms have the more GA notice *S.pneumoniae* is CT. Since our sequences differ in length which we will confirm later. Let's do more summary statistics and draw a graph."
   ]
  },
  {
   "cell_type": "code",
   "execution_count": 18,
   "metadata": {
    "collapsed": false
   },
   "outputs": [
    {
     "name": "stdout",
     "output_type": "stream",
     "text": [
      "median nucleotide content 817.0\n",
      "mean nucleotide content 1017.6666666666666\n"
     ]
    }
   ],
   "source": [
    "import numpy as np\n",
    "nuc_length = [790,735,844,679,1555,1503]\n",
    "print(\"median nucleotide content\" + \" \" + str(np.median(nuc_length)))\n",
    "print(\"mean nucleotide content\" + \" \" + str(np.mean(nuc_length)))\n",
    "\n",
    "# working with small length of the sequence, we know that already"
   ]
  },
  {
   "cell_type": "code",
   "execution_count": 19,
   "metadata": {
    "collapsed": true
   },
   "outputs": [],
   "source": [
    "import pandas as pd"
   ]
  },
  {
   "cell_type": "code",
   "execution_count": 20,
   "metadata": {
    "collapsed": false
   },
   "outputs": [
    {
     "name": "stdout",
     "output_type": "stream",
     "text": [
      "   A.baumanii  E.coli  H.pylori  K.pneumoniae  S.aureus  S.pneumoniae\n",
      "G         246     283       434           232       239           345\n",
      "A         190     207       401           168       213           334\n",
      "T         151     163       342           124       178           394\n",
      "C         147     191       326           155       160           481\n",
      "\n",
      "     A    C    G    T      organism\n",
      "0  190  147  246  151    A.baumanii\n",
      "1  207  191  283  163        E.coli\n",
      "2  401  326  434  342      H.pylori\n",
      "3  168  155  232  124  K.pneumoniae\n",
      "4  213  160  239  178      S.aureus\n",
      "5  334  481  345  394  S.pneumoniae\n"
     ]
    }
   ],
   "source": [
    "# Make a dataframe to use in the subsequent steps of the analysis\n",
    "df = pd.DataFrame({\"S.aureus\": [239, 213, 178, 160],\n",
    "                   \"A.baumanii\": [246, 190, 151, 147],\n",
    "                   \"E.coli\": [283, 207, 163, 191],\n",
    "                   \"K.pneumoniae\": [232, 168, 124, 155],\n",
    "                   \"S.pneumoniae\": [345, 334, 394, 481],\n",
    "                   \"H.pylori\": [434, 401, 342, 326]}, index = [\"G\", \"A\", \"T\", \"C\"])\n",
    "\n",
    "# A different version of the above dataframe\n",
    "df2 = pd.DataFrame({\"G\":[246,283,434,232,239,345],\n",
    "                    \"A\":[190,207,401,168,213,334],\n",
    "                    \"T\":[151,163,342,124,178,394],\n",
    "                    \"C\":[147,191,326,155,160,481],\n",
    "                    \"organism\":[\"A.baumanii\",\"E.coli\",\"H.pylori\",\"K.pneumoniae\"\n",
    "                                ,\"S.aureus\",\"S.pneumoniae\"]})\n",
    "\n",
    "print (df)\n",
    "print (\"\")\n",
    "print (df2)"
   ]
  },
  {
   "cell_type": "code",
   "execution_count": 21,
   "metadata": {
    "collapsed": false
   },
   "outputs": [],
   "source": [
    "# get the appropriate bases to count\n",
    "# cs\n",
    "def gc_content(seq):\n",
    "    '''gc_content takes a sequence of characters\n",
    "    counts the number of Cs and Gs within in the sequence\n",
    "    returns (g+c)/(number of all characters) * 100 - percentage'''\n",
    "    gc = (seq.count(\"C\") + seq.count(\"G\")) / (len(seq)) * 100\n",
    "    return gc\n",
    "\n",
    "def ga_content(seq):\n",
    "    '''ga_content takes a sequence of characters counts the number of Gs and As\n",
    "    within the sequence\n",
    "    returns (g+a)/(number of all characters) * 100 - percentage'''\n",
    "    ga = (seq.count(\"G\") + seq.count(\"A\")) / (len(seq))  * 100\n",
    "    return ga"
   ]
  },
  {
   "cell_type": "code",
   "execution_count": 22,
   "metadata": {
    "collapsed": false
   },
   "outputs": [],
   "source": [
    "# applying the function to each sequence we imported for the different organisms\n",
    "gc_a_baumanii = gc_content(a_baumannii)\n",
    "gc_e_coli = gc_content(e_coli)\n",
    "gc_h_pylori = gc_content(h_pylori)\n",
    "gc_k_pneumoniae = gc_content(k_pneumoniae)\n",
    "gc_s_aureus = gc_content(s_aureus)\n",
    "gc_s_pneumoniae = gc_content(s_pneumoniae)"
   ]
  },
  {
   "cell_type": "code",
   "execution_count": 23,
   "metadata": {
    "collapsed": false
   },
   "outputs": [],
   "source": [
    "# Do the same thing to each\n",
    "ga_a_baumanii = ga_content(a_baumannii)\n",
    "ga_e_coli = ga_content(e_coli)\n",
    "ga_h_pylori = ga_content(h_pylori)\n",
    "ga_k_pneumoniae = ga_content(k_pneumoniae)\n",
    "ga_s_aureus = ga_content(s_aureus)\n",
    "ga_s_pneumoniae = ga_content(s_pneumoniae)"
   ]
  },
  {
   "cell_type": "code",
   "execution_count": 24,
   "metadata": {
    "collapsed": false
   },
   "outputs": [],
   "source": [
    "# make new columns to populate the dataframe with appropriate contents : GC and GA\n",
    "df2.insert(loc=4, column='GC_content', value=[gc_a_baumanii, gc_e_coli, gc_h_pylori, gc_k_pneumoniae, gc_s_aureus\n",
    "                                           ,gc_s_pneumoniae]) \n",
    "\n",
    "df2.insert(loc=5, column='GA_content', value=[ga_a_baumanii, ga_e_coli, ga_h_pylori, ga_k_pneumoniae, ga_s_aureus,\n",
    "                                              ga_s_pneumoniae])"
   ]
  },
  {
   "cell_type": "code",
   "execution_count": 25,
   "metadata": {
    "collapsed": false
   },
   "outputs": [
    {
     "name": "stdout",
     "output_type": "stream",
     "text": [
      "     A    C    G    T  GC_content  GA_content      organism\n",
      "0  190  147  246  151   52.822581   58.602151    A.baumanii\n",
      "1  207  191  283  163   55.373832   57.242991        E.coli\n",
      "2  401  326  434  342   49.868766   54.790026      H.pylori\n",
      "3  168  155  232  124   56.250000   58.139535  K.pneumoniae\n",
      "4  213  160  239  178   49.812734   56.429463      S.aureus\n",
      "5  334  481  345  394   52.377933   43.056436  S.pneumoniae\n"
     ]
    }
   ],
   "source": [
    "# confirmation\n",
    "print (df2)"
   ]
  },
  {
   "cell_type": "code",
   "execution_count": 26,
   "metadata": {
    "collapsed": false
   },
   "outputs": [
    {
     "name": "stdout",
     "output_type": "stream",
     "text": [
      "\n",
      "<class 'pandas.core.frame.DataFrame'>\n",
      "\n",
      "   GC_content  GA_content\n",
      "0   52.822581   58.602151\n",
      "1   55.373832   57.242991\n",
      "2   49.868766   54.790026\n",
      "3   56.250000   58.139535\n",
      "4   49.812734   56.429463\n",
      "5   52.377933   43.056436\n"
     ]
    }
   ],
   "source": [
    "# for clustering\n",
    "content_nuc = df2[[\"GC_content\",\"GA_content\"]]\n",
    "\n",
    "print (\"\")\n",
    "print(type(content_nuc))\n",
    "print (\"\")\n",
    "print (content_nuc)"
   ]
  },
  {
   "cell_type": "markdown",
   "metadata": {},
   "source": [
    "Now that we've made preparations to our data. We can proceed to do the next step. Which was \"Draw a graph to see distribution of each base\"."
   ]
  },
  {
   "cell_type": "code",
   "execution_count": 27,
   "metadata": {
    "collapsed": false
   },
   "outputs": [],
   "source": [
    "from bokeh.plotting import figure\n",
    "from bokeh.io import output_notebook, show\n",
    "from bokeh.charts import Bar\n",
    "import matplotlib.pyplot as plt\n",
    "import seaborn as sns\n",
    "from bokeh.models.widgets import Tabs, Panel\n",
    "from bokeh.layouts import column, row\n",
    "from bokeh.palettes import Spectral5"
   ]
  },
  {
   "cell_type": "code",
   "execution_count": 28,
   "metadata": {
    "collapsed": false
   },
   "outputs": [],
   "source": [
    "# draw all the bar plots\n",
    "p = Bar(df2, label = 'organism', values=\"A\",agg =\"sum\", color=\"organism\",plot_width=450)\n",
    "p2 = Bar(df2, label = 'organism', values=\"T\",agg =\"sum\", color=\"organism\",plot_width=450)\n",
    "p3 = Bar(df2, label = 'organism', values=\"C\",agg =\"sum\", color=\"organism\",plot_width=450)\n",
    "p4 = Bar(df2, label = 'organism', values=\"G\",agg =\"sum\", color=\"organism\",plot_width=450)\n",
    "\n",
    "# make a Panels to store the plot objects: check out the docs in the references.txt\n",
    "first_second = Panel(child=row(p,p2), title = \"A and T\")\n",
    "third_fourth = Panel(child=row(p3,p4), title = \"C and G\")\n",
    "\n",
    "# make tabs like the ones you use in browsers\n",
    "tabs = Tabs(tabs=[first_second, third_fourth])"
   ]
  },
  {
   "cell_type": "code",
   "execution_count": 29,
   "metadata": {
    "collapsed": false
   },
   "outputs": [
    {
     "data": {
      "text/html": [
       "\n",
       "    <div class=\"bk-root\">\n",
       "        <a href=\"http://bokeh.pydata.org\" target=\"_blank\" class=\"bk-logo bk-logo-small bk-logo-notebook\"></a>\n",
       "        <span id=\"1a5f4f1b-2fc1-4cf0-b633-aeb6aea625cd\">Loading BokehJS ...</span>\n",
       "    </div>"
      ]
     },
     "metadata": {},
     "output_type": "display_data"
    },
    {
     "data": {
      "application/javascript": [
       "\n",
       "(function(global) {\n",
       "  function now() {\n",
       "    return new Date();\n",
       "  }\n",
       "\n",
       "  var force = \"1\";\n",
       "\n",
       "  if (typeof (window._bokeh_onload_callbacks) === \"undefined\" || force !== \"\") {\n",
       "    window._bokeh_onload_callbacks = [];\n",
       "    window._bokeh_is_loading = undefined;\n",
       "  }\n",
       "\n",
       "\n",
       "  \n",
       "  if (typeof (window._bokeh_timeout) === \"undefined\" || force !== \"\") {\n",
       "    window._bokeh_timeout = Date.now() + 5000;\n",
       "    window._bokeh_failed_load = false;\n",
       "  }\n",
       "\n",
       "  var NB_LOAD_WARNING = {'data': {'text/html':\n",
       "     \"<div style='background-color: #fdd'>\\n\"+\n",
       "     \"<p>\\n\"+\n",
       "     \"BokehJS does not appear to have successfully loaded. If loading BokehJS from CDN, this \\n\"+\n",
       "     \"may be due to a slow or bad network connection. Possible fixes:\\n\"+\n",
       "     \"</p>\\n\"+\n",
       "     \"<ul>\\n\"+\n",
       "     \"<li>re-rerun `output_notebook()` to attempt to load from CDN again, or</li>\\n\"+\n",
       "     \"<li>use INLINE resources instead, as so:</li>\\n\"+\n",
       "     \"</ul>\\n\"+\n",
       "     \"<code>\\n\"+\n",
       "     \"from bokeh.resources import INLINE\\n\"+\n",
       "     \"output_notebook(resources=INLINE)\\n\"+\n",
       "     \"</code>\\n\"+\n",
       "     \"</div>\"}};\n",
       "\n",
       "  function display_loaded() {\n",
       "    if (window.Bokeh !== undefined) {\n",
       "      Bokeh.$(\"#1a5f4f1b-2fc1-4cf0-b633-aeb6aea625cd\").text(\"BokehJS successfully loaded.\");\n",
       "    } else if (Date.now() < window._bokeh_timeout) {\n",
       "      setTimeout(display_loaded, 100)\n",
       "    }\n",
       "  }\n",
       "\n",
       "  function run_callbacks() {\n",
       "    window._bokeh_onload_callbacks.forEach(function(callback) { callback() });\n",
       "    delete window._bokeh_onload_callbacks\n",
       "    console.info(\"Bokeh: all callbacks have finished\");\n",
       "  }\n",
       "\n",
       "  function load_libs(js_urls, callback) {\n",
       "    window._bokeh_onload_callbacks.push(callback);\n",
       "    if (window._bokeh_is_loading > 0) {\n",
       "      console.log(\"Bokeh: BokehJS is being loaded, scheduling callback at\", now());\n",
       "      return null;\n",
       "    }\n",
       "    if (js_urls == null || js_urls.length === 0) {\n",
       "      run_callbacks();\n",
       "      return null;\n",
       "    }\n",
       "    console.log(\"Bokeh: BokehJS not loaded, scheduling load and callback at\", now());\n",
       "    window._bokeh_is_loading = js_urls.length;\n",
       "    for (var i = 0; i < js_urls.length; i++) {\n",
       "      var url = js_urls[i];\n",
       "      var s = document.createElement('script');\n",
       "      s.src = url;\n",
       "      s.async = false;\n",
       "      s.onreadystatechange = s.onload = function() {\n",
       "        window._bokeh_is_loading--;\n",
       "        if (window._bokeh_is_loading === 0) {\n",
       "          console.log(\"Bokeh: all BokehJS libraries loaded\");\n",
       "          run_callbacks()\n",
       "        }\n",
       "      };\n",
       "      s.onerror = function() {\n",
       "        console.warn(\"failed to load library \" + url);\n",
       "      };\n",
       "      console.log(\"Bokeh: injecting script tag for BokehJS library: \", url);\n",
       "      document.getElementsByTagName(\"head\")[0].appendChild(s);\n",
       "    }\n",
       "  };var element = document.getElementById(\"1a5f4f1b-2fc1-4cf0-b633-aeb6aea625cd\");\n",
       "  if (element == null) {\n",
       "    console.log(\"Bokeh: ERROR: autoload.js configured with elementid '1a5f4f1b-2fc1-4cf0-b633-aeb6aea625cd' but no matching script tag was found. \")\n",
       "    return false;\n",
       "  }\n",
       "\n",
       "  var js_urls = ['https://cdn.pydata.org/bokeh/release/bokeh-0.12.2.min.js', 'https://cdn.pydata.org/bokeh/release/bokeh-widgets-0.12.2.min.js', 'https://cdn.pydata.org/bokeh/release/bokeh-compiler-0.12.2.min.js'];\n",
       "\n",
       "  var inline_js = [\n",
       "    function(Bokeh) {\n",
       "      Bokeh.set_log_level(\"info\");\n",
       "    },\n",
       "    \n",
       "    function(Bokeh) {\n",
       "      \n",
       "      Bokeh.$(\"#1a5f4f1b-2fc1-4cf0-b633-aeb6aea625cd\").text(\"BokehJS is loading...\");\n",
       "\n",
       "    },\n",
       "    function(Bokeh) {\n",
       "      console.log(\"Bokeh: injecting CSS: https://cdn.pydata.org/bokeh/release/bokeh-0.12.2.min.css\");\n",
       "      Bokeh.embed.inject_css(\"https://cdn.pydata.org/bokeh/release/bokeh-0.12.2.min.css\");\n",
       "      console.log(\"Bokeh: injecting CSS: https://cdn.pydata.org/bokeh/release/bokeh-widgets-0.12.2.min.css\");\n",
       "      Bokeh.embed.inject_css(\"https://cdn.pydata.org/bokeh/release/bokeh-widgets-0.12.2.min.css\");\n",
       "    }\n",
       "  ];\n",
       "\n",
       "  function run_inline_js() {\n",
       "    \n",
       "    if ((window.Bokeh !== undefined) || (force === \"1\")) {\n",
       "      for (var i = 0; i < inline_js.length; i++) {\n",
       "        inline_js[i](window.Bokeh);\n",
       "      }if (force === \"1\") {\n",
       "        display_loaded();\n",
       "      }} else if (Date.now() < window._bokeh_timeout) {\n",
       "      setTimeout(run_inline_js, 100);\n",
       "    } else if (!window._bokeh_failed_load) {\n",
       "      console.log(\"Bokeh: BokehJS failed to load within specified timeout.\");\n",
       "      window._bokeh_failed_load = true;\n",
       "    } else if (!force) {\n",
       "      var cell = $(\"#1a5f4f1b-2fc1-4cf0-b633-aeb6aea625cd\").parents('.cell').data().cell;\n",
       "      cell.output_area.append_execute_result(NB_LOAD_WARNING)\n",
       "    }\n",
       "\n",
       "  }\n",
       "\n",
       "  if (window._bokeh_is_loading === 0) {\n",
       "    console.log(\"Bokeh: BokehJS loaded, going straight to plotting\");\n",
       "    run_inline_js();\n",
       "  } else {\n",
       "    load_libs(js_urls, function() {\n",
       "      console.log(\"Bokeh: BokehJS plotting callback run at\", now());\n",
       "      run_inline_js();\n",
       "    });\n",
       "  }\n",
       "}(this));"
      ]
     },
     "metadata": {},
     "output_type": "display_data"
    },
    {
     "data": {
      "text/html": [
       "\n",
       "\n",
       "    <div class=\"bk-root\">\n",
       "        <div class=\"plotdiv\" id=\"45fa6a70-8b25-4af9-b4e1-0192c55049ac\"></div>\n",
       "    </div>\n",
       "<script type=\"text/javascript\">\n",
       "  \n",
       "  (function(global) {\n",
       "    function now() {\n",
       "      return new Date();\n",
       "    }\n",
       "\n",
       "    var force = \"\";\n",
       "\n",
       "    if (typeof (window._bokeh_onload_callbacks) === \"undefined\" || force !== \"\") {\n",
       "      window._bokeh_onload_callbacks = [];\n",
       "      window._bokeh_is_loading = undefined;\n",
       "    }\n",
       "\n",
       "\n",
       "    \n",
       "    if (typeof (window._bokeh_timeout) === \"undefined\" || force !== \"\") {\n",
       "      window._bokeh_timeout = Date.now() + 0;\n",
       "      window._bokeh_failed_load = false;\n",
       "    }\n",
       "\n",
       "    var NB_LOAD_WARNING = {'data': {'text/html':\n",
       "       \"<div style='background-color: #fdd'>\\n\"+\n",
       "       \"<p>\\n\"+\n",
       "       \"BokehJS does not appear to have successfully loaded. If loading BokehJS from CDN, this \\n\"+\n",
       "       \"may be due to a slow or bad network connection. Possible fixes:\\n\"+\n",
       "       \"</p>\\n\"+\n",
       "       \"<ul>\\n\"+\n",
       "       \"<li>re-rerun `output_notebook()` to attempt to load from CDN again, or</li>\\n\"+\n",
       "       \"<li>use INLINE resources instead, as so:</li>\\n\"+\n",
       "       \"</ul>\\n\"+\n",
       "       \"<code>\\n\"+\n",
       "       \"from bokeh.resources import INLINE\\n\"+\n",
       "       \"output_notebook(resources=INLINE)\\n\"+\n",
       "       \"</code>\\n\"+\n",
       "       \"</div>\"}};\n",
       "\n",
       "    function display_loaded() {\n",
       "      if (window.Bokeh !== undefined) {\n",
       "        Bokeh.$(\"#45fa6a70-8b25-4af9-b4e1-0192c55049ac\").text(\"BokehJS successfully loaded.\");\n",
       "      } else if (Date.now() < window._bokeh_timeout) {\n",
       "        setTimeout(display_loaded, 100)\n",
       "      }\n",
       "    }\n",
       "\n",
       "    function run_callbacks() {\n",
       "      window._bokeh_onload_callbacks.forEach(function(callback) { callback() });\n",
       "      delete window._bokeh_onload_callbacks\n",
       "      console.info(\"Bokeh: all callbacks have finished\");\n",
       "    }\n",
       "\n",
       "    function load_libs(js_urls, callback) {\n",
       "      window._bokeh_onload_callbacks.push(callback);\n",
       "      if (window._bokeh_is_loading > 0) {\n",
       "        console.log(\"Bokeh: BokehJS is being loaded, scheduling callback at\", now());\n",
       "        return null;\n",
       "      }\n",
       "      if (js_urls == null || js_urls.length === 0) {\n",
       "        run_callbacks();\n",
       "        return null;\n",
       "      }\n",
       "      console.log(\"Bokeh: BokehJS not loaded, scheduling load and callback at\", now());\n",
       "      window._bokeh_is_loading = js_urls.length;\n",
       "      for (var i = 0; i < js_urls.length; i++) {\n",
       "        var url = js_urls[i];\n",
       "        var s = document.createElement('script');\n",
       "        s.src = url;\n",
       "        s.async = false;\n",
       "        s.onreadystatechange = s.onload = function() {\n",
       "          window._bokeh_is_loading--;\n",
       "          if (window._bokeh_is_loading === 0) {\n",
       "            console.log(\"Bokeh: all BokehJS libraries loaded\");\n",
       "            run_callbacks()\n",
       "          }\n",
       "        };\n",
       "        s.onerror = function() {\n",
       "          console.warn(\"failed to load library \" + url);\n",
       "        };\n",
       "        console.log(\"Bokeh: injecting script tag for BokehJS library: \", url);\n",
       "        document.getElementsByTagName(\"head\")[0].appendChild(s);\n",
       "      }\n",
       "    };var element = document.getElementById(\"45fa6a70-8b25-4af9-b4e1-0192c55049ac\");\n",
       "    if (element == null) {\n",
       "      console.log(\"Bokeh: ERROR: autoload.js configured with elementid '45fa6a70-8b25-4af9-b4e1-0192c55049ac' but no matching script tag was found. \")\n",
       "      return false;\n",
       "    }\n",
       "\n",
       "    var js_urls = [];\n",
       "\n",
       "    var inline_js = [\n",
       "      function(Bokeh) {\n",
       "        Bokeh.$(function() {\n",
       "            var docs_json = {\"bc1f12b9-bdac-4361-b724-9020db35ed12\":{\"roots\":{\"references\":[{\"attributes\":{\"callback\":null,\"end\":455.7},\"id\":\"8439e55d-f99e-4db9-a1b6-44a195ed93f0\",\"type\":\"Range1d\"},{\"attributes\":{\"callback\":null,\"column_names\":[\"line_alpha\",\"height\",\"label\",\"width\",\"line_color\",\"fill_alpha\",\"color\",\"y\",\"x\"],\"data\":{\"chart_index\":[{\"organism\":\"E.coli\"}],\"color\":[\"#5ab738\"],\"fill_alpha\":[0.8],\"height\":[283.0],\"label\":[{\"organism\":\"E.coli\"}],\"line_alpha\":[1.0],\"line_color\":[\"white\"],\"organism\":[\"E.coli\"],\"width\":[0.8],\"x\":[\"E.coli\"],\"y\":[141.5]}},\"id\":\"dad08a74-8ca1-4256-a8be-e913bc725616\",\"type\":\"ColumnDataSource\"},{\"attributes\":{\"active_drag\":\"auto\",\"active_scroll\":\"auto\",\"active_tap\":\"auto\",\"tools\":[{\"id\":\"3ba48f58-920d-467b-80f8-1af2a3da5631\",\"type\":\"PanTool\"},{\"id\":\"69c1e130-e8cb-4668-b46c-7f11d8604ca4\",\"type\":\"WheelZoomTool\"},{\"id\":\"f8ec3f05-b721-4cbd-8442-16475262b881\",\"type\":\"BoxZoomTool\"},{\"id\":\"b7fae040-ef8e-4088-a254-67b6a0a8417b\",\"type\":\"SaveTool\"},{\"id\":\"11f9b007-5ab8-4e33-871f-b901a46f6c75\",\"type\":\"ResetTool\"},{\"id\":\"b6d8e468-3d2c-4d84-bded-c7b17c5c7078\",\"type\":\"HelpTool\"}]},\"id\":\"d5c87486-9560-404d-b691-8f544b591d41\",\"type\":\"Toolbar\"},{\"attributes\":{\"overlay\":{\"id\":\"e1ddec84-d412-45f1-b9f4-95f92f02bb8f\",\"type\":\"BoxAnnotation\"},\"plot\":{\"id\":\"324ce08e-c98c-45dc-86a4-c7b504215545\",\"subtype\":\"Chart\",\"type\":\"Plot\"}},\"id\":\"6c667e04-ef37-4350-b9a9-be38ce692b02\",\"type\":\"BoxZoomTool\"},{\"attributes\":{\"below\":[{\"id\":\"69e981b0-1218-49b4-85a9-a9eb1c61d346\",\"type\":\"CategoricalAxis\"}],\"left\":[{\"id\":\"e39f9faf-d923-42a3-a4dd-588e4c3af57c\",\"type\":\"LinearAxis\"}],\"plot_width\":450,\"renderers\":[{\"id\":\"95284a44-9bd3-460c-ae30-c7272f85b22e\",\"type\":\"BoxAnnotation\"},{\"id\":\"a75e238f-5574-4c6f-814e-63758c5ede6f\",\"type\":\"GlyphRenderer\"},{\"id\":\"f4c4b881-b5a2-4f5e-9b62-4bd518d09f77\",\"type\":\"GlyphRenderer\"},{\"id\":\"70fdf641-e9e5-475b-b407-befaabcfd8a2\",\"type\":\"GlyphRenderer\"},{\"id\":\"a2a63a28-ddfc-4954-8009-5052850c9bef\",\"type\":\"GlyphRenderer\"},{\"id\":\"b96f6b69-5d2d-4c99-a640-4ca36fd986d7\",\"type\":\"GlyphRenderer\"},{\"id\":\"e825edb0-52d3-48d6-8519-41fabeb6a263\",\"type\":\"GlyphRenderer\"},{\"id\":\"05b3a0c0-def9-4cfa-ba60-3c69f6040c57\",\"type\":\"Legend\"},{\"id\":\"69e981b0-1218-49b4-85a9-a9eb1c61d346\",\"type\":\"CategoricalAxis\"},{\"id\":\"e39f9faf-d923-42a3-a4dd-588e4c3af57c\",\"type\":\"LinearAxis\"},{\"id\":\"a8a85677-525c-43f3-857d-9792fbbd1aa4\",\"type\":\"Grid\"}],\"title\":{\"id\":\"1591782e-c256-42b0-b4bb-de939ad0c5f6\",\"type\":\"Title\"},\"tool_events\":{\"id\":\"8c221b99-f4fc-4398-afd5-15332e74cc81\",\"type\":\"ToolEvents\"},\"toolbar\":{\"id\":\"c778e6cc-b4d4-4e6d-b114-234d4618e21d\",\"type\":\"Toolbar\"},\"x_mapper_type\":\"auto\",\"x_range\":{\"id\":\"be854c63-168e-46a3-915e-d02f3ced4833\",\"type\":\"FactorRange\"},\"y_mapper_type\":\"auto\",\"y_range\":{\"id\":\"c2530738-13b0-4faf-977e-980aeffde704\",\"type\":\"Range1d\"}},\"id\":\"cd157803-d4a3-496e-86e0-31a1b31d5c2c\",\"subtype\":\"Chart\",\"type\":\"Plot\"},{\"attributes\":{\"fill_alpha\":{\"field\":\"fill_alpha\"},\"fill_color\":{\"field\":\"color\"},\"height\":{\"field\":\"height\",\"units\":\"data\"},\"line_color\":{\"field\":\"line_color\"},\"width\":{\"field\":\"width\",\"units\":\"data\"},\"x\":{\"field\":\"x\"},\"y\":{\"field\":\"y\"}},\"id\":\"576dacf1-1b39-4007-b12a-0e4831a6e7cf\",\"type\":\"Rect\"},{\"attributes\":{\"plot\":{\"id\":\"cd157803-d4a3-496e-86e0-31a1b31d5c2c\",\"subtype\":\"Chart\",\"type\":\"Plot\"}},\"id\":\"bdbd0dba-b809-408f-aff7-207b60b40071\",\"type\":\"ResetTool\"},{\"attributes\":{\"fill_alpha\":{\"field\":\"fill_alpha\"},\"fill_color\":{\"field\":\"color\"},\"height\":{\"field\":\"height\",\"units\":\"data\"},\"line_color\":{\"field\":\"line_color\"},\"width\":{\"field\":\"width\",\"units\":\"data\"},\"x\":{\"field\":\"x\"},\"y\":{\"field\":\"y\"}},\"id\":\"6ba44f7a-3577-4373-bbd9-0623a6c83a7a\",\"type\":\"Rect\"},{\"attributes\":{\"fill_alpha\":{\"field\":\"fill_alpha\"},\"fill_color\":{\"field\":\"color\"},\"height\":{\"field\":\"height\",\"units\":\"data\"},\"line_color\":{\"field\":\"line_color\"},\"width\":{\"field\":\"width\",\"units\":\"data\"},\"x\":{\"field\":\"x\"},\"y\":{\"field\":\"y\"}},\"id\":\"9caef888-c978-4497-b37c-0b768ef5d896\",\"type\":\"Rect\"},{\"attributes\":{\"fill_alpha\":{\"field\":\"fill_alpha\"},\"fill_color\":{\"field\":\"color\"},\"height\":{\"field\":\"height\",\"units\":\"data\"},\"line_color\":{\"field\":\"line_color\"},\"width\":{\"field\":\"width\",\"units\":\"data\"},\"x\":{\"field\":\"x\"},\"y\":{\"field\":\"y\"}},\"id\":\"90d650db-902f-4c75-8164-9daea109d25c\",\"type\":\"Rect\"},{\"attributes\":{},\"id\":\"05223487-c5c2-4f19-904e-cc04efedf0a7\",\"type\":\"ToolEvents\"},{\"attributes\":{\"callback\":null,\"column_names\":[\"line_alpha\",\"height\",\"label\",\"width\",\"line_color\",\"fill_alpha\",\"color\",\"y\",\"x\"],\"data\":{\"chart_index\":[{\"organism\":\"S.aureus\"}],\"color\":[\"#00ad9c\"],\"fill_alpha\":[0.8],\"height\":[239.0],\"label\":[{\"organism\":\"S.aureus\"}],\"line_alpha\":[1.0],\"line_color\":[\"white\"],\"organism\":[\"S.aureus\"],\"width\":[0.8],\"x\":[\"S.aureus\"],\"y\":[119.5]}},\"id\":\"e814ea89-e93b-41e6-abb9-6c33f9baf056\",\"type\":\"ColumnDataSource\"},{\"attributes\":{\"fill_alpha\":{\"field\":\"fill_alpha\"},\"fill_color\":{\"field\":\"color\"},\"height\":{\"field\":\"height\",\"units\":\"data\"},\"line_color\":{\"field\":\"line_color\"},\"width\":{\"field\":\"width\",\"units\":\"data\"},\"x\":{\"field\":\"x\"},\"y\":{\"field\":\"y\"}},\"id\":\"e5d4fb63-c4a7-4bea-bb10-f5b5fcd2e911\",\"type\":\"Rect\"},{\"attributes\":{\"callback\":null,\"column_names\":[\"line_alpha\",\"height\",\"label\",\"width\",\"line_color\",\"fill_alpha\",\"color\",\"y\",\"x\"],\"data\":{\"chart_index\":[{\"organism\":\"K.pneumoniae\"}],\"color\":[\"#df5320\"],\"fill_alpha\":[0.8],\"height\":[232.0],\"label\":[{\"organism\":\"K.pneumoniae\"}],\"line_alpha\":[1.0],\"line_color\":[\"white\"],\"organism\":[\"K.pneumoniae\"],\"width\":[0.8],\"x\":[\"K.pneumoniae\"],\"y\":[116.0]}},\"id\":\"6d08888d-faa4-4aa3-b834-af4fd0936a63\",\"type\":\"ColumnDataSource\"},{\"attributes\":{\"callback\":null,\"column_names\":[\"line_alpha\",\"height\",\"label\",\"width\",\"line_color\",\"fill_alpha\",\"color\",\"y\",\"x\"],\"data\":{\"chart_index\":[{\"organism\":\"S.pneumoniae\"}],\"color\":[\"#c33ff3\"],\"fill_alpha\":[0.8],\"height\":[345.0],\"label\":[{\"organism\":\"S.pneumoniae\"}],\"line_alpha\":[1.0],\"line_color\":[\"white\"],\"organism\":[\"S.pneumoniae\"],\"width\":[0.8],\"x\":[\"S.pneumoniae\"],\"y\":[172.5]}},\"id\":\"ce82bc2c-0e3d-4972-85d7-6ba47ca65547\",\"type\":\"ColumnDataSource\"},{\"attributes\":{\"axis_label\":\"Organism\",\"formatter\":{\"id\":\"2ae76f4b-ef1c-4a80-8ce6-47f0776869d3\",\"type\":\"CategoricalTickFormatter\"},\"major_label_orientation\":0.7853981633974483,\"plot\":{\"id\":\"324ce08e-c98c-45dc-86a4-c7b504215545\",\"subtype\":\"Chart\",\"type\":\"Plot\"},\"ticker\":{\"id\":\"91eef6f2-9a86-4e2a-b071-a22be5578891\",\"type\":\"CategoricalTicker\"}},\"id\":\"56f9bc25-4631-4275-aaa9-b20e323915e0\",\"type\":\"CategoricalAxis\"},{\"attributes\":{\"plot\":{\"id\":\"984a0b86-929a-4a99-bfdc-1871af8760b2\",\"subtype\":\"Chart\",\"type\":\"Plot\"}},\"id\":\"a605161e-65f3-4bd8-b01b-77f43260df0a\",\"type\":\"SaveTool\"},{\"attributes\":{\"callback\":null,\"end\":505.05},\"id\":\"4038eee7-fb66-427f-b803-53ac6d3b9499\",\"type\":\"Range1d\"},{\"attributes\":{\"callback\":null,\"column_names\":[\"line_alpha\",\"height\",\"label\",\"width\",\"line_color\",\"fill_alpha\",\"color\",\"y\",\"x\"],\"data\":{\"chart_index\":[{\"organism\":\"A.baumanii\"}],\"color\":[\"#f22c40\"],\"fill_alpha\":[0.8],\"height\":[246.0],\"label\":[{\"organism\":\"A.baumanii\"}],\"line_alpha\":[1.0],\"line_color\":[\"white\"],\"organism\":[\"A.baumanii\"],\"width\":[0.8],\"x\":[\"A.baumanii\"],\"y\":[123.0]}},\"id\":\"1cba396d-449a-474f-bef5-dcb5ae78c6c2\",\"type\":\"ColumnDataSource\"},{\"attributes\":{\"legends\":[[\"A.baumanii\",[{\"id\":\"c1faa86a-4b71-4248-b91e-d1454d64c0c3\",\"type\":\"GlyphRenderer\"}]],[\"E.coli\",[{\"id\":\"bbae5791-acda-438b-acb5-a2b0bb161500\",\"type\":\"GlyphRenderer\"}]],[\"H.pylori\",[{\"id\":\"8d9c511e-eee5-43c5-ae17-aeb1a195eb2a\",\"type\":\"GlyphRenderer\"}]],[\"K.pneumoniae\",[{\"id\":\"fdf826b9-4f14-4d05-befc-1279ddfc0a02\",\"type\":\"GlyphRenderer\"}]],[\"S.aureus\",[{\"id\":\"17da78c7-1a52-497d-818f-668195a942e6\",\"type\":\"GlyphRenderer\"}]],[\"S.pneumoniae\",[{\"id\":\"47a49cf0-6916-40bf-b925-bde1cc105001\",\"type\":\"GlyphRenderer\"}]]],\"location\":\"top_left\",\"plot\":{\"id\":\"5dcfcbef-b5bf-449e-b774-47139170ec58\",\"subtype\":\"Chart\",\"type\":\"Plot\"}},\"id\":\"c26dbd93-b820-4199-9bb3-0e7a5e155b05\",\"type\":\"Legend\"},{\"attributes\":{\"fill_alpha\":{\"field\":\"fill_alpha\"},\"fill_color\":{\"field\":\"color\"},\"height\":{\"field\":\"height\",\"units\":\"data\"},\"line_color\":{\"field\":\"line_color\"},\"width\":{\"field\":\"width\",\"units\":\"data\"},\"x\":{\"field\":\"x\"},\"y\":{\"field\":\"y\"}},\"id\":\"404b3180-f60f-40b9-8b5e-14adaee4b62c\",\"type\":\"Rect\"},{\"attributes\":{\"data_source\":{\"id\":\"a747eae2-17fd-4b23-b884-cc1807e37be3\",\"type\":\"ColumnDataSource\"},\"glyph\":{\"id\":\"a7684f00-6d71-4cb8-b384-0fe1c4e5ac34\",\"type\":\"Rect\"},\"hover_glyph\":null,\"nonselection_glyph\":null,\"selection_glyph\":null},\"id\":\"54422b3d-b0a8-49be-b0c3-448cf7ecad97\",\"type\":\"GlyphRenderer\"},{\"attributes\":{\"fill_alpha\":{\"field\":\"fill_alpha\"},\"fill_color\":{\"field\":\"color\"},\"height\":{\"field\":\"height\",\"units\":\"data\"},\"line_color\":{\"field\":\"line_color\"},\"width\":{\"field\":\"width\",\"units\":\"data\"},\"x\":{\"field\":\"x\"},\"y\":{\"field\":\"y\"}},\"id\":\"eb92a029-3068-4fbb-9400-0d1722d2025b\",\"type\":\"Rect\"},{\"attributes\":{\"callback\":null,\"column_names\":[\"line_alpha\",\"height\",\"label\",\"width\",\"line_color\",\"fill_alpha\",\"color\",\"y\",\"x\"],\"data\":{\"chart_index\":[{\"organism\":\"S.aureus\"}],\"color\":[\"#00ad9c\"],\"fill_alpha\":[0.8],\"height\":[160.0],\"label\":[{\"organism\":\"S.aureus\"}],\"line_alpha\":[1.0],\"line_color\":[\"white\"],\"organism\":[\"S.aureus\"],\"width\":[0.8],\"x\":[\"S.aureus\"],\"y\":[80.0]}},\"id\":\"4210d26c-9fe9-4bd8-ae18-a4c2a6974391\",\"type\":\"ColumnDataSource\"},{\"attributes\":{\"callback\":null,\"end\":413.7},\"id\":\"8bd88161-91dc-4426-acf7-dd0e05145275\",\"type\":\"Range1d\"},{\"attributes\":{\"callback\":null,\"factors\":[\"A.baumanii\",\"E.coli\",\"H.pylori\",\"K.pneumoniae\",\"S.aureus\",\"S.pneumoniae\"]},\"id\":\"d7a72b04-1c4e-4121-9329-5ff53a371f49\",\"type\":\"FactorRange\"},{\"attributes\":{\"callback\":null,\"column_names\":[\"line_alpha\",\"height\",\"label\",\"width\",\"line_color\",\"fill_alpha\",\"color\",\"y\",\"x\"],\"data\":{\"chart_index\":[{\"organism\":\"E.coli\"}],\"color\":[\"#5ab738\"],\"fill_alpha\":[0.8],\"height\":[191.0],\"label\":[{\"organism\":\"E.coli\"}],\"line_alpha\":[1.0],\"line_color\":[\"white\"],\"organism\":[\"E.coli\"],\"width\":[0.8],\"x\":[\"E.coli\"],\"y\":[95.5]}},\"id\":\"0dd60ade-a4d2-4132-907f-1324bd63ce78\",\"type\":\"ColumnDataSource\"},{\"attributes\":{},\"id\":\"91eef6f2-9a86-4e2a-b071-a22be5578891\",\"type\":\"CategoricalTicker\"},{\"attributes\":{\"data_source\":{\"id\":\"5491c1c1-4b7c-41ee-a068-a098dfd7fab3\",\"type\":\"ColumnDataSource\"},\"glyph\":{\"id\":\"f0d8344e-f331-47e7-99bc-2eadc6845b3e\",\"type\":\"Rect\"},\"hover_glyph\":null,\"nonselection_glyph\":null,\"selection_glyph\":null},\"id\":\"c1faa86a-4b71-4248-b91e-d1454d64c0c3\",\"type\":\"GlyphRenderer\"},{\"attributes\":{\"callback\":null,\"column_names\":[\"line_alpha\",\"height\",\"label\",\"width\",\"line_color\",\"fill_alpha\",\"color\",\"y\",\"x\"],\"data\":{\"chart_index\":[{\"organism\":\"A.baumanii\"}],\"color\":[\"#f22c40\"],\"fill_alpha\":[0.8],\"height\":[190.0],\"label\":[{\"organism\":\"A.baumanii\"}],\"line_alpha\":[1.0],\"line_color\":[\"white\"],\"organism\":[\"A.baumanii\"],\"width\":[0.8],\"x\":[\"A.baumanii\"],\"y\":[95.0]}},\"id\":\"b9740ec7-ddd0-416a-841b-eb0ee2dc8e25\",\"type\":\"ColumnDataSource\"},{\"attributes\":{\"data_source\":{\"id\":\"b9740ec7-ddd0-416a-841b-eb0ee2dc8e25\",\"type\":\"ColumnDataSource\"},\"glyph\":{\"id\":\"b9224ba0-0468-4549-806a-16b1c28a5d25\",\"type\":\"Rect\"},\"hover_glyph\":null,\"nonselection_glyph\":null,\"selection_glyph\":null},\"id\":\"a75e238f-5574-4c6f-814e-63758c5ede6f\",\"type\":\"GlyphRenderer\"},{\"attributes\":{\"legends\":[[\"A.baumanii\",[{\"id\":\"7e47a4b6-ba03-482d-8433-e350eee4bdce\",\"type\":\"GlyphRenderer\"}]],[\"E.coli\",[{\"id\":\"b4bb09db-a861-46a3-8966-15b928b945cc\",\"type\":\"GlyphRenderer\"}]],[\"H.pylori\",[{\"id\":\"54422b3d-b0a8-49be-b0c3-448cf7ecad97\",\"type\":\"GlyphRenderer\"}]],[\"K.pneumoniae\",[{\"id\":\"8c5bef02-4f85-4578-b3d8-e20ce18a2aeb\",\"type\":\"GlyphRenderer\"}]],[\"S.aureus\",[{\"id\":\"83e67455-b964-43aa-b2ef-422917a8dd5b\",\"type\":\"GlyphRenderer\"}]],[\"S.pneumoniae\",[{\"id\":\"ea77ee78-b9ef-45fc-9e3c-f0622fe72398\",\"type\":\"GlyphRenderer\"}]]],\"location\":\"top_left\",\"plot\":{\"id\":\"324ce08e-c98c-45dc-86a4-c7b504215545\",\"subtype\":\"Chart\",\"type\":\"Plot\"}},\"id\":\"45acbbb1-1276-4a05-900b-338eb834a88f\",\"type\":\"Legend\"},{\"attributes\":{},\"id\":\"2ae76f4b-ef1c-4a80-8ce6-47f0776869d3\",\"type\":\"CategoricalTickFormatter\"},{\"attributes\":{\"children\":[{\"id\":\"cd157803-d4a3-496e-86e0-31a1b31d5c2c\",\"subtype\":\"Chart\",\"type\":\"Plot\"},{\"id\":\"5dcfcbef-b5bf-449e-b774-47139170ec58\",\"subtype\":\"Chart\",\"type\":\"Plot\"}]},\"id\":\"670a5c5b-f914-4926-a0b1-843b7910acac\",\"type\":\"Row\"},{\"attributes\":{\"callback\":null,\"column_names\":[\"line_alpha\",\"height\",\"label\",\"width\",\"line_color\",\"fill_alpha\",\"color\",\"y\",\"x\"],\"data\":{\"chart_index\":[{\"organism\":\"E.coli\"}],\"color\":[\"#5ab738\"],\"fill_alpha\":[0.8],\"height\":[207.0],\"label\":[{\"organism\":\"E.coli\"}],\"line_alpha\":[1.0],\"line_color\":[\"white\"],\"organism\":[\"E.coli\"],\"width\":[0.8],\"x\":[\"E.coli\"],\"y\":[103.5]}},\"id\":\"04768b2a-c201-4e54-9cb8-e432a00960f9\",\"type\":\"ColumnDataSource\"},{\"attributes\":{\"plot\":null,\"text\":null},\"id\":\"54140f4c-be99-44b3-83e0-699583ae81c4\",\"type\":\"Title\"},{\"attributes\":{\"fill_alpha\":{\"field\":\"fill_alpha\"},\"fill_color\":{\"field\":\"color\"},\"height\":{\"field\":\"height\",\"units\":\"data\"},\"line_color\":{\"field\":\"line_color\"},\"width\":{\"field\":\"width\",\"units\":\"data\"},\"x\":{\"field\":\"x\"},\"y\":{\"field\":\"y\"}},\"id\":\"f0d8344e-f331-47e7-99bc-2eadc6845b3e\",\"type\":\"Rect\"},{\"attributes\":{\"fill_alpha\":{\"field\":\"fill_alpha\"},\"fill_color\":{\"field\":\"color\"},\"height\":{\"field\":\"height\",\"units\":\"data\"},\"line_color\":{\"field\":\"line_color\"},\"width\":{\"field\":\"width\",\"units\":\"data\"},\"x\":{\"field\":\"x\"},\"y\":{\"field\":\"y\"}},\"id\":\"cfbcc84c-58de-46bf-812d-94120567b5ab\",\"type\":\"Rect\"},{\"attributes\":{},\"id\":\"9c0385ae-eadc-419e-b751-0fc849f72b6b\",\"type\":\"CategoricalTicker\"},{\"attributes\":{\"plot\":{\"id\":\"324ce08e-c98c-45dc-86a4-c7b504215545\",\"subtype\":\"Chart\",\"type\":\"Plot\"}},\"id\":\"a9b06165-7501-448d-8d0c-4210fee8a88a\",\"type\":\"SaveTool\"},{\"attributes\":{\"bottom_units\":\"screen\",\"fill_alpha\":{\"value\":0.5},\"fill_color\":{\"value\":\"lightgrey\"},\"left_units\":\"screen\",\"level\":\"overlay\",\"line_alpha\":{\"value\":1.0},\"line_color\":{\"value\":\"black\"},\"line_dash\":[4,4],\"line_width\":{\"value\":2},\"plot\":null,\"render_mode\":\"css\",\"right_units\":\"screen\",\"top_units\":\"screen\"},\"id\":\"9f839e9d-af31-4044-9c8d-84d350d076c6\",\"type\":\"BoxAnnotation\"},{\"attributes\":{},\"id\":\"357d35ae-c5d4-4274-a20d-fc9245b8ab96\",\"type\":\"BasicTicker\"},{\"attributes\":{\"data_source\":{\"id\":\"0dd60ade-a4d2-4132-907f-1324bd63ce78\",\"type\":\"ColumnDataSource\"},\"glyph\":{\"id\":\"449c2f20-2216-44ef-9bb1-e82a4cd91897\",\"type\":\"Rect\"},\"hover_glyph\":null,\"nonselection_glyph\":null,\"selection_glyph\":null},\"id\":\"6930ca5c-069d-433b-a493-7c084bb5d48b\",\"type\":\"GlyphRenderer\"},{\"attributes\":{\"callback\":null,\"column_names\":[\"line_alpha\",\"height\",\"label\",\"width\",\"line_color\",\"fill_alpha\",\"color\",\"y\",\"x\"],\"data\":{\"chart_index\":[{\"organism\":\"K.pneumoniae\"}],\"color\":[\"#df5320\"],\"fill_alpha\":[0.8],\"height\":[168.0],\"label\":[{\"organism\":\"K.pneumoniae\"}],\"line_alpha\":[1.0],\"line_color\":[\"white\"],\"organism\":[\"K.pneumoniae\"],\"width\":[0.8],\"x\":[\"K.pneumoniae\"],\"y\":[84.0]}},\"id\":\"8a0de724-b1c4-49ef-a603-26011b29efe9\",\"type\":\"ColumnDataSource\"},{\"attributes\":{\"plot\":{\"id\":\"cd157803-d4a3-496e-86e0-31a1b31d5c2c\",\"subtype\":\"Chart\",\"type\":\"Plot\"}},\"id\":\"935b95e2-bfc2-4bc0-8ce7-e6f85c60edc9\",\"type\":\"PanTool\"},{\"attributes\":{\"axis_label\":\"Organism\",\"formatter\":{\"id\":\"302a6955-8edb-4903-9d69-4defcc20a989\",\"type\":\"CategoricalTickFormatter\"},\"major_label_orientation\":0.7853981633974483,\"plot\":{\"id\":\"cd157803-d4a3-496e-86e0-31a1b31d5c2c\",\"subtype\":\"Chart\",\"type\":\"Plot\"},\"ticker\":{\"id\":\"75cf56f9-a930-48c0-a5b0-5f4aa84f28ba\",\"type\":\"CategoricalTicker\"}},\"id\":\"69e981b0-1218-49b4-85a9-a9eb1c61d346\",\"type\":\"CategoricalAxis\"},{\"attributes\":{},\"id\":\"33e62e05-c69a-43b7-bd55-a2ab7cf0391a\",\"type\":\"ToolEvents\"},{\"attributes\":{},\"id\":\"0d47d104-61c0-47ad-aaad-035d735aac36\",\"type\":\"CategoricalTicker\"},{\"attributes\":{\"plot\":{\"id\":\"324ce08e-c98c-45dc-86a4-c7b504215545\",\"subtype\":\"Chart\",\"type\":\"Plot\"}},\"id\":\"03d05166-25ca-4703-abd9-8008e6c25c85\",\"type\":\"PanTool\"},{\"attributes\":{\"callback\":null,\"column_names\":[\"line_alpha\",\"height\",\"label\",\"width\",\"line_color\",\"fill_alpha\",\"color\",\"y\",\"x\"],\"data\":{\"chart_index\":[{\"organism\":\"S.pneumoniae\"}],\"color\":[\"#c33ff3\"],\"fill_alpha\":[0.8],\"height\":[481.0],\"label\":[{\"organism\":\"S.pneumoniae\"}],\"line_alpha\":[1.0],\"line_color\":[\"white\"],\"organism\":[\"S.pneumoniae\"],\"width\":[0.8],\"x\":[\"S.pneumoniae\"],\"y\":[240.5]}},\"id\":\"fe6fda7b-0182-407d-b94f-443b5d9e7f77\",\"type\":\"ColumnDataSource\"},{\"attributes\":{\"fill_alpha\":{\"field\":\"fill_alpha\"},\"fill_color\":{\"field\":\"color\"},\"height\":{\"field\":\"height\",\"units\":\"data\"},\"line_color\":{\"field\":\"line_color\"},\"width\":{\"field\":\"width\",\"units\":\"data\"},\"x\":{\"field\":\"x\"},\"y\":{\"field\":\"y\"}},\"id\":\"1b375396-36b3-4b10-b309-ecf143def270\",\"type\":\"Rect\"},{\"attributes\":{\"data_source\":{\"id\":\"5d6205a4-6aa3-4dc4-9ee9-41e852644710\",\"type\":\"ColumnDataSource\"},\"glyph\":{\"id\":\"0846eac8-74a7-42c5-8ad5-88a86a33d323\",\"type\":\"Rect\"},\"hover_glyph\":null,\"nonselection_glyph\":null,\"selection_glyph\":null},\"id\":\"17da78c7-1a52-497d-818f-668195a942e6\",\"type\":\"GlyphRenderer\"},{\"attributes\":{\"axis_label\":\"Sum( A )\",\"formatter\":{\"id\":\"7daded24-9133-4438-b5d6-b3b6a47fa888\",\"type\":\"BasicTickFormatter\"},\"plot\":{\"id\":\"cd157803-d4a3-496e-86e0-31a1b31d5c2c\",\"subtype\":\"Chart\",\"type\":\"Plot\"},\"ticker\":{\"id\":\"e5ab45db-f42a-4179-b60d-7c5f026b1922\",\"type\":\"BasicTicker\"}},\"id\":\"e39f9faf-d923-42a3-a4dd-588e4c3af57c\",\"type\":\"LinearAxis\"},{\"attributes\":{\"fill_alpha\":{\"field\":\"fill_alpha\"},\"fill_color\":{\"field\":\"color\"},\"height\":{\"field\":\"height\",\"units\":\"data\"},\"line_color\":{\"field\":\"line_color\"},\"width\":{\"field\":\"width\",\"units\":\"data\"},\"x\":{\"field\":\"x\"},\"y\":{\"field\":\"y\"}},\"id\":\"a7684f00-6d71-4cb8-b384-0fe1c4e5ac34\",\"type\":\"Rect\"},{\"attributes\":{\"callback\":null,\"column_names\":[\"line_alpha\",\"height\",\"label\",\"width\",\"line_color\",\"fill_alpha\",\"color\",\"y\",\"x\"],\"data\":{\"chart_index\":[{\"organism\":\"H.pylori\"}],\"color\":[\"#407ee7\"],\"fill_alpha\":[0.8],\"height\":[342.0],\"label\":[{\"organism\":\"H.pylori\"}],\"line_alpha\":[1.0],\"line_color\":[\"white\"],\"organism\":[\"H.pylori\"],\"width\":[0.8],\"x\":[\"H.pylori\"],\"y\":[171.0]}},\"id\":\"0ddf23c8-ec1b-4b66-895e-d3db932f3220\",\"type\":\"ColumnDataSource\"},{\"attributes\":{\"child\":{\"id\":\"670a5c5b-f914-4926-a0b1-843b7910acac\",\"type\":\"Row\"},\"title\":\"A and T\"},\"id\":\"2fd0d4ea-833a-4bd9-a98c-59a9f9546926\",\"type\":\"Panel\"},{\"attributes\":{\"callback\":null,\"column_names\":[\"line_alpha\",\"height\",\"label\",\"width\",\"line_color\",\"fill_alpha\",\"color\",\"y\",\"x\"],\"data\":{\"chart_index\":[{\"organism\":\"E.coli\"}],\"color\":[\"#5ab738\"],\"fill_alpha\":[0.8],\"height\":[163.0],\"label\":[{\"organism\":\"E.coli\"}],\"line_alpha\":[1.0],\"line_color\":[\"white\"],\"organism\":[\"E.coli\"],\"width\":[0.8],\"x\":[\"E.coli\"],\"y\":[81.5]}},\"id\":\"81a7a904-c5a8-4eb4-814d-c5f00bc44fc9\",\"type\":\"ColumnDataSource\"},{\"attributes\":{\"data_source\":{\"id\":\"e814ea89-e93b-41e6-abb9-6c33f9baf056\",\"type\":\"ColumnDataSource\"},\"glyph\":{\"id\":\"f1e9fc3f-a6e7-4856-9f24-1077fd0366a8\",\"type\":\"Rect\"},\"hover_glyph\":null,\"nonselection_glyph\":null,\"selection_glyph\":null},\"id\":\"83e67455-b964-43aa-b2ef-422917a8dd5b\",\"type\":\"GlyphRenderer\"},{\"attributes\":{\"data_source\":{\"id\":\"d12a8e55-7c96-411f-afa8-e53567b6372d\",\"type\":\"ColumnDataSource\"},\"glyph\":{\"id\":\"eb92a029-3068-4fbb-9400-0d1722d2025b\",\"type\":\"Rect\"},\"hover_glyph\":null,\"nonselection_glyph\":null,\"selection_glyph\":null},\"id\":\"b96f6b69-5d2d-4c99-a640-4ca36fd986d7\",\"type\":\"GlyphRenderer\"},{\"attributes\":{\"plot\":{\"id\":\"cd157803-d4a3-496e-86e0-31a1b31d5c2c\",\"subtype\":\"Chart\",\"type\":\"Plot\"}},\"id\":\"f0acb494-1d02-48ba-a4df-9eeb0475a3aa\",\"type\":\"HelpTool\"},{\"attributes\":{\"data_source\":{\"id\":\"e4a75882-25f0-44ff-bc18-9dd968152cbc\",\"type\":\"ColumnDataSource\"},\"glyph\":{\"id\":\"cfbcc84c-58de-46bf-812d-94120567b5ab\",\"type\":\"Rect\"},\"hover_glyph\":null,\"nonselection_glyph\":null,\"selection_glyph\":null},\"id\":\"fdf826b9-4f14-4d05-befc-1279ddfc0a02\",\"type\":\"GlyphRenderer\"},{\"attributes\":{},\"id\":\"75cf56f9-a930-48c0-a5b0-5f4aa84f28ba\",\"type\":\"CategoricalTicker\"},{\"attributes\":{\"overlay\":{\"id\":\"95284a44-9bd3-460c-ae30-c7272f85b22e\",\"type\":\"BoxAnnotation\"},\"plot\":{\"id\":\"cd157803-d4a3-496e-86e0-31a1b31d5c2c\",\"subtype\":\"Chart\",\"type\":\"Plot\"}},\"id\":\"af528e01-1dd9-4601-943d-2e4ca2cee413\",\"type\":\"BoxZoomTool\"},{\"attributes\":{\"callback\":null,\"column_names\":[\"line_alpha\",\"height\",\"label\",\"width\",\"line_color\",\"fill_alpha\",\"color\",\"y\",\"x\"],\"data\":{\"chart_index\":[{\"organism\":\"A.baumanii\"}],\"color\":[\"#f22c40\"],\"fill_alpha\":[0.8],\"height\":[151.0],\"label\":[{\"organism\":\"A.baumanii\"}],\"line_alpha\":[1.0],\"line_color\":[\"white\"],\"organism\":[\"A.baumanii\"],\"width\":[0.8],\"x\":[\"A.baumanii\"],\"y\":[75.5]}},\"id\":\"5491c1c1-4b7c-41ee-a068-a098dfd7fab3\",\"type\":\"ColumnDataSource\"},{\"attributes\":{\"callback\":null,\"column_names\":[\"line_alpha\",\"height\",\"label\",\"width\",\"line_color\",\"fill_alpha\",\"color\",\"y\",\"x\"],\"data\":{\"chart_index\":[{\"organism\":\"A.baumanii\"}],\"color\":[\"#f22c40\"],\"fill_alpha\":[0.8],\"height\":[147.0],\"label\":[{\"organism\":\"A.baumanii\"}],\"line_alpha\":[1.0],\"line_color\":[\"white\"],\"organism\":[\"A.baumanii\"],\"width\":[0.8],\"x\":[\"A.baumanii\"],\"y\":[73.5]}},\"id\":\"0de97633-3c21-4553-bdff-dc7845f58e9e\",\"type\":\"ColumnDataSource\"},{\"attributes\":{\"data_source\":{\"id\":\"81a7a904-c5a8-4eb4-814d-c5f00bc44fc9\",\"type\":\"ColumnDataSource\"},\"glyph\":{\"id\":\"bf260978-fa93-462c-a888-bd3edabe3592\",\"type\":\"Rect\"},\"hover_glyph\":null,\"nonselection_glyph\":null,\"selection_glyph\":null},\"id\":\"bbae5791-acda-438b-acb5-a2b0bb161500\",\"type\":\"GlyphRenderer\"},{\"attributes\":{\"plot\":{\"id\":\"984a0b86-929a-4a99-bfdc-1871af8760b2\",\"subtype\":\"Chart\",\"type\":\"Plot\"}},\"id\":\"277637af-8f12-46e7-821e-a86c8735d3ea\",\"type\":\"WheelZoomTool\"},{\"attributes\":{\"dimension\":1,\"plot\":{\"id\":\"324ce08e-c98c-45dc-86a4-c7b504215545\",\"subtype\":\"Chart\",\"type\":\"Plot\"},\"ticker\":{\"id\":\"357d35ae-c5d4-4274-a20d-fc9245b8ab96\",\"type\":\"BasicTicker\"}},\"id\":\"ec57a3a7-18a3-48ea-b445-dff0efd167cc\",\"type\":\"Grid\"},{\"attributes\":{},\"id\":\"06323209-1ea0-4a73-a162-f9d1f5b06cfa\",\"type\":\"BasicTickFormatter\"},{\"attributes\":{\"data_source\":{\"id\":\"fe6fda7b-0182-407d-b94f-443b5d9e7f77\",\"type\":\"ColumnDataSource\"},\"glyph\":{\"id\":\"3a27c353-381e-4608-a066-84ed154014be\",\"type\":\"Rect\"},\"hover_glyph\":null,\"nonselection_glyph\":null,\"selection_glyph\":null},\"id\":\"846d37b1-01a5-45ba-8c7c-21dc5be6289a\",\"type\":\"GlyphRenderer\"},{\"attributes\":{},\"id\":\"ad1b8aa1-377f-4506-94f7-81338eb57c55\",\"type\":\"BasicTicker\"},{\"attributes\":{\"fill_alpha\":{\"field\":\"fill_alpha\"},\"fill_color\":{\"field\":\"color\"},\"height\":{\"field\":\"height\",\"units\":\"data\"},\"line_color\":{\"field\":\"line_color\"},\"width\":{\"field\":\"width\",\"units\":\"data\"},\"x\":{\"field\":\"x\"},\"y\":{\"field\":\"y\"}},\"id\":\"3a27c353-381e-4608-a066-84ed154014be\",\"type\":\"Rect\"},{\"attributes\":{\"data_source\":{\"id\":\"4210d26c-9fe9-4bd8-ae18-a4c2a6974391\",\"type\":\"ColumnDataSource\"},\"glyph\":{\"id\":\"05acebd9-57c4-4f09-8bd8-2b6434f23e78\",\"type\":\"Rect\"},\"hover_glyph\":null,\"nonselection_glyph\":null,\"selection_glyph\":null},\"id\":\"6e805aa2-2cea-436d-8a7f-71474d71ff93\",\"type\":\"GlyphRenderer\"},{\"attributes\":{\"plot\":{\"id\":\"cd157803-d4a3-496e-86e0-31a1b31d5c2c\",\"subtype\":\"Chart\",\"type\":\"Plot\"}},\"id\":\"468edd1f-4393-4dac-ad15-64b099f680b4\",\"type\":\"WheelZoomTool\"},{\"attributes\":{\"fill_alpha\":{\"field\":\"fill_alpha\"},\"fill_color\":{\"field\":\"color\"},\"height\":{\"field\":\"height\",\"units\":\"data\"},\"line_color\":{\"field\":\"line_color\"},\"width\":{\"field\":\"width\",\"units\":\"data\"},\"x\":{\"field\":\"x\"},\"y\":{\"field\":\"y\"}},\"id\":\"449c2f20-2216-44ef-9bb1-e82a4cd91897\",\"type\":\"Rect\"},{\"attributes\":{\"fill_alpha\":{\"field\":\"fill_alpha\"},\"fill_color\":{\"field\":\"color\"},\"height\":{\"field\":\"height\",\"units\":\"data\"},\"line_color\":{\"field\":\"line_color\"},\"width\":{\"field\":\"width\",\"units\":\"data\"},\"x\":{\"field\":\"x\"},\"y\":{\"field\":\"y\"}},\"id\":\"3c6af149-cd73-4348-8ca0-aaf24964c356\",\"type\":\"Rect\"},{\"attributes\":{},\"id\":\"6ea6554b-2331-4d92-9d30-0a8b9866f13d\",\"type\":\"CategoricalTickFormatter\"},{\"attributes\":{\"callback\":null,\"column_names\":[\"line_alpha\",\"height\",\"label\",\"width\",\"line_color\",\"fill_alpha\",\"color\",\"y\",\"x\"],\"data\":{\"chart_index\":[{\"organism\":\"H.pylori\"}],\"color\":[\"#407ee7\"],\"fill_alpha\":[0.8],\"height\":[401.0],\"label\":[{\"organism\":\"H.pylori\"}],\"line_alpha\":[1.0],\"line_color\":[\"white\"],\"organism\":[\"H.pylori\"],\"width\":[0.8],\"x\":[\"H.pylori\"],\"y\":[200.5]}},\"id\":\"bfe719ef-5ab3-479d-9ade-d47e59edf327\",\"type\":\"ColumnDataSource\"},{\"attributes\":{\"data_source\":{\"id\":\"bfe719ef-5ab3-479d-9ade-d47e59edf327\",\"type\":\"ColumnDataSource\"},\"glyph\":{\"id\":\"35ee2d0d-f913-429f-8bd3-29d3b0f331ee\",\"type\":\"Rect\"},\"hover_glyph\":null,\"nonselection_glyph\":null,\"selection_glyph\":null},\"id\":\"70fdf641-e9e5-475b-b407-befaabcfd8a2\",\"type\":\"GlyphRenderer\"},{\"attributes\":{\"fill_alpha\":{\"field\":\"fill_alpha\"},\"fill_color\":{\"field\":\"color\"},\"height\":{\"field\":\"height\",\"units\":\"data\"},\"line_color\":{\"field\":\"line_color\"},\"width\":{\"field\":\"width\",\"units\":\"data\"},\"x\":{\"field\":\"x\"},\"y\":{\"field\":\"y\"}},\"id\":\"9e29a1db-2e08-4ba1-87be-543603a2eea5\",\"type\":\"Rect\"},{\"attributes\":{\"data_source\":{\"id\":\"0ddf23c8-ec1b-4b66-895e-d3db932f3220\",\"type\":\"ColumnDataSource\"},\"glyph\":{\"id\":\"3c6af149-cd73-4348-8ca0-aaf24964c356\",\"type\":\"Rect\"},\"hover_glyph\":null,\"nonselection_glyph\":null,\"selection_glyph\":null},\"id\":\"8d9c511e-eee5-43c5-ae17-aeb1a195eb2a\",\"type\":\"GlyphRenderer\"},{\"attributes\":{\"callback\":null,\"column_names\":[\"line_alpha\",\"height\",\"label\",\"width\",\"line_color\",\"fill_alpha\",\"color\",\"y\",\"x\"],\"data\":{\"chart_index\":[{\"organism\":\"K.pneumoniae\"}],\"color\":[\"#df5320\"],\"fill_alpha\":[0.8],\"height\":[155.0],\"label\":[{\"organism\":\"K.pneumoniae\"}],\"line_alpha\":[1.0],\"line_color\":[\"white\"],\"organism\":[\"K.pneumoniae\"],\"width\":[0.8],\"x\":[\"K.pneumoniae\"],\"y\":[77.5]}},\"id\":\"36039a2b-b69f-456e-abd0-09a1ccf8df71\",\"type\":\"ColumnDataSource\"},{\"attributes\":{\"overlay\":{\"id\":\"9f839e9d-af31-4044-9c8d-84d350d076c6\",\"type\":\"BoxAnnotation\"},\"plot\":{\"id\":\"5dcfcbef-b5bf-449e-b774-47139170ec58\",\"subtype\":\"Chart\",\"type\":\"Plot\"}},\"id\":\"f8ec3f05-b721-4cbd-8442-16475262b881\",\"type\":\"BoxZoomTool\"},{\"attributes\":{\"axis_label\":\"Organism\",\"formatter\":{\"id\":\"6ea6554b-2331-4d92-9d30-0a8b9866f13d\",\"type\":\"CategoricalTickFormatter\"},\"major_label_orientation\":0.7853981633974483,\"plot\":{\"id\":\"984a0b86-929a-4a99-bfdc-1871af8760b2\",\"subtype\":\"Chart\",\"type\":\"Plot\"},\"ticker\":{\"id\":\"9c0385ae-eadc-419e-b751-0fc849f72b6b\",\"type\":\"CategoricalTicker\"}},\"id\":\"e2bf9b6d-b956-468b-a9d2-2bd44e2d114b\",\"type\":\"CategoricalAxis\"},{\"attributes\":{\"child\":{\"id\":\"ce5a2e5a-c82e-43c6-a407-edc60ba49b70\",\"type\":\"Row\"},\"title\":\"C and G\"},\"id\":\"986b6914-d4c1-4510-b5cf-d8191ea4d27c\",\"type\":\"Panel\"},{\"attributes\":{},\"id\":\"1b28e16c-5598-436c-ae58-d90ce4d3966e\",\"type\":\"ToolEvents\"},{\"attributes\":{\"fill_alpha\":{\"field\":\"fill_alpha\"},\"fill_color\":{\"field\":\"color\"},\"height\":{\"field\":\"height\",\"units\":\"data\"},\"line_color\":{\"field\":\"line_color\"},\"width\":{\"field\":\"width\",\"units\":\"data\"},\"x\":{\"field\":\"x\"},\"y\":{\"field\":\"y\"}},\"id\":\"bf260978-fa93-462c-a888-bd3edabe3592\",\"type\":\"Rect\"},{\"attributes\":{\"plot\":{\"id\":\"984a0b86-929a-4a99-bfdc-1871af8760b2\",\"subtype\":\"Chart\",\"type\":\"Plot\"}},\"id\":\"66e046c5-20e3-46ac-b76f-c0a6809d2944\",\"type\":\"HelpTool\"},{\"attributes\":{\"active_drag\":\"auto\",\"active_scroll\":\"auto\",\"active_tap\":\"auto\",\"tools\":[{\"id\":\"4d77077e-d6b5-4441-9306-6a66bcb96c60\",\"type\":\"PanTool\"},{\"id\":\"277637af-8f12-46e7-821e-a86c8735d3ea\",\"type\":\"WheelZoomTool\"},{\"id\":\"b802d93d-1298-4499-bd57-44fb892ba9b1\",\"type\":\"BoxZoomTool\"},{\"id\":\"a605161e-65f3-4bd8-b01b-77f43260df0a\",\"type\":\"SaveTool\"},{\"id\":\"5de07473-7265-49a5-b544-48487c0553f3\",\"type\":\"ResetTool\"},{\"id\":\"66e046c5-20e3-46ac-b76f-c0a6809d2944\",\"type\":\"HelpTool\"}]},\"id\":\"61d410e4-6f8c-4ed4-99bd-a7c70ecd6371\",\"type\":\"Toolbar\"},{\"attributes\":{\"plot\":{\"id\":\"324ce08e-c98c-45dc-86a4-c7b504215545\",\"subtype\":\"Chart\",\"type\":\"Plot\"}},\"id\":\"e1abe0e8-480b-46b2-b4da-1ab7fb392a03\",\"type\":\"HelpTool\"},{\"attributes\":{\"plot\":{\"id\":\"5dcfcbef-b5bf-449e-b774-47139170ec58\",\"subtype\":\"Chart\",\"type\":\"Plot\"}},\"id\":\"b6d8e468-3d2c-4d84-bded-c7b17c5c7078\",\"type\":\"HelpTool\"},{\"attributes\":{\"plot\":{\"id\":\"cd157803-d4a3-496e-86e0-31a1b31d5c2c\",\"subtype\":\"Chart\",\"type\":\"Plot\"}},\"id\":\"93d6014e-accf-444b-9208-ac85045804cb\",\"type\":\"SaveTool\"},{\"attributes\":{\"plot\":{\"id\":\"5dcfcbef-b5bf-449e-b774-47139170ec58\",\"subtype\":\"Chart\",\"type\":\"Plot\"}},\"id\":\"3ba48f58-920d-467b-80f8-1af2a3da5631\",\"type\":\"PanTool\"},{\"attributes\":{\"callback\":null,\"factors\":[\"A.baumanii\",\"E.coli\",\"H.pylori\",\"K.pneumoniae\",\"S.aureus\",\"S.pneumoniae\"]},\"id\":\"be854c63-168e-46a3-915e-d02f3ced4833\",\"type\":\"FactorRange\"},{\"attributes\":{\"dimension\":1,\"plot\":{\"id\":\"984a0b86-929a-4a99-bfdc-1871af8760b2\",\"subtype\":\"Chart\",\"type\":\"Plot\"},\"ticker\":{\"id\":\"ad1b8aa1-377f-4506-94f7-81338eb57c55\",\"type\":\"BasicTicker\"}},\"id\":\"ba63ba03-a9c7-4d1e-8356-63d56b35e6f3\",\"type\":\"Grid\"},{\"attributes\":{},\"id\":\"302a6955-8edb-4903-9d69-4defcc20a989\",\"type\":\"CategoricalTickFormatter\"},{\"attributes\":{\"callback\":null,\"end\":421.05},\"id\":\"c2530738-13b0-4faf-977e-980aeffde704\",\"type\":\"Range1d\"},{\"attributes\":{\"legends\":[[\"A.baumanii\",[{\"id\":\"88cbef33-8c19-47b0-8a30-5a258b7d4fb9\",\"type\":\"GlyphRenderer\"}]],[\"E.coli\",[{\"id\":\"6930ca5c-069d-433b-a493-7c084bb5d48b\",\"type\":\"GlyphRenderer\"}]],[\"H.pylori\",[{\"id\":\"1c05d3b8-182b-4707-bcb4-c7118f6c3922\",\"type\":\"GlyphRenderer\"}]],[\"K.pneumoniae\",[{\"id\":\"14317b31-8182-4927-806c-800cc93cf656\",\"type\":\"GlyphRenderer\"}]],[\"S.aureus\",[{\"id\":\"6e805aa2-2cea-436d-8a7f-71474d71ff93\",\"type\":\"GlyphRenderer\"}]],[\"S.pneumoniae\",[{\"id\":\"846d37b1-01a5-45ba-8c7c-21dc5be6289a\",\"type\":\"GlyphRenderer\"}]]],\"location\":\"top_left\",\"plot\":{\"id\":\"984a0b86-929a-4a99-bfdc-1871af8760b2\",\"subtype\":\"Chart\",\"type\":\"Plot\"}},\"id\":\"54d41f12-d7a4-4165-ac54-01d6dabe5253\",\"type\":\"Legend\"},{\"attributes\":{\"data_source\":{\"id\":\"6d08888d-faa4-4aa3-b834-af4fd0936a63\",\"type\":\"ColumnDataSource\"},\"glyph\":{\"id\":\"9caef888-c978-4497-b37c-0b768ef5d896\",\"type\":\"Rect\"},\"hover_glyph\":null,\"nonselection_glyph\":null,\"selection_glyph\":null},\"id\":\"8c5bef02-4f85-4578-b3d8-e20ce18a2aeb\",\"type\":\"GlyphRenderer\"},{\"attributes\":{},\"id\":\"e5ab45db-f42a-4179-b60d-7c5f026b1922\",\"type\":\"BasicTicker\"},{\"attributes\":{\"callback\":null,\"factors\":[\"A.baumanii\",\"E.coli\",\"H.pylori\",\"K.pneumoniae\",\"S.aureus\",\"S.pneumoniae\"]},\"id\":\"6a7f0e37-612c-41d0-bed0-e51415b75230\",\"type\":\"FactorRange\"},{\"attributes\":{},\"id\":\"8c221b99-f4fc-4398-afd5-15332e74cc81\",\"type\":\"ToolEvents\"},{\"attributes\":{\"axis_label\":\"Sum( T )\",\"formatter\":{\"id\":\"25f285f7-d74b-4012-ba39-e2a3e49f5688\",\"type\":\"BasicTickFormatter\"},\"plot\":{\"id\":\"5dcfcbef-b5bf-449e-b774-47139170ec58\",\"subtype\":\"Chart\",\"type\":\"Plot\"},\"ticker\":{\"id\":\"8f99bc35-cb77-44ef-94e5-d76b99b92ec2\",\"type\":\"BasicTicker\"}},\"id\":\"ecfe30c3-f7d3-4314-a1b8-2e059a581197\",\"type\":\"LinearAxis\"},{\"attributes\":{\"plot\":{\"id\":\"984a0b86-929a-4a99-bfdc-1871af8760b2\",\"subtype\":\"Chart\",\"type\":\"Plot\"}},\"id\":\"5de07473-7265-49a5-b544-48487c0553f3\",\"type\":\"ResetTool\"},{\"attributes\":{\"callback\":null,\"factors\":[\"A.baumanii\",\"E.coli\",\"H.pylori\",\"K.pneumoniae\",\"S.aureus\",\"S.pneumoniae\"]},\"id\":\"4c6f6d08-3baf-4ed5-9087-3392e874692c\",\"type\":\"FactorRange\"},{\"attributes\":{\"data_source\":{\"id\":\"f8df83b5-ede1-44a1-9bf7-182be31b8a08\",\"type\":\"ColumnDataSource\"},\"glyph\":{\"id\":\"373814ff-77e6-44bb-8476-bd07c943f57f\",\"type\":\"Rect\"},\"hover_glyph\":null,\"nonselection_glyph\":null,\"selection_glyph\":null},\"id\":\"47a49cf0-6916-40bf-b925-bde1cc105001\",\"type\":\"GlyphRenderer\"},{\"attributes\":{\"active_drag\":\"auto\",\"active_scroll\":\"auto\",\"active_tap\":\"auto\",\"tools\":[{\"id\":\"03d05166-25ca-4703-abd9-8008e6c25c85\",\"type\":\"PanTool\"},{\"id\":\"5576cb2e-50ad-4dba-91b5-173bdaa715ed\",\"type\":\"WheelZoomTool\"},{\"id\":\"6c667e04-ef37-4350-b9a9-be38ce692b02\",\"type\":\"BoxZoomTool\"},{\"id\":\"a9b06165-7501-448d-8d0c-4210fee8a88a\",\"type\":\"SaveTool\"},{\"id\":\"e33fd64e-3dd8-4ff0-a8cb-e8cfef9beb39\",\"type\":\"ResetTool\"},{\"id\":\"e1abe0e8-480b-46b2-b4da-1ab7fb392a03\",\"type\":\"HelpTool\"}]},\"id\":\"078370e1-6a98-4860-b580-c12f04bc18df\",\"type\":\"Toolbar\"},{\"attributes\":{\"callback\":null,\"column_names\":[\"line_alpha\",\"height\",\"label\",\"width\",\"line_color\",\"fill_alpha\",\"color\",\"y\",\"x\"],\"data\":{\"chart_index\":[{\"organism\":\"S.aureus\"}],\"color\":[\"#00ad9c\"],\"fill_alpha\":[0.8],\"height\":[178.0],\"label\":[{\"organism\":\"S.aureus\"}],\"line_alpha\":[1.0],\"line_color\":[\"white\"],\"organism\":[\"S.aureus\"],\"width\":[0.8],\"x\":[\"S.aureus\"],\"y\":[89.0]}},\"id\":\"5d6205a4-6aa3-4dc4-9ee9-41e852644710\",\"type\":\"ColumnDataSource\"},{\"attributes\":{\"bottom_units\":\"screen\",\"fill_alpha\":{\"value\":0.5},\"fill_color\":{\"value\":\"lightgrey\"},\"left_units\":\"screen\",\"level\":\"overlay\",\"line_alpha\":{\"value\":1.0},\"line_color\":{\"value\":\"black\"},\"line_dash\":[4,4],\"line_width\":{\"value\":2},\"plot\":null,\"render_mode\":\"css\",\"right_units\":\"screen\",\"top_units\":\"screen\"},\"id\":\"95284a44-9bd3-460c-ae30-c7272f85b22e\",\"type\":\"BoxAnnotation\"},{\"attributes\":{\"data_source\":{\"id\":\"0de97633-3c21-4553-bdff-dc7845f58e9e\",\"type\":\"ColumnDataSource\"},\"glyph\":{\"id\":\"6ba44f7a-3577-4373-bbd9-0623a6c83a7a\",\"type\":\"Rect\"},\"hover_glyph\":null,\"nonselection_glyph\":null,\"selection_glyph\":null},\"id\":\"88cbef33-8c19-47b0-8a30-5a258b7d4fb9\",\"type\":\"GlyphRenderer\"},{\"attributes\":{\"fill_alpha\":{\"field\":\"fill_alpha\"},\"fill_color\":{\"field\":\"color\"},\"height\":{\"field\":\"height\",\"units\":\"data\"},\"line_color\":{\"field\":\"line_color\"},\"width\":{\"field\":\"width\",\"units\":\"data\"},\"x\":{\"field\":\"x\"},\"y\":{\"field\":\"y\"}},\"id\":\"35ee2d0d-f913-429f-8bd3-29d3b0f331ee\",\"type\":\"Rect\"},{\"attributes\":{\"children\":[{\"id\":\"984a0b86-929a-4a99-bfdc-1871af8760b2\",\"subtype\":\"Chart\",\"type\":\"Plot\"},{\"id\":\"324ce08e-c98c-45dc-86a4-c7b504215545\",\"subtype\":\"Chart\",\"type\":\"Plot\"}]},\"id\":\"ce5a2e5a-c82e-43c6-a407-edc60ba49b70\",\"type\":\"Row\"},{\"attributes\":{\"plot\":null,\"text\":null},\"id\":\"3efde5ef-88c9-4f14-bd86-7a94788e8903\",\"type\":\"Title\"},{\"attributes\":{\"callback\":null,\"column_names\":[\"line_alpha\",\"height\",\"label\",\"width\",\"line_color\",\"fill_alpha\",\"color\",\"y\",\"x\"],\"data\":{\"chart_index\":[{\"organism\":\"H.pylori\"}],\"color\":[\"#407ee7\"],\"fill_alpha\":[0.8],\"height\":[326.0],\"label\":[{\"organism\":\"H.pylori\"}],\"line_alpha\":[1.0],\"line_color\":[\"white\"],\"organism\":[\"H.pylori\"],\"width\":[0.8],\"x\":[\"H.pylori\"],\"y\":[163.0]}},\"id\":\"f6e28b71-6209-4056-abc2-fd71b342fef6\",\"type\":\"ColumnDataSource\"},{\"attributes\":{\"data_source\":{\"id\":\"1cba396d-449a-474f-bef5-dcb5ae78c6c2\",\"type\":\"ColumnDataSource\"},\"glyph\":{\"id\":\"404b3180-f60f-40b9-8b5e-14adaee4b62c\",\"type\":\"Rect\"},\"hover_glyph\":null,\"nonselection_glyph\":null,\"selection_glyph\":null},\"id\":\"7e47a4b6-ba03-482d-8433-e350eee4bdce\",\"type\":\"GlyphRenderer\"},{\"attributes\":{},\"id\":\"bf036019-ce2e-456f-90b3-261e4ba11993\",\"type\":\"BasicTickFormatter\"},{\"attributes\":{\"data_source\":{\"id\":\"36039a2b-b69f-456e-abd0-09a1ccf8df71\",\"type\":\"ColumnDataSource\"},\"glyph\":{\"id\":\"c4ccde7c-c9f5-41fb-a806-5553784fff4e\",\"type\":\"Rect\"},\"hover_glyph\":null,\"nonselection_glyph\":null,\"selection_glyph\":null},\"id\":\"14317b31-8182-4927-806c-800cc93cf656\",\"type\":\"GlyphRenderer\"},{\"attributes\":{\"fill_alpha\":{\"field\":\"fill_alpha\"},\"fill_color\":{\"field\":\"color\"},\"height\":{\"field\":\"height\",\"units\":\"data\"},\"line_color\":{\"field\":\"line_color\"},\"width\":{\"field\":\"width\",\"units\":\"data\"},\"x\":{\"field\":\"x\"},\"y\":{\"field\":\"y\"}},\"id\":\"373814ff-77e6-44bb-8476-bd07c943f57f\",\"type\":\"Rect\"},{\"attributes\":{},\"id\":\"8f99bc35-cb77-44ef-94e5-d76b99b92ec2\",\"type\":\"BasicTicker\"},{\"attributes\":{},\"id\":\"25f285f7-d74b-4012-ba39-e2a3e49f5688\",\"type\":\"BasicTickFormatter\"},{\"attributes\":{\"data_source\":{\"id\":\"ce82bc2c-0e3d-4972-85d7-6ba47ca65547\",\"type\":\"ColumnDataSource\"},\"glyph\":{\"id\":\"0abcadf6-a1c9-41eb-b3c0-1f0f32a23af5\",\"type\":\"Rect\"},\"hover_glyph\":null,\"nonselection_glyph\":null,\"selection_glyph\":null},\"id\":\"ea77ee78-b9ef-45fc-9e3c-f0622fe72398\",\"type\":\"GlyphRenderer\"},{\"attributes\":{\"data_source\":{\"id\":\"8a0de724-b1c4-49ef-a603-26011b29efe9\",\"type\":\"ColumnDataSource\"},\"glyph\":{\"id\":\"e5d4fb63-c4a7-4bea-bb10-f5b5fcd2e911\",\"type\":\"Rect\"},\"hover_glyph\":null,\"nonselection_glyph\":null,\"selection_glyph\":null},\"id\":\"a2a63a28-ddfc-4954-8009-5052850c9bef\",\"type\":\"GlyphRenderer\"},{\"attributes\":{\"fill_alpha\":{\"field\":\"fill_alpha\"},\"fill_color\":{\"field\":\"color\"},\"height\":{\"field\":\"height\",\"units\":\"data\"},\"line_color\":{\"field\":\"line_color\"},\"width\":{\"field\":\"width\",\"units\":\"data\"},\"x\":{\"field\":\"x\"},\"y\":{\"field\":\"y\"}},\"id\":\"b9224ba0-0468-4549-806a-16b1c28a5d25\",\"type\":\"Rect\"},{\"attributes\":{\"callback\":null,\"column_names\":[\"line_alpha\",\"height\",\"label\",\"width\",\"line_color\",\"fill_alpha\",\"color\",\"y\",\"x\"],\"data\":{\"chart_index\":[{\"organism\":\"S.pneumoniae\"}],\"color\":[\"#c33ff3\"],\"fill_alpha\":[0.8],\"height\":[394.0],\"label\":[{\"organism\":\"S.pneumoniae\"}],\"line_alpha\":[1.0],\"line_color\":[\"white\"],\"organism\":[\"S.pneumoniae\"],\"width\":[0.8],\"x\":[\"S.pneumoniae\"],\"y\":[197.0]}},\"id\":\"f8df83b5-ede1-44a1-9bf7-182be31b8a08\",\"type\":\"ColumnDataSource\"},{\"attributes\":{\"fill_alpha\":{\"field\":\"fill_alpha\"},\"fill_color\":{\"field\":\"color\"},\"height\":{\"field\":\"height\",\"units\":\"data\"},\"line_color\":{\"field\":\"line_color\"},\"width\":{\"field\":\"width\",\"units\":\"data\"},\"x\":{\"field\":\"x\"},\"y\":{\"field\":\"y\"}},\"id\":\"0abcadf6-a1c9-41eb-b3c0-1f0f32a23af5\",\"type\":\"Rect\"},{\"attributes\":{\"plot\":{\"id\":\"5dcfcbef-b5bf-449e-b774-47139170ec58\",\"subtype\":\"Chart\",\"type\":\"Plot\"}},\"id\":\"11f9b007-5ab8-4e33-871f-b901a46f6c75\",\"type\":\"ResetTool\"},{\"attributes\":{\"data_source\":{\"id\":\"04768b2a-c201-4e54-9cb8-e432a00960f9\",\"type\":\"ColumnDataSource\"},\"glyph\":{\"id\":\"1b375396-36b3-4b10-b309-ecf143def270\",\"type\":\"Rect\"},\"hover_glyph\":null,\"nonselection_glyph\":null,\"selection_glyph\":null},\"id\":\"f4c4b881-b5a2-4f5e-9b62-4bd518d09f77\",\"type\":\"GlyphRenderer\"},{\"attributes\":{\"plot\":{\"id\":\"5dcfcbef-b5bf-449e-b774-47139170ec58\",\"subtype\":\"Chart\",\"type\":\"Plot\"}},\"id\":\"b7fae040-ef8e-4088-a254-67b6a0a8417b\",\"type\":\"SaveTool\"},{\"attributes\":{\"plot\":{\"id\":\"324ce08e-c98c-45dc-86a4-c7b504215545\",\"subtype\":\"Chart\",\"type\":\"Plot\"}},\"id\":\"5576cb2e-50ad-4dba-91b5-173bdaa715ed\",\"type\":\"WheelZoomTool\"},{\"attributes\":{\"axis_label\":\"Sum( G )\",\"formatter\":{\"id\":\"06323209-1ea0-4a73-a162-f9d1f5b06cfa\",\"type\":\"BasicTickFormatter\"},\"plot\":{\"id\":\"324ce08e-c98c-45dc-86a4-c7b504215545\",\"subtype\":\"Chart\",\"type\":\"Plot\"},\"ticker\":{\"id\":\"357d35ae-c5d4-4274-a20d-fc9245b8ab96\",\"type\":\"BasicTicker\"}},\"id\":\"7fb9ff46-7ddd-4e9a-a04e-19f85dcbc176\",\"type\":\"LinearAxis\"},{\"attributes\":{\"overlay\":{\"id\":\"e8e2d26e-1f05-4a6d-9799-a7a826c0c3e3\",\"type\":\"BoxAnnotation\"},\"plot\":{\"id\":\"984a0b86-929a-4a99-bfdc-1871af8760b2\",\"subtype\":\"Chart\",\"type\":\"Plot\"}},\"id\":\"b802d93d-1298-4499-bd57-44fb892ba9b1\",\"type\":\"BoxZoomTool\"},{\"attributes\":{\"callback\":null,\"tabs\":[{\"id\":\"2fd0d4ea-833a-4bd9-a98c-59a9f9546926\",\"type\":\"Panel\"},{\"id\":\"986b6914-d4c1-4510-b5cf-d8191ea4d27c\",\"type\":\"Panel\"}]},\"id\":\"72f233f3-cdfd-4896-87bb-dcd5cde0b87f\",\"type\":\"Tabs\"},{\"attributes\":{\"fill_alpha\":{\"field\":\"fill_alpha\"},\"fill_color\":{\"field\":\"color\"},\"height\":{\"field\":\"height\",\"units\":\"data\"},\"line_color\":{\"field\":\"line_color\"},\"width\":{\"field\":\"width\",\"units\":\"data\"},\"x\":{\"field\":\"x\"},\"y\":{\"field\":\"y\"}},\"id\":\"0846eac8-74a7-42c5-8ad5-88a86a33d323\",\"type\":\"Rect\"},{\"attributes\":{\"fill_alpha\":{\"field\":\"fill_alpha\"},\"fill_color\":{\"field\":\"color\"},\"height\":{\"field\":\"height\",\"units\":\"data\"},\"line_color\":{\"field\":\"line_color\"},\"width\":{\"field\":\"width\",\"units\":\"data\"},\"x\":{\"field\":\"x\"},\"y\":{\"field\":\"y\"}},\"id\":\"f1e9fc3f-a6e7-4856-9f24-1077fd0366a8\",\"type\":\"Rect\"},{\"attributes\":{\"below\":[{\"id\":\"56f9bc25-4631-4275-aaa9-b20e323915e0\",\"type\":\"CategoricalAxis\"}],\"left\":[{\"id\":\"7fb9ff46-7ddd-4e9a-a04e-19f85dcbc176\",\"type\":\"LinearAxis\"}],\"plot_width\":450,\"renderers\":[{\"id\":\"e1ddec84-d412-45f1-b9f4-95f92f02bb8f\",\"type\":\"BoxAnnotation\"},{\"id\":\"7e47a4b6-ba03-482d-8433-e350eee4bdce\",\"type\":\"GlyphRenderer\"},{\"id\":\"b4bb09db-a861-46a3-8966-15b928b945cc\",\"type\":\"GlyphRenderer\"},{\"id\":\"54422b3d-b0a8-49be-b0c3-448cf7ecad97\",\"type\":\"GlyphRenderer\"},{\"id\":\"8c5bef02-4f85-4578-b3d8-e20ce18a2aeb\",\"type\":\"GlyphRenderer\"},{\"id\":\"83e67455-b964-43aa-b2ef-422917a8dd5b\",\"type\":\"GlyphRenderer\"},{\"id\":\"ea77ee78-b9ef-45fc-9e3c-f0622fe72398\",\"type\":\"GlyphRenderer\"},{\"id\":\"45acbbb1-1276-4a05-900b-338eb834a88f\",\"type\":\"Legend\"},{\"id\":\"56f9bc25-4631-4275-aaa9-b20e323915e0\",\"type\":\"CategoricalAxis\"},{\"id\":\"7fb9ff46-7ddd-4e9a-a04e-19f85dcbc176\",\"type\":\"LinearAxis\"},{\"id\":\"ec57a3a7-18a3-48ea-b445-dff0efd167cc\",\"type\":\"Grid\"}],\"title\":{\"id\":\"54140f4c-be99-44b3-83e0-699583ae81c4\",\"type\":\"Title\"},\"tool_events\":{\"id\":\"1b28e16c-5598-436c-ae58-d90ce4d3966e\",\"type\":\"ToolEvents\"},\"toolbar\":{\"id\":\"078370e1-6a98-4860-b580-c12f04bc18df\",\"type\":\"Toolbar\"},\"x_mapper_type\":\"auto\",\"x_range\":{\"id\":\"6a7f0e37-612c-41d0-bed0-e51415b75230\",\"type\":\"FactorRange\"},\"y_mapper_type\":\"auto\",\"y_range\":{\"id\":\"8439e55d-f99e-4db9-a1b6-44a195ed93f0\",\"type\":\"Range1d\"}},\"id\":\"324ce08e-c98c-45dc-86a4-c7b504215545\",\"subtype\":\"Chart\",\"type\":\"Plot\"},{\"attributes\":{\"legends\":[[\"A.baumanii\",[{\"id\":\"a75e238f-5574-4c6f-814e-63758c5ede6f\",\"type\":\"GlyphRenderer\"}]],[\"E.coli\",[{\"id\":\"f4c4b881-b5a2-4f5e-9b62-4bd518d09f77\",\"type\":\"GlyphRenderer\"}]],[\"H.pylori\",[{\"id\":\"70fdf641-e9e5-475b-b407-befaabcfd8a2\",\"type\":\"GlyphRenderer\"}]],[\"K.pneumoniae\",[{\"id\":\"a2a63a28-ddfc-4954-8009-5052850c9bef\",\"type\":\"GlyphRenderer\"}]],[\"S.aureus\",[{\"id\":\"b96f6b69-5d2d-4c99-a640-4ca36fd986d7\",\"type\":\"GlyphRenderer\"}]],[\"S.pneumoniae\",[{\"id\":\"e825edb0-52d3-48d6-8519-41fabeb6a263\",\"type\":\"GlyphRenderer\"}]]],\"location\":\"top_left\",\"plot\":{\"id\":\"cd157803-d4a3-496e-86e0-31a1b31d5c2c\",\"subtype\":\"Chart\",\"type\":\"Plot\"}},\"id\":\"05b3a0c0-def9-4cfa-ba60-3c69f6040c57\",\"type\":\"Legend\"},{\"attributes\":{\"callback\":null,\"column_names\":[\"line_alpha\",\"height\",\"label\",\"width\",\"line_color\",\"fill_alpha\",\"color\",\"y\",\"x\"],\"data\":{\"chart_index\":[{\"organism\":\"S.pneumoniae\"}],\"color\":[\"#c33ff3\"],\"fill_alpha\":[0.8],\"height\":[334.0],\"label\":[{\"organism\":\"S.pneumoniae\"}],\"line_alpha\":[1.0],\"line_color\":[\"white\"],\"organism\":[\"S.pneumoniae\"],\"width\":[0.8],\"x\":[\"S.pneumoniae\"],\"y\":[167.0]}},\"id\":\"4e1bff13-3a38-483d-bcf0-5172a19a887a\",\"type\":\"ColumnDataSource\"},{\"attributes\":{\"below\":[{\"id\":\"e2bf9b6d-b956-468b-a9d2-2bd44e2d114b\",\"type\":\"CategoricalAxis\"}],\"left\":[{\"id\":\"e0907208-0cf9-40ee-bd72-cfd98c98bbb4\",\"type\":\"LinearAxis\"}],\"plot_width\":450,\"renderers\":[{\"id\":\"e8e2d26e-1f05-4a6d-9799-a7a826c0c3e3\",\"type\":\"BoxAnnotation\"},{\"id\":\"88cbef33-8c19-47b0-8a30-5a258b7d4fb9\",\"type\":\"GlyphRenderer\"},{\"id\":\"6930ca5c-069d-433b-a493-7c084bb5d48b\",\"type\":\"GlyphRenderer\"},{\"id\":\"1c05d3b8-182b-4707-bcb4-c7118f6c3922\",\"type\":\"GlyphRenderer\"},{\"id\":\"14317b31-8182-4927-806c-800cc93cf656\",\"type\":\"GlyphRenderer\"},{\"id\":\"6e805aa2-2cea-436d-8a7f-71474d71ff93\",\"type\":\"GlyphRenderer\"},{\"id\":\"846d37b1-01a5-45ba-8c7c-21dc5be6289a\",\"type\":\"GlyphRenderer\"},{\"id\":\"54d41f12-d7a4-4165-ac54-01d6dabe5253\",\"type\":\"Legend\"},{\"id\":\"e2bf9b6d-b956-468b-a9d2-2bd44e2d114b\",\"type\":\"CategoricalAxis\"},{\"id\":\"e0907208-0cf9-40ee-bd72-cfd98c98bbb4\",\"type\":\"LinearAxis\"},{\"id\":\"ba63ba03-a9c7-4d1e-8356-63d56b35e6f3\",\"type\":\"Grid\"}],\"title\":{\"id\":\"3efde5ef-88c9-4f14-bd86-7a94788e8903\",\"type\":\"Title\"},\"tool_events\":{\"id\":\"05223487-c5c2-4f19-904e-cc04efedf0a7\",\"type\":\"ToolEvents\"},\"toolbar\":{\"id\":\"61d410e4-6f8c-4ed4-99bd-a7c70ecd6371\",\"type\":\"Toolbar\"},\"x_mapper_type\":\"auto\",\"x_range\":{\"id\":\"d7a72b04-1c4e-4121-9329-5ff53a371f49\",\"type\":\"FactorRange\"},\"y_mapper_type\":\"auto\",\"y_range\":{\"id\":\"4038eee7-fb66-427f-b803-53ac6d3b9499\",\"type\":\"Range1d\"}},\"id\":\"984a0b86-929a-4a99-bfdc-1871af8760b2\",\"subtype\":\"Chart\",\"type\":\"Plot\"},{\"attributes\":{\"bottom_units\":\"screen\",\"fill_alpha\":{\"value\":0.5},\"fill_color\":{\"value\":\"lightgrey\"},\"left_units\":\"screen\",\"level\":\"overlay\",\"line_alpha\":{\"value\":1.0},\"line_color\":{\"value\":\"black\"},\"line_dash\":[4,4],\"line_width\":{\"value\":2},\"plot\":null,\"render_mode\":\"css\",\"right_units\":\"screen\",\"top_units\":\"screen\"},\"id\":\"e1ddec84-d412-45f1-b9f4-95f92f02bb8f\",\"type\":\"BoxAnnotation\"},{\"attributes\":{\"plot\":{\"id\":\"984a0b86-929a-4a99-bfdc-1871af8760b2\",\"subtype\":\"Chart\",\"type\":\"Plot\"}},\"id\":\"4d77077e-d6b5-4441-9306-6a66bcb96c60\",\"type\":\"PanTool\"},{\"attributes\":{\"fill_alpha\":{\"field\":\"fill_alpha\"},\"fill_color\":{\"field\":\"color\"},\"height\":{\"field\":\"height\",\"units\":\"data\"},\"line_color\":{\"field\":\"line_color\"},\"width\":{\"field\":\"width\",\"units\":\"data\"},\"x\":{\"field\":\"x\"},\"y\":{\"field\":\"y\"}},\"id\":\"05acebd9-57c4-4f09-8bd8-2b6434f23e78\",\"type\":\"Rect\"},{\"attributes\":{\"plot\":null,\"text\":null},\"id\":\"3bba0066-1d35-4f58-aae8-47985875d333\",\"type\":\"Title\"},{\"attributes\":{\"data_source\":{\"id\":\"f6e28b71-6209-4056-abc2-fd71b342fef6\",\"type\":\"ColumnDataSource\"},\"glyph\":{\"id\":\"576dacf1-1b39-4007-b12a-0e4831a6e7cf\",\"type\":\"Rect\"},\"hover_glyph\":null,\"nonselection_glyph\":null,\"selection_glyph\":null},\"id\":\"1c05d3b8-182b-4707-bcb4-c7118f6c3922\",\"type\":\"GlyphRenderer\"},{\"attributes\":{\"active_drag\":\"auto\",\"active_scroll\":\"auto\",\"active_tap\":\"auto\",\"tools\":[{\"id\":\"935b95e2-bfc2-4bc0-8ce7-e6f85c60edc9\",\"type\":\"PanTool\"},{\"id\":\"468edd1f-4393-4dac-ad15-64b099f680b4\",\"type\":\"WheelZoomTool\"},{\"id\":\"af528e01-1dd9-4601-943d-2e4ca2cee413\",\"type\":\"BoxZoomTool\"},{\"id\":\"93d6014e-accf-444b-9208-ac85045804cb\",\"type\":\"SaveTool\"},{\"id\":\"bdbd0dba-b809-408f-aff7-207b60b40071\",\"type\":\"ResetTool\"},{\"id\":\"f0acb494-1d02-48ba-a4df-9eeb0475a3aa\",\"type\":\"HelpTool\"}]},\"id\":\"c778e6cc-b4d4-4e6d-b114-234d4618e21d\",\"type\":\"Toolbar\"},{\"attributes\":{\"dimension\":1,\"plot\":{\"id\":\"5dcfcbef-b5bf-449e-b774-47139170ec58\",\"subtype\":\"Chart\",\"type\":\"Plot\"},\"ticker\":{\"id\":\"8f99bc35-cb77-44ef-94e5-d76b99b92ec2\",\"type\":\"BasicTicker\"}},\"id\":\"cb4d55f2-158c-4583-8515-c070f314190a\",\"type\":\"Grid\"},{\"attributes\":{\"plot\":{\"id\":\"5dcfcbef-b5bf-449e-b774-47139170ec58\",\"subtype\":\"Chart\",\"type\":\"Plot\"}},\"id\":\"69c1e130-e8cb-4668-b46c-7f11d8604ca4\",\"type\":\"WheelZoomTool\"},{\"attributes\":{\"dimension\":1,\"plot\":{\"id\":\"cd157803-d4a3-496e-86e0-31a1b31d5c2c\",\"subtype\":\"Chart\",\"type\":\"Plot\"},\"ticker\":{\"id\":\"e5ab45db-f42a-4179-b60d-7c5f026b1922\",\"type\":\"BasicTicker\"}},\"id\":\"a8a85677-525c-43f3-857d-9792fbbd1aa4\",\"type\":\"Grid\"},{\"attributes\":{\"plot\":{\"id\":\"324ce08e-c98c-45dc-86a4-c7b504215545\",\"subtype\":\"Chart\",\"type\":\"Plot\"}},\"id\":\"e33fd64e-3dd8-4ff0-a8cb-e8cfef9beb39\",\"type\":\"ResetTool\"},{\"attributes\":{\"data_source\":{\"id\":\"4e1bff13-3a38-483d-bcf0-5172a19a887a\",\"type\":\"ColumnDataSource\"},\"glyph\":{\"id\":\"90d650db-902f-4c75-8164-9daea109d25c\",\"type\":\"Rect\"},\"hover_glyph\":null,\"nonselection_glyph\":null,\"selection_glyph\":null},\"id\":\"e825edb0-52d3-48d6-8519-41fabeb6a263\",\"type\":\"GlyphRenderer\"},{\"attributes\":{},\"id\":\"7daded24-9133-4438-b5d6-b3b6a47fa888\",\"type\":\"BasicTickFormatter\"},{\"attributes\":{\"callback\":null,\"column_names\":[\"line_alpha\",\"height\",\"label\",\"width\",\"line_color\",\"fill_alpha\",\"color\",\"y\",\"x\"],\"data\":{\"chart_index\":[{\"organism\":\"K.pneumoniae\"}],\"color\":[\"#df5320\"],\"fill_alpha\":[0.8],\"height\":[124.0],\"label\":[{\"organism\":\"K.pneumoniae\"}],\"line_alpha\":[1.0],\"line_color\":[\"white\"],\"organism\":[\"K.pneumoniae\"],\"width\":[0.8],\"x\":[\"K.pneumoniae\"],\"y\":[62.0]}},\"id\":\"e4a75882-25f0-44ff-bc18-9dd968152cbc\",\"type\":\"ColumnDataSource\"},{\"attributes\":{\"plot\":null,\"text\":null},\"id\":\"1591782e-c256-42b0-b4bb-de939ad0c5f6\",\"type\":\"Title\"},{\"attributes\":{\"callback\":null,\"column_names\":[\"line_alpha\",\"height\",\"label\",\"width\",\"line_color\",\"fill_alpha\",\"color\",\"y\",\"x\"],\"data\":{\"chart_index\":[{\"organism\":\"S.aureus\"}],\"color\":[\"#00ad9c\"],\"fill_alpha\":[0.8],\"height\":[213.0],\"label\":[{\"organism\":\"S.aureus\"}],\"line_alpha\":[1.0],\"line_color\":[\"white\"],\"organism\":[\"S.aureus\"],\"width\":[0.8],\"x\":[\"S.aureus\"],\"y\":[106.5]}},\"id\":\"d12a8e55-7c96-411f-afa8-e53567b6372d\",\"type\":\"ColumnDataSource\"},{\"attributes\":{\"fill_alpha\":{\"field\":\"fill_alpha\"},\"fill_color\":{\"field\":\"color\"},\"height\":{\"field\":\"height\",\"units\":\"data\"},\"line_color\":{\"field\":\"line_color\"},\"width\":{\"field\":\"width\",\"units\":\"data\"},\"x\":{\"field\":\"x\"},\"y\":{\"field\":\"y\"}},\"id\":\"c4ccde7c-c9f5-41fb-a806-5553784fff4e\",\"type\":\"Rect\"},{\"attributes\":{\"callback\":null,\"column_names\":[\"line_alpha\",\"height\",\"label\",\"width\",\"line_color\",\"fill_alpha\",\"color\",\"y\",\"x\"],\"data\":{\"chart_index\":[{\"organism\":\"H.pylori\"}],\"color\":[\"#407ee7\"],\"fill_alpha\":[0.8],\"height\":[434.0],\"label\":[{\"organism\":\"H.pylori\"}],\"line_alpha\":[1.0],\"line_color\":[\"white\"],\"organism\":[\"H.pylori\"],\"width\":[0.8],\"x\":[\"H.pylori\"],\"y\":[217.0]}},\"id\":\"a747eae2-17fd-4b23-b884-cc1807e37be3\",\"type\":\"ColumnDataSource\"},{\"attributes\":{\"data_source\":{\"id\":\"dad08a74-8ca1-4256-a8be-e913bc725616\",\"type\":\"ColumnDataSource\"},\"glyph\":{\"id\":\"9e29a1db-2e08-4ba1-87be-543603a2eea5\",\"type\":\"Rect\"},\"hover_glyph\":null,\"nonselection_glyph\":null,\"selection_glyph\":null},\"id\":\"b4bb09db-a861-46a3-8966-15b928b945cc\",\"type\":\"GlyphRenderer\"},{\"attributes\":{\"bottom_units\":\"screen\",\"fill_alpha\":{\"value\":0.5},\"fill_color\":{\"value\":\"lightgrey\"},\"left_units\":\"screen\",\"level\":\"overlay\",\"line_alpha\":{\"value\":1.0},\"line_color\":{\"value\":\"black\"},\"line_dash\":[4,4],\"line_width\":{\"value\":2},\"plot\":null,\"render_mode\":\"css\",\"right_units\":\"screen\",\"top_units\":\"screen\"},\"id\":\"e8e2d26e-1f05-4a6d-9799-a7a826c0c3e3\",\"type\":\"BoxAnnotation\"},{\"attributes\":{\"axis_label\":\"Sum( C )\",\"formatter\":{\"id\":\"bf036019-ce2e-456f-90b3-261e4ba11993\",\"type\":\"BasicTickFormatter\"},\"plot\":{\"id\":\"984a0b86-929a-4a99-bfdc-1871af8760b2\",\"subtype\":\"Chart\",\"type\":\"Plot\"},\"ticker\":{\"id\":\"ad1b8aa1-377f-4506-94f7-81338eb57c55\",\"type\":\"BasicTicker\"}},\"id\":\"e0907208-0cf9-40ee-bd72-cfd98c98bbb4\",\"type\":\"LinearAxis\"},{\"attributes\":{\"axis_label\":\"Organism\",\"formatter\":{\"id\":\"e8b1f2cb-4585-4974-8c98-7fa7e1d341d3\",\"type\":\"CategoricalTickFormatter\"},\"major_label_orientation\":0.7853981633974483,\"plot\":{\"id\":\"5dcfcbef-b5bf-449e-b774-47139170ec58\",\"subtype\":\"Chart\",\"type\":\"Plot\"},\"ticker\":{\"id\":\"0d47d104-61c0-47ad-aaad-035d735aac36\",\"type\":\"CategoricalTicker\"}},\"id\":\"c600ed09-1f70-4637-8d01-ad4f1d23e0c5\",\"type\":\"CategoricalAxis\"},{\"attributes\":{},\"id\":\"e8b1f2cb-4585-4974-8c98-7fa7e1d341d3\",\"type\":\"CategoricalTickFormatter\"},{\"attributes\":{\"below\":[{\"id\":\"c600ed09-1f70-4637-8d01-ad4f1d23e0c5\",\"type\":\"CategoricalAxis\"}],\"left\":[{\"id\":\"ecfe30c3-f7d3-4314-a1b8-2e059a581197\",\"type\":\"LinearAxis\"}],\"plot_width\":450,\"renderers\":[{\"id\":\"9f839e9d-af31-4044-9c8d-84d350d076c6\",\"type\":\"BoxAnnotation\"},{\"id\":\"c1faa86a-4b71-4248-b91e-d1454d64c0c3\",\"type\":\"GlyphRenderer\"},{\"id\":\"bbae5791-acda-438b-acb5-a2b0bb161500\",\"type\":\"GlyphRenderer\"},{\"id\":\"8d9c511e-eee5-43c5-ae17-aeb1a195eb2a\",\"type\":\"GlyphRenderer\"},{\"id\":\"fdf826b9-4f14-4d05-befc-1279ddfc0a02\",\"type\":\"GlyphRenderer\"},{\"id\":\"17da78c7-1a52-497d-818f-668195a942e6\",\"type\":\"GlyphRenderer\"},{\"id\":\"47a49cf0-6916-40bf-b925-bde1cc105001\",\"type\":\"GlyphRenderer\"},{\"id\":\"c26dbd93-b820-4199-9bb3-0e7a5e155b05\",\"type\":\"Legend\"},{\"id\":\"c600ed09-1f70-4637-8d01-ad4f1d23e0c5\",\"type\":\"CategoricalAxis\"},{\"id\":\"ecfe30c3-f7d3-4314-a1b8-2e059a581197\",\"type\":\"LinearAxis\"},{\"id\":\"cb4d55f2-158c-4583-8515-c070f314190a\",\"type\":\"Grid\"}],\"title\":{\"id\":\"3bba0066-1d35-4f58-aae8-47985875d333\",\"type\":\"Title\"},\"tool_events\":{\"id\":\"33e62e05-c69a-43b7-bd55-a2ab7cf0391a\",\"type\":\"ToolEvents\"},\"toolbar\":{\"id\":\"d5c87486-9560-404d-b691-8f544b591d41\",\"type\":\"Toolbar\"},\"x_mapper_type\":\"auto\",\"x_range\":{\"id\":\"4c6f6d08-3baf-4ed5-9087-3392e874692c\",\"type\":\"FactorRange\"},\"y_mapper_type\":\"auto\",\"y_range\":{\"id\":\"8bd88161-91dc-4426-acf7-dd0e05145275\",\"type\":\"Range1d\"}},\"id\":\"5dcfcbef-b5bf-449e-b774-47139170ec58\",\"subtype\":\"Chart\",\"type\":\"Plot\"}],\"root_ids\":[\"72f233f3-cdfd-4896-87bb-dcd5cde0b87f\"]},\"title\":\"Bokeh Application\",\"version\":\"0.12.2\"}};\n",
       "            var render_items = [{\"docid\":\"bc1f12b9-bdac-4361-b724-9020db35ed12\",\"elementid\":\"45fa6a70-8b25-4af9-b4e1-0192c55049ac\",\"modelid\":\"72f233f3-cdfd-4896-87bb-dcd5cde0b87f\"}];\n",
       "            \n",
       "            Bokeh.embed.embed_items(docs_json, render_items);\n",
       "        });\n",
       "      },\n",
       "      function(Bokeh) {\n",
       "      }\n",
       "    ];\n",
       "\n",
       "    function run_inline_js() {\n",
       "      \n",
       "      if ((window.Bokeh !== undefined) || (force === \"1\")) {\n",
       "        for (var i = 0; i < inline_js.length; i++) {\n",
       "          inline_js[i](window.Bokeh);\n",
       "        }if (force === \"1\") {\n",
       "          display_loaded();\n",
       "        }} else if (Date.now() < window._bokeh_timeout) {\n",
       "        setTimeout(run_inline_js, 100);\n",
       "      } else if (!window._bokeh_failed_load) {\n",
       "        console.log(\"Bokeh: BokehJS failed to load within specified timeout.\");\n",
       "        window._bokeh_failed_load = true;\n",
       "      } else if (!force) {\n",
       "        var cell = $(\"#45fa6a70-8b25-4af9-b4e1-0192c55049ac\").parents('.cell').data().cell;\n",
       "        cell.output_area.append_execute_result(NB_LOAD_WARNING)\n",
       "      }\n",
       "\n",
       "    }\n",
       "\n",
       "    if (window._bokeh_is_loading === 0) {\n",
       "      console.log(\"Bokeh: BokehJS loaded, going straight to plotting\");\n",
       "      run_inline_js();\n",
       "    } else {\n",
       "      load_libs(js_urls, function() {\n",
       "        console.log(\"Bokeh: BokehJS plotting callback run at\", now());\n",
       "        run_inline_js();\n",
       "      });\n",
       "    }\n",
       "  }(this));\n",
       "</script>"
      ]
     },
     "metadata": {},
     "output_type": "display_data"
    }
   ],
   "source": [
    "# store the output in the notebook and show the plot\n",
    "# if you can't see some colors well you can just change them\n",
    "output_notebook()\n",
    "show(tabs)"
   ]
  },
  {
   "cell_type": "markdown",
   "metadata": {},
   "source": [
    "One quick observation you can see is *H.pylori* and *S.pneumoniae* have the most of each base. This is due to the fact we got the whole sequence. Remember that the whole sequence ~1500 bases. On the contrary, the rest are lower compared those two. Also, the GC content calculated above is rather high -- this is indicative of prokaryotic DNA whereas, eukaryotic DNA such as Human beings(*Homo sapiens*) DNA is about 50%. We can use these differences in GC content to differenciate them. "
   ]
  },
  {
   "cell_type": "markdown",
   "metadata": {},
   "source": [
    "Back to phylogeny. I went ahead and made phylogenetic trees with the maximum likelihood method and distance based methods -- I'll talk about these later. They both produced different types of output. Yet i used the default parameters in different implementations. To add on this, i used online tools [Clustal Omega](https://www.ebi.ac.uk/Tools/msa/clustalo/) which is a quick way of doing this."
   ]
  },
  {
   "cell_type": "markdown",
   "metadata": {},
   "source": [
    "<p align=\"center\">\n",
    "<img src=\"images/clustal_omega_msa_defaultparams_phylogenetics.png\" width=\"550\"> <br>\n",
    "<figcaption>Above is a tree generated with clustal omega default parameters Maximum likelihood.</figcaption>\n",
    "</p>"
   ]
  },
  {
   "cell_type": "markdown",
   "metadata": {},
   "source": [
    "<p align=\"center\">\n",
    "<img src=\"images/mega7_ML_bootstrap_phylotree.png\" width=\"550\"> <br>\n",
    "<figcaption>The last one uses Neigbour joining method. Also, done using [MEGA7](http://megasoftware.net/).</figcaption>\n",
    "</p>"
   ]
  },
  {
   "cell_type": "markdown",
   "metadata": {},
   "source": [
    "<p align=\"center\">\n",
    "<img src=\"images/mega7_NJ_boostrap_phylotree.png\" width=\"550\"> <br>\n",
    "<figcaption>The last one uses Neigbour joining method. Also, done using MEGA7.</figcaption>\n",
    "</p>"
   ]
  },
  {
   "cell_type": "markdown",
   "metadata": {},
   "source": [
    "Before moving into the discussion. Let's try making the above tree diagrams with an unsupervised learning method: Hierarchical clustering."
   ]
  },
  {
   "cell_type": "code",
   "execution_count": 30,
   "metadata": {
    "collapsed": false
   },
   "outputs": [
    {
     "data": {
      "image/png": "[encoded data removed]",
      "text/plain": [
       "<matplotlib.figure.Figure at 0x1147f1208>"
      ]
     },
     "metadata": {},
     "output_type": "display_data"
    }
   ],
   "source": [
    "# scipy library can help out with this\n",
    "from scipy.cluster.hierarchy import dendrogram, linkage, ward\n",
    "\n",
    "# we need a numpy arrays to continue to the next step so?\n",
    "# you don't need the columns GC content, GA_content and organism\n",
    "samp_orgs = df2.drop([\"GC_content\",\"GA_content\",\"organism\"], axis = 1).values \n",
    "\n",
    "# test 1 with Linkage\n",
    "# merges two clusters that have the smallest maximum distance between points (intro to ML)\n",
    "merge = linkage(samp_orgs, method = \"complete\")\n",
    "\n",
    "# test 2 with ward\n",
    "# uses the ward variance minimization algorithm \n",
    "merge2 = ward(samp_orgs)\n",
    "dendrogram(merge,\n",
    "           labels = [\"A.baumanii\",\"E.coli\",\"H.pylori\",\"K.pneumoniae\"\n",
    "                                ,\"S.aureus\",\"S.pneumoniae\"],\n",
    "           leaf_rotation = 90,\n",
    "           leaf_font_size = 20,\n",
    ")\n",
    "# show plot\n",
    "plt.xlabel(\"Organism\")\n",
    "plt.ylabel(\"Cluster distance\")\n",
    "plt.show()"
   ]
  },
  {
   "cell_type": "code",
   "execution_count": 31,
   "metadata": {
    "collapsed": false
   },
   "outputs": [
    {
     "data": {
      "image/png": "[encoded data removed]",
      "text/plain": [
       "<matplotlib.figure.Figure at 0x1173bda90>"
      ]
     },
     "metadata": {},
     "output_type": "display_data"
    }
   ],
   "source": [
    "# With the ward function\n",
    "dendrogram(merge2,\n",
    "           labels = [\"A.baumanii\",\"E.coli\",\"H.pylori\",\"K.pneumoniae\"\n",
    "                                ,\"S.aureus\",\"S.pneumoniae\"],\n",
    "           leaf_rotation = 90,\n",
    "           leaf_font_size = 20,\n",
    ")\n",
    "# label the axes and show the plot\n",
    "plt.xlabel(\"Organism\")\n",
    "plt.ylabel(\"Cluster distance\")\n",
    "plt.show()"
   ]
  },
  {
   "cell_type": "code",
   "execution_count": 32,
   "metadata": {
    "collapsed": false
   },
   "outputs": [
    {
     "data": {
      "image/png": "[encoded data removed]",
      "text/plain": [
       "<matplotlib.figure.Figure at 0x1173895c0>"
      ]
     },
     "metadata": {},
     "output_type": "display_data"
    }
   ],
   "source": [
    "# using GC content alone\n",
    "# test 3\n",
    "samp_gc_content = linkage(content_nuc, method = \"complete\")\n",
    "dendrogram(samp_gc_content,\n",
    "           labels = [\"A.baumanii\",\"E.coli\",\"H.pylori\",\"K.pneumoniae\"\n",
    "                                ,\"S.aureus\",\"S.pneumoniae\"],\n",
    "           leaf_rotation = 90,\n",
    "           leaf_font_size = 20,\n",
    ")\n",
    "# label axes and show plot\n",
    "plt.xlabel(\"Organism\")\n",
    "plt.ylabel(\"Cluster distance\")\n",
    "plt.show()"
   ]
  },
  {
   "cell_type": "markdown",
   "metadata": {},
   "source": [
    "The trees generated with Hierarchial clustering are different with the `Linkage` function, we get 3 clusters depending on your cluster distance and using the `ward` function we get only 3 clades whereas, the one using the gc content got a totally different tree. Note that the organisms most similiar are grouped together indicated by a specific color. But what brought me close to the full arrangement found in the phylogenetic tree? We'll explore that in the discussion."
   ]
  },
  {
   "cell_type": "markdown",
   "metadata": {},
   "source": [
    "Which one brought us closer to the full tree?"
   ]
  },
  {
   "cell_type": "markdown",
   "metadata": {},
   "source": [
    "<p align=\"center\">\n",
    "<img src=\"http://www.dhushara.com/book/unraveltree/root.jpg\" width=\"900\">\n",
    "\n",
    "</p>"
   ]
  },
  {
   "cell_type": "markdown",
   "metadata": {},
   "source": [
    "# Discussion"
   ]
  },
  {
   "cell_type": "markdown",
   "metadata": {
    "collapsed": true
   },
   "source": [
    "From the calculations done above these sequences are different. They don't align so well -- check the file aligned_16S_Rrna.meg in the file data on my [github repository](https://github.com/Shuyib/Phylogenetic-tree-study/tree/master/data). This is due to a couple of reasons: we do not have the full sequence of the 16S Rrna gene for some organisms as i mentioned earlier, i've taken very few organisms that makes it even difficult for the software MEGA7 and clustal Omega to give better results in terms of making distance matrices between the bases. So what i'm doing is analogous to a situation of working with outliers. Removing them makes things worse since we won't have any sequences to compare.\n",
    "\n",
    "What exactly is a distance matrix? Let's go back to phylogenetics tools -- they are two ways of comparing given sequences one are **distance based methods** and the other is **character based methods**. Guess what? We've used both in this analysis. You'll figure that out after reading this explanation i'm about to give.\n",
    "\n",
    "A matrix consists of rows and columns of data of the same type. So when using distance based methods determining the number of mismatches between sequences sort of like this \"AATTCC\" == \"AATTGG\" == \"AGGCC\" but you do this with multiple sequences which gives rise to a pairwise distance matrix; this allows us to identify closely related species and the first two branches of the tree are formed. Then this matrix is remade, but from the previous step the most closely related species are found on the terminal branches. See the terminal node that is, marked red with *H.pylori* and *S.pneumoniae* 2nd last phylogenetic tree. In short, it involves estimating evolutionary distances and correcting for multiple events *Jukes & Cantor 1969* then making of a tree diagram based on the evolutionary distance. For example, the **Neighbour joining method**. \n",
    "\n",
    "Character based methods, aim to explain the relationship between the sequences that are most likely or give the simplest explanation observed in the data. They look at all possible trees and identify the single tree or set of trees that explains the data the best based on a specific criteria. For example **Maximum Likelihood**. \n",
    "\n",
    "Notice the trees generated with MEGA7 don't give a good bootstrap support for example 49 at the clade (numbers above the branch of the trees); however, some a good > 70 which is generally acceptable. I think also more parameter tuning could help of the following attributes: Gaps-Missing Data / Pairwise Deletion, Model / Nucleotide, Rates among sites / Different (Gamma Distributed) and Gamma Parameter in the MEGA 7 software.\n",
    "\n",
    "Which tree brought us close to the full phylogenetic tree above? Let's try and make a small tree to find out. *K.pneumoniae* is not in the tree but according to many of it's properties: morphological and biochemical. I think it's safe to say it will be close to *E.coli* in fact they are on the same family Enterobacteriaceae. Whereas, *A.baumanii* is the phylum Proteobacteria with that in mind i suppose it will also be close to *E.coli* since it is also, in the proteobacteria phylum. Though, further way from *K.pneumoniae*. In summary, this is how i think the tree should look like (((*S.aureus*, *S.pneumoniae*), (*E.coli*, *K.pneumoniae*), *H.pylori*), *A.baumanii*) -- this is the newick representation of evolutionary relationships. NB. the strains used in the tree are different from the ones we used but it help us estimate a tree for our needs."
   ]
  },
  {
   "cell_type": "markdown",
   "metadata": {},
   "source": [
    "# Conclusion"
   ]
  },
  {
   "cell_type": "markdown",
   "metadata": {
    "collapsed": true
   },
   "source": [
    "From the short phylogenetic tree analysis, i've learned that to draw better trees we need to add more organisms - they don't have to be from the same phylum, the more variety the better. To deal with outliers like we've seen in the above analysis. It also seems like a good idea to use a variety of methods to draw phylogenetics trees like we did. On the other hand, parameter tuning is important. I think the tree that brought us closer to what the true phylogenetic tree would look like are, the one we got from Clustal Omega and the one i wrote in the newick representation. For the unsupervised learning methods, didn't do so good perhaps due to the different lengths of the nucleotides or a better numpy array could've been defined with more features exploring different things about the organisms."
   ]
  }
 ],
 "metadata": {
  "anaconda-cloud": {},
  "kernelspec": {
   "display_name": "Python [conda env:py35]",
   "language": "python",
   "name": "conda-env-py35-py"
  },
  "language_info": {
   "codemirror_mode": {
    "name": "ipython",
    "version": 3
   },
   "file_extension": ".py",
   "mimetype": "text/x-python",
   "name": "python",
   "nbconvert_exporter": "python",
   "pygments_lexer": "ipython3",
   "version": "3.5.4"
  }
 },
 "nbformat": 4,
 "nbformat_minor": 1
}
