{
 "cells": [
  {
   "cell_type": "markdown",
   "metadata": {},
   "source": [
    "Title: Phylogenetic trees and unsupervised learning in the 16S rRNA region of bacteria\n",
    "\n",
    "Author: Nyabuti Mainye\n",
    "\n",
    "Date: 28/12/2017"
   ]
  },
  {
   "cell_type": "markdown",
   "metadata": {},
   "source": [
    "The phylogenetic tree analysis project structure:\n",
    "* Introduction: About organism comparison, phylogenetics: measurements and evolution and importance of this analysis.\n",
    "* Data: Explanation about the data we'll be using and a glimpse of what we'll be trying to do\n",
    "* Exploratory data analysis: Summary statistics (mean, mode, median) for example of the nucleic acid sequences to reveal insights to proceed with the analysis.\n",
    "* Discussion: Based on what we've done in the previous step, a more detailed explanation of what's happening. \n",
    "* Conclusion: What i learned from the whole analysis."
   ]
  },
  {
   "cell_type": "markdown",
   "metadata": {},
   "source": [
    "# Introduction"
   ]
  },
  {
   "cell_type": "markdown",
   "metadata": {},
   "source": [
    "These days the word DNA is being thrown around a lot and used as an excuse for observed traits in animals(phenotype this is called a trait you can observe). DNA is actually an acronymn meaning deoxyribonucleic acid, this is packaged in the nucleus of the cell, specifically in the chromosome and in mitochondrion in the context of animal cells. The good thing is that it's present in every living organism, DNA, i could be wrong. Some organisms such as viruses can have a variant of DNA rather a transcribed form of it; it's called RNA(ribonucleic acid). It can be single stranded or double stranded remember: measles virus and influenza virus those are great examples.\n",
    "\n",
    "\n",
    "Long ago, no till now we've been using microscopy to see the differences between organisms. However, using this morphological standard is not the best method to classify organisms since some look the same as others and this can throw off your experiment for example *Mycobacterium* species. So in the work of Carl Woese, proposed using a conserved region called Ribosomal rna region(think of it as a string of characters consisting of ATGC) in bacteria. His discovery changed the world of microbial ecology and taxonomy since via he's method -- we can now discover more organisms than we could ever grow in culture media dealing with the **great plate count anomaly**. **The amount of difference between the strings is a measure of the amount of evolution that separates the organisms**. Remember this sentence it will come in handy in other sections of this study.\n",
    "\n",
    "We are going to do phylogenetics which involves drawing tree diagrams similar to hierarchial clustering done in unsupervised learning, a technique in machine learning. This shows relationships between members and their sequences. The importance of such studies like this is to study evolutionary relationships, pattern divergence and generate hypotheses about gene and protein function."
   ]
  },
  {
   "cell_type": "markdown",
   "metadata": {
    "collapsed": true
   },
   "source": [
    "# Data"
   ]
  },
  {
   "cell_type": "markdown",
   "metadata": {
    "collapsed": true
   },
   "source": [
    "We'll use a multifasta file, a common way of representing genomic features. However, they are usually for a similar region/locus of different organisms. In our case we'll be dealing with several microbial regions 16S ribosomal ribonucleic acid region in short, 16S rRNA, a part of the 30S small subunit of a prokaryotic ribosome. Why did i choose this region? it is a small region about 1500 nucleotides long with conserved and variable regions. The conserved region helps us identify the gene especially the V4 region where as the variable tell the species apart. This region doesn't evolve quickly and it also codes for the major ribosomal subunit. \n",
    "\n",
    "We'll be working with similar regions of 6 bacterial 16S Rrna regions from [NCBI](https://www.ncbi.nlm.nih.gov/)- obtained from \n",
    "mostly wounds of human beings. The organisms chosen are potentially dangerous since they could cause wound infections leading to bacteriema or septicemia. Intially, i was interested in look\n",
    "ing at antibiotic resistant strains only but they proved to be very difficult to find in the\n",
    "database mentioned. Below are the accession numbers, the names of the bacteria(italicized), the region and number of nucleotides(I counted these separately then appended the result):\n",
    "\n",
    "NB. the .1 means the version of that particular record\n",
    "* AM157442.1 *Streptococcus pneumoniae* 16S rRNA gene, clone 4V4 1,555 bp\n",
    "* U01332.1 *Helicobacter pylori isolate* MC903 16S rRNA gene 1,503 bp\n",
    "* LN871587.1 *Staphylococcus aureus partial* 16S rRNA gene, isolate A5 790bp\n",
    "* FM207520.1 *Acinetobacter baumannii* partial 16S rRNA gene, strain CWS18 735bp\n",
    "* HF564650.1 *Escherichia coli* partial 16S rRNA gene, isolate A2M11 844 bp\n",
    "* FM207545.1 *Klebsiella pneumoniae* partial 16S rRNA gene, strain CWS45 679 bp\n",
    "\n",
    "But the sequences are supposed to be ~1500 bases/nucleotides? For the organisms, i was interested in that wasn't the case. So i just worked with what i could get. The upside is that the sequences are not ranges within the gene. Hopefully, they'll align during the multiple sequence alignment.\n",
    "\n",
    "A glimpse of the data we'll be working with:\n",
    ">S.aureus_LN871587.1\n",
    "CGGGGGGGTTTTTTTTTTTTAAGAGTTTTCCTCGTAGGATGAACGCTGGCGGCGTGCCTAATACATGCAA\n",
    "GTCGAGCGAACGGACGAGAAGCTTGCTTCTCTGATGTTAGCGGCGGACGGGTGAGTAACACGTGGATAAC\n",
    "CTACCTATAAGACTGGGATAACTTCGGGAAACCGGAGCTAATACCGGATAATATTTTGAACCGCATGGTT\n",
    "CAAAAGTGAAAGACGGTCTTGCTGTCACTTATAGATGGATCCGCGCTGCATTAGCTAGTTGGTAAGGTAA\n",
    "CGGCTTACCAAGGCAACGATGCATAGCCGACCTGAGAGGGTGATCGGCCACACTGGAACTGAGACACGGT\n",
    "CCAGACTCCTACGGGAGGCAGCAGTAGGGAATCTTCCGCAATGGGCGAAAGCCTGACGGAGCAACGCCGC\n",
    "GTGAGTGATGAAGGTCTTCGGATCGTAAAACTCTGTTATTAGGGAAGAACATATGTGTAAGTAACTGTGC\n",
    "ACATCTTGACGGTACCTAATCAGAAAGCCACGGCTAACTACGTGCCAGCAGCCGCGGTAATACGTAGGTG\n",
    "GCAAGCGTTATCCGGAATTATTGGGCGTAAAGCGCGCGTAGGCGGTTTTTTAAGTCTGATGTGAAAGCCC\n",
    "ACGGCTCAACCGTGGAGGGTCATTGGAAACTGGAAAACTTGAGTGCAGAAGAGGAAAGTGGAATTCCATG\n",
    "TGTAGCGGTGAAATGCGCAGAGATATGGAGGAACACCAGTGGCGAAGGCGACTTTCTGGTCTGTAACTGA\n",
    "CGCTGATTGCGAAAGATCGC\n",
    "\n",
    "\n",
    ">A.baumannii_FM207520.1\n",
    "GCTGGCGGCAGGCTTAACACATGCAAGTCGAGCGGGGGAAGGTAGCTTGCTACTGGACCTAGCGGCGGAC\n",
    "GGGTGAGTAATGCTTAGGAATCTGCCTATTAGTGGGGGACAACATCTCGAAAGGGATGCTAATACCGCAT\n",
    "ACGTCCTACGGGAGAAAGCAGGGGATCTTCGGACCTTGCGCTAATAGATGAGCCTAAGTCGGATTAGCTA\n",
    "GTTGGTGGGGTAAAGGCCTACCAAGGCGACGATCTGTAGCGGGTCTGAGAGGATGATCCGCCACACTGGG\n",
    "ACTGAGACACGGCCCAGACTCCTACGGGAGGCAGCAGTGGGGAATATTGGACAATGGGGGGAACCCTGAT\n",
    "CCAGCCATGCCGCGTGTGTGAAGAAGGCCTTATGGTTGTAAAGCACTTTAAGCGAGGAGGAGGCTACTTT\n",
    "AGTTAATACCTAGAGATAGTGGACGTTACTCGCAGAATAAGCACCGGCTAACTCTGTGCCAGCAGCCGCG\n",
    "GTAATACAGAGGGTGCGAGCGTTAATCGGATTTACTGGGCGTAAAGCGTGCGTAGGCGGCTTATTAAGTC\n",
    "GGATGTGAAATCCCCGAGCTTAACTTGGGAATTGCATTCGATACTGGTGAGCTAGAGTATGGGAGAGGAT\n",
    "GGTAGAATTCCAGGTGTAGCGGTGAAATGCGTAGAGTCTGGAGGAATACCGATGGCGAAGGCAGCCATCT\n",
    "GGCCTAATACTGACGCTGAGGTACGAAAGCAGGGG\n"
   ]
  },
  {
   "cell_type": "markdown",
   "metadata": {
    "collapsed": true
   },
   "source": [
    "# Exploratory Data analysis"
   ]
  },
  {
   "cell_type": "markdown",
   "metadata": {},
   "source": [
    "If you were expecting summary statitstics and a graph here. Then you got it! What we are going to do here. Let's first count the number of bases per region in the different organisms."
   ]
  },
  {
   "cell_type": "markdown",
   "metadata": {},
   "source": [
    "Pseudocode:\n",
    "\n",
    "Find a way to import the bases to your notebook.\n",
    "\n",
    "Count the number of bases in each organism.\n",
    "\n",
    "Generate summary status especially the median.\n",
    "\n",
    "Draw a graph to see distribution of each nitrogenous base/base."
   ]
  },
  {
   "cell_type": "code",
   "execution_count": 1,
   "metadata": {
    "collapsed": false
   },
   "outputs": [],
   "source": [
    "import pyperclip"
   ]
  },
  {
   "cell_type": "code",
   "execution_count": 2,
   "metadata": {
    "collapsed": true
   },
   "outputs": [],
   "source": [
    "def import_nuc_segments ():\n",
    "    '''displays text copied onto clipboard and shows the result\n",
    "    Returns the text copied'''\n",
    "    organism = pyperclip.paste()\n",
    "    return (organism)"
   ]
  },
  {
   "cell_type": "code",
   "execution_count": 3,
   "metadata": {
    "collapsed": false
   },
   "outputs": [
    {
     "name": "stdout",
     "output_type": "stream",
     "text": [
      "CGGGGGGGTTTTTTTTTTTTAAGAGTTTTCCTCGTAGGATGAACGCTGGCGGCGTGCCTAATACATGCAA\n",
      "GTCGAGCGAACGGACGAGAAGCTTGCTTCTCTGATGTTAGCGGCGGACGGGTGAGTAACACGTGGATAAC\n",
      "CTACCTATAAGACTGGGATAACTTCGGGAAACCGGAGCTAATACCGGATAATATTTTGAACCGCATGGTT\n",
      "CAAAAGTGAAAGACGGTCTTGCTGTCACTTATAGATGGATCCGCGCTGCATTAGCTAGTTGGTAAGGTAA\n",
      "CGGCTTACCAAGGCAACGATGCATAGCCGACCTGAGAGGGTGATCGGCCACACTGGAACTGAGACACGGT\n",
      "CCAGACTCCTACGGGAGGCAGCAGTAGGGAATCTTCCGCAATGGGCGAAAGCCTGACGGAGCAACGCCGC\n",
      "GTGAGTGATGAAGGTCTTCGGATCGTAAAACTCTGTTATTAGGGAAGAACATATGTGTAAGTAACTGTGC\n",
      "ACATCTTGACGGTACCTAATCAGAAAGCCACGGCTAACTACGTGCCAGCAGCCGCGGTAATACGTAGGTG\n",
      "GCAAGCGTTATCCGGAATTATTGGGCGTAAAGCGCGCGTAGGCGGTTTTTTAAGTCTGATGTGAAAGCCC\n",
      "ACGGCTCAACCGTGGAGGGTCATTGGAAACTGGAAAACTTGAGTGCAGAAGAGGAAAGTGGAATTCCATG\n",
      "TGTAGCGGTGAAATGCGCAGAGATATGGAGGAACACCAGTGGCGAAGGCGACTTTCTGGTCTGTAACTGA\n",
      "CGCTGATTGCGAAAGATCGC\n"
     ]
    }
   ],
   "source": [
    "s_aureus = import_nuc_segments()\n",
    "print (s_aureus)"
   ]
  },
  {
   "cell_type": "code",
   "execution_count": 4,
   "metadata": {
    "collapsed": false
   },
   "outputs": [
    {
     "name": "stdout",
     "output_type": "stream",
     "text": [
      "GCTGGCGGCAGGCTTAACACATGCAAGTCGAGCGGGGGAAGGTAGCTTGCTACTGGACCTAGCGGCGGAC\n",
      "GGGTGAGTAATGCTTAGGAATCTGCCTATTAGTGGGGGACAACATCTCGAAAGGGATGCTAATACCGCAT\n",
      "ACGTCCTACGGGAGAAAGCAGGGGATCTTCGGACCTTGCGCTAATAGATGAGCCTAAGTCGGATTAGCTA\n",
      "GTTGGTGGGGTAAAGGCCTACCAAGGCGACGATCTGTAGCGGGTCTGAGAGGATGATCCGCCACACTGGG\n",
      "ACTGAGACACGGCCCAGACTCCTACGGGAGGCAGCAGTGGGGAATATTGGACAATGGGGGGAACCCTGAT\n",
      "CCAGCCATGCCGCGTGTGTGAAGAAGGCCTTATGGTTGTAAAGCACTTTAAGCGAGGAGGAGGCTACTTT\n",
      "AGTTAATACCTAGAGATAGTGGACGTTACTCGCAGAATAAGCACCGGCTAACTCTGTGCCAGCAGCCGCG\n",
      "GTAATACAGAGGGTGCGAGCGTTAATCGGATTTACTGGGCGTAAAGCGTGCGTAGGCGGCTTATTAAGTC\n",
      "GGATGTGAAATCCCCGAGCTTAACTTGGGAATTGCATTCGATACTGGTGAGCTAGAGTATGGGAGAGGAT\n",
      "GGTAGAATTCCAGGTGTAGCGGGAAATGCGTAGAGTCTGGAGGAATACCGATGGCGAAGGCAGCCATCT\n",
      "GGCCTAATACTGACGCTGAGGTACGAAAGCAGGGG\n"
     ]
    }
   ],
   "source": [
    "a_baumannii = import_nuc_segments()\n",
    "print (a_baumannii)"
   ]
  },
  {
   "cell_type": "code",
   "execution_count": 5,
   "metadata": {
    "collapsed": false
   },
   "outputs": [
    {
     "name": "stdout",
     "output_type": "stream",
     "text": [
      "TGCAGTCGAACGGTAACAGGAAGCAGCTTGCTGCTTTGCTGACGAGTGGCGGACGGGTGAGTAATGTCTG\n",
      "GGAAACTGCCTGATGGAGGGGGATAACTACTGGAAACGGTAGCTAATACCGCATAACGTCGCAAGACCAA\n",
      "AGAGGGGGACCTTCGGGCCTCTTGCCATCGGATGTGCCCAGATGGGATTAGCTAGTAGGTGGGGTAACGG\n",
      "CTCACCTAGGCGACGATCCCTAGCTGGTCTGAGAGGATGACCAGCCACACTGGAACTGAGACACGGTCCA\n",
      "GACTCCTACGGGAGGCAGCAGTGGGGAATATTGCACAATGGGCGCAAGCCTGATGCAGCCATGCCGCGTG\n",
      "TATGAAGAAGGCCTTCGGGTTGTAAAGTACTTTCAGCGGGGAGGAAGGGAGTAAAGTTAATACCTTTGCT\n",
      "CATTGACGTTACCCGCAGAAGAAGCACCGGCTAACTCCGTGCCAGCAGCCGCGGTAATACGGAGGGTGCA\n",
      "AGCGTTAATCGGAATTACTGGGCGTAAAGCGCACGCAGGCGGTTTGTTAAGTCAGATGTGAAATCCCCGG\n",
      "GCTCAACCTGGGAACTGCATCTGATACTGGCAAGCTTGAGTCTCGTAGAGGGGGGTAGAATTCCAGGTGT\n",
      "AGCGGTGAAATGCGTAGAGATCTGGAGGAATACCGGTGGCGAAGGCGGCCCCCTGGACGAAGACTGACGC\n",
      "TCAGGTGCGAAAGCGTGGGGAGCAAACAGGATTAGATACCCTGGTAGTCCACGCCGTAAACGATGTCGAC\n",
      "TTGGAGGTTGTGCCCTTGAGGCGTGGCTTCCGGAGCTAACGCGTTAAGTCGACCGCCTGGGGAGTACGGC\n",
      "CGCA\n"
     ]
    }
   ],
   "source": [
    "e_coli = import_nuc_segments()\n",
    "print (e_coli)"
   ]
  },
  {
   "cell_type": "code",
   "execution_count": 6,
   "metadata": {
    "collapsed": false
   },
   "outputs": [
    {
     "name": "stdout",
     "output_type": "stream",
     "text": [
      "CGAGCGGTAGCACAGAGAGCTTGCTCTCGGGTGACGAGCGGCGGACGGGTGAGTAATGTCTGGGAAACTG\n",
      "CCTGATGGAGGGGGATAACTACTGGAAACGGTAGCTAATACCGCATAACGTCGCAAGACCAAAGTGGGGG\n",
      "ACCTTCGGGCCTCATGCCATCAGATGTGCCCAGATGGGATTAGCTAGTAGGTGGGGTAACGGCTCACCTA\n",
      "GGCGACGATCCCTAGCTGGTCTGAGAGGATGACCAGCCACACTGGAACTGAGACACGGTCCAGACTCCTA\n",
      "CGGGAGGCAGCAGTGGGGAATATTGCACAATGGGCGCAAGCCTGATGCAAGCCATGCCGCGTGTGTGAAG\n",
      "AAGGCCTTCGGGTTGTAAAGCACTTTCAGCGGGGAGGAAGGCGATAAGGTTAATAACCTTGTCGATTGAC\n",
      "GTTACCCGCAGAAGAAGCCCCGGCTAACTCCGTGCCAGCAGCCGCGGTAATACGGAGGGTGCAAGCGTTA\n",
      "ATCGGAATTACTGGGCGTAAAGCGCACGCAGGCGGTCTGTCAAGTCGGATGTGAAATCCCCGGGCTCAAC\n",
      "CTGGGAACTGCATTCGAAACTGGCAGGCTAGAGTCTTGTAGAGGGGGGTAGAATTCCAGGTGTAGCGGTG\n",
      "AAATGCGTAGAGATCTGGAGGAATACCGGTGGCGAAGGCGGCCCCCTGG\n"
     ]
    }
   ],
   "source": [
    "k_pneumoniae = import_nuc_segments()\n",
    "print (k_pneumoniae)"
   ]
  },
  {
   "cell_type": "code",
   "execution_count": 7,
   "metadata": {
    "collapsed": false
   },
   "outputs": [
    {
     "name": "stdout",
     "output_type": "stream",
     "text": [
      "TACGGTTACCTTGTTACGACTTCACCCCAATCATCTATCCCACCTTAGGCGGCTGGCTCCTTACGGTTAC\n",
      "CTCACCGACTTCGGGTGTTACAAACTCTCGTGGTGTGACGGGCGGTGTGTACAAGGCCCGGGAACGTATT\n",
      "CACCGCGGCGTGCTGATCCGCGATTACTAGCGATTCCGACTTCATGTAGGCGAGTTGCAGCCTACAATCC\n",
      "GAACTGAGACTGGCTTTAAGAGATTAGCTTGCCGTCACCGGCTTGCGACTCGTTGTACCAGCCATTGTAG\n",
      "CACGTGTGTAGCCCAGGTCATAAGGGGCATGATGATTTGACGTCATCCCCACCTTCCTCCGGTTTATTAC\n",
      "CGGCAGTCTCGCTAGAGTGCCCAACTCAATGATGGCAACTAACAATAGGGGTTGCGCTCGTTGCGGGACT\n",
      "TAACCCAACATCTCACGACACGAGCTGACGACAACCATGCACCACCTGTCACCTCTGTCCCGAAGGAAAG\n",
      "CTCTATCTCTAGAGCGGTCAGAGGGATGTCAAGACCTGGTAAGGTTCTTCGCGTTGCTTCGAATTAAACC\n",
      "ACATGCTCCACCGCTTGTGCGGGCCCCCGTCAATTCCTTTGAGTTTCAACCTTGCGGTCGTACTCCCCAG\n",
      "GCGGAGTGCTTAATGCGTTAGCTACGGCACTAAACCCCGGAAAGGGTCTAACACCTAGCACTCATCGTTT\n",
      "ACGGCGTGGACTACCAGGGTATCTAATCCTGTTTGCTCCCCACGCTTTCGAGCCTCAGCGTCAGTTACAA\n",
      "GCCAGAGAGCCGCTTTCGCCACCGGTGTTCCTCCATATATCTACGCATTTCACCGCTACACATGGAATTC\n",
      "CACTCTCCCCTCTTGCACTCAAGTTAAACAGTTTCTAAAGCGTACTATGGTTAAGCCACAGCCTTTAACT\n",
      "TCAGACTTATCTAACCGCCTGCGGCTCGCTTTACGCCCAATAAATCCGGACAACGCTCGGGACCTACGTA\n",
      "TTACCGCGGCTGCTGGCACGTAGTTAGCCGTCCCTTTCTGGTAAGATACCGTCACAGTGTGAACTTTCCA\n",
      "CTCTCACACTCGTTCTTCTCTTACAACAGAGCTTTACGATCCGAAAACCTTCTTCACTCACGCGGCGTTG\n",
      "CTCGGTCAGACTTCCGTCCATTGCCGAAGATTCCCTACTGCTGCCTCCCGTAGGAGTCTGGGCCGTGTCT\n",
      "CAGTCCCAGTGTGGCCGATCACCCTCTCAGGTCGGCTATGTATCGTCGCCTTGGTGAGCCGTTACCCCAC\n",
      "CAACTAGCTAATACAACGCAGGTCCATCTGGTAGTGATGCAATTGCACCTTTCAAACAGTTGTCATACAA\n",
      "CAACTACTATTATGCGGTATTAGCTATCGTTTCCAATAGTTATCCCCCGCTACCAGGCAGGTTACCTACG\n",
      "CGTTACTCACCCGTTCGCAACTCATCCAGAGAAGCAAGCTCCTCCTTCAGCGTTCTACTTGCATGTATTA\n",
      "GGCACGCCGCCAGCGTTCGTCCTGAGCCAGAATCAAACTCTAATCGAATTCCCGCGGCCGCCATGGCGGC\n",
      "CGGAGCTGCRCTCGC\n"
     ]
    }
   ],
   "source": [
    "s_pneumoniae = import_nuc_segments()\n",
    "print (s_pneumoniae)"
   ]
  },
  {
   "cell_type": "code",
   "execution_count": 8,
   "metadata": {
    "collapsed": false
   },
   "outputs": [
    {
     "name": "stdout",
     "output_type": "stream",
     "text": [
      "TTTATGGAGAGTTTGATCCTGGCTCAGAGTGAACGCTGGCGGCGTGCCTAATACATGCAAGTCGAACGAT\n",
      "GAAGCTTCTAGCTTGCTAGAATGCTGATTAGTGGCGCACGGGTGAGTAACGCATAGGTCATGTGCCTCTT\n",
      "AGTTTGGGATAGCCATTGGAAACGATGATTAATACCAGATACTCCCTACGGGGGAAAGATTTATCGCTAA\n",
      "GAGATCAGCCTATGTCCTATCAGCTTGTTGGTAAGGTAATGGCTTACCAAGGCTATGACGGGTATCCGGC\n",
      "CTGAGAGGGTGAACGGACACACTGGAACTGAGACACGGTCCAGACTCCTACGGGAGGCAGCAGTAGGGAA\n",
      "TATTGCTCAATGGGGGAAACCCTGAAGCAGCAACGCCGCGTGGAGGATGAAGGTTTTAGGATTGTAAACT\n",
      "CCTTTTGTTAGAGAAGATAATGACGGTATCTAACGAATAAGCACCGGCTAACTCCGTGCCAGCAGCCGCG\n",
      "GTAATACGGAGGGTGCAAGCGTTACTCGGAATCACTGGGCGTAAAGAGCGCGTAGGCGGGATAGTCAGTC\n",
      "AGGTGTGAAATCCTATGGCTTAACCATAGAACTGCATTTGAAACTACTATTCTAGAGTGTGGGAGAGGTA\n",
      "GGTGGAATTCTTGGTGTAGGGGTAAAATCCGTAGAGATCAAGAGGAATACTCATTGCGAAGGCGACCTGC\n",
      "TGGAACATTACTGACGCTGATTGCGCGAAAGCGTGGGGAGCAAACAGGATTAGATACCCTGGTAGTCCAC\n",
      "GCCCTAAACGATGGATGCTAGTTGTTGGAGGGCTTAGTCTCTCCAGTAATGCAGCTAACGCATTAAGCAT\n",
      "CCCGCCTGGGGAGTACGGTCGCAAGATTAAAACTCAAAGGAATAGACGGGGACCCGCACAAGCGGTGGAG\n",
      "CATGTGGTTTAATTCGAAGATACACGAAGAACCTTACCTAGGCTTGACATTGAGAGAATCCGCTAGAAAT\n",
      "AGTGGAGTGTCTGGCTTGCTAGACCTTGAAAACAGGTGCTGCACGGCTGTCGTCAGCTCGTGTCGTGAGA\n",
      "TGTTGGGTTAAGTCCCGCAACGAGCGCAACCCCCTTTCTTAGTTGCTAACAGGTCATGCTGAGAACTCTA\n",
      "AGGATACTGCCTCCGTAAGGAGGAGGAAGGTGGGGACGACGTCAAGTCATCATGGCCCTTACGCCTAGGG\n",
      "CTACACACGTGCTACAATGGGGTGCACAAAGAGAAGCAATACTGCGAAGTGGAGTCAATCTTCAAAACAC\n",
      "CTCTCAGTTCGGATTGTAGGCTGCAACTCGCCTGCATGAAGCTGGAATCGCTAGTAATCGCAAATCAGCC\n",
      "ATGTTGCGGTGAATACGTTCCCGGGTCTTGTACTCACCGCCCGTCACACCATGGGAGTTGTGTTTGCCTT\n",
      "AAGTCAGGATGCTAAATTGGCTACTGCCCACGGCACACACAGCGACTGGGGTGAAGTCGTAACAAGGTAA\n",
      "CCGTAGGTGAACCTGCGGCTGGATCACCTCCTT\n"
     ]
    }
   ],
   "source": [
    "h_pylori = import_nuc_segments()\n",
    "print (h_pylori)"
   ]
  },
  {
   "cell_type": "markdown",
   "metadata": {},
   "source": [
    "We already know then length of each sequence. Let's proceed to the next step. Counting each base for the different organisms."
   ]
  },
  {
   "cell_type": "code",
   "execution_count": 9,
   "metadata": {
    "collapsed": true
   },
   "outputs": [],
   "source": [
    "from collections import Counter"
   ]
  },
  {
   "cell_type": "code",
   "execution_count": 10,
   "metadata": {
    "collapsed": false
   },
   "outputs": [],
   "source": [
    "def count_nucleotide (organismbases):\n",
    "    '''A function that takes a string of letters e.g ATCG, computes the number of bases, \n",
    "    sum of the bases and the most common bases provided.'''\n",
    "    organismbases = organismbases.replace('\\n', '') # removing newline characters\n",
    "    count_base = Counter(organismbases) # count each base\n",
    "    most_comm_base = count_base.most_common(2) # method to display the 2 most common bases\n",
    "    print (\"The three results are the number of each nucleotide, sum of all nucleotides and the 2 most common bases found.\")\n",
    "    return count_base, sum(count_base.values()),most_comm_base # cumulating the results "
   ]
  },
  {
   "cell_type": "code",
   "execution_count": 11,
   "metadata": {
    "collapsed": false
   },
   "outputs": [
    {
     "name": "stdout",
     "output_type": "stream",
     "text": [
      "The three results are the number of each nucleotide, sum of all nucleotides and the 2 most common bases found.\n",
      "(Counter({'G': 239, 'A': 213, 'T': 178, 'C': 160}), 790, [('G', 239), ('A', 213)])\n"
     ]
    }
   ],
   "source": [
    "print (count_nucleotide(s_aureus)) "
   ]
  },
  {
   "cell_type": "code",
   "execution_count": 12,
   "metadata": {
    "collapsed": false
   },
   "outputs": [
    {
     "name": "stdout",
     "output_type": "stream",
     "text": [
      "The three results are the number of each nucleotide, sum of all nucleotides and the 2 most common bases found.\n",
      "(Counter({'G': 246, 'A': 190, 'T': 151, 'C': 147}), 734, [('G', 246), ('A', 190)])\n"
     ]
    }
   ],
   "source": [
    "print(count_nucleotide(a_baumannii))"
   ]
  },
  {
   "cell_type": "code",
   "execution_count": 13,
   "metadata": {
    "collapsed": false
   },
   "outputs": [
    {
     "name": "stdout",
     "output_type": "stream",
     "text": [
      "The three results are the number of each nucleotide, sum of all nucleotides and the 2 most common bases found.\n",
      "(Counter({'G': 283, 'A': 207, 'C': 191, 'T': 163}), 844, [('G', 283), ('A', 207)])\n"
     ]
    }
   ],
   "source": [
    "print(count_nucleotide(e_coli))"
   ]
  },
  {
   "cell_type": "code",
   "execution_count": 14,
   "metadata": {
    "collapsed": false
   },
   "outputs": [
    {
     "name": "stdout",
     "output_type": "stream",
     "text": [
      "The three results are the number of each nucleotide, sum of all nucleotides and the 2 most common bases found.\n",
      "(Counter({'G': 434, 'A': 401, 'T': 342, 'C': 326}), 1503, [('G', 434), ('A', 401)])\n"
     ]
    }
   ],
   "source": [
    "print (count_nucleotide(h_pylori))"
   ]
  },
  {
   "cell_type": "code",
   "execution_count": 15,
   "metadata": {
    "collapsed": false
   },
   "outputs": [
    {
     "name": "stdout",
     "output_type": "stream",
     "text": [
      "The three results are the number of each nucleotide, sum of all nucleotides and the 2 most common bases found.\n",
      "(Counter({'C': 481, 'T': 394, 'G': 345, 'A': 334, 'R': 1}), 1555, [('C', 481), ('T', 394)])\n"
     ]
    }
   ],
   "source": [
    "print(count_nucleotide(s_pneumoniae))\n",
    "# Ignore the \"R\" for now"
   ]
  },
  {
   "cell_type": "code",
   "execution_count": 16,
   "metadata": {
    "collapsed": false
   },
   "outputs": [
    {
     "name": "stdout",
     "output_type": "stream",
     "text": [
      "The three results are the number of each nucleotide, sum of all nucleotides and the 2 most common bases found.\n",
      "(Counter({'G': 232, 'A': 168, 'C': 155, 'T': 124}), 679, [('G', 232), ('A', 168)])\n"
     ]
    }
   ],
   "source": [
    "print(count_nucleotide(k_pneumoniae))"
   ]
  },
  {
   "cell_type": "markdown",
   "metadata": {},
   "source": [
    "Interesting. Check the abundances of \"G\" and \"A\" they are the most common in almost every sequence, we've imported. Intially, while i was mindmapping writing this i wanted to use GC content. Now, i wanna use GA content. Not all organisms have the more GA notice *S.pneumoniae* is CT. Since our sequences differ in length which we will confirm later. Let's do more summary statistics and draw a graph."
   ]
  },
  {
   "cell_type": "code",
   "execution_count": 17,
   "metadata": {
    "collapsed": false
   },
   "outputs": [
    {
     "name": "stdout",
     "output_type": "stream",
     "text": [
      "median nucleotide content 817.0\n",
      "mean nucleotide content 1017.6666666666666\n"
     ]
    }
   ],
   "source": [
    "import numpy as np\n",
    "nuc_length = [790,735,844,679,1555,1503]\n",
    "print(\"median nucleotide content\" + \" \" + str(np.median(nuc_length)))\n",
    "print(\"mean nucleotide content\" + \" \" + str(np.mean(nuc_length)))\n",
    "\n",
    "# working with small length of the sequence, we know that already"
   ]
  },
  {
   "cell_type": "code",
   "execution_count": 18,
   "metadata": {
    "collapsed": true
   },
   "outputs": [],
   "source": [
    "import pandas as pd"
   ]
  },
  {
   "cell_type": "code",
   "execution_count": 19,
   "metadata": {
    "collapsed": false
   },
   "outputs": [
    {
     "name": "stdout",
     "output_type": "stream",
     "text": [
      "   A.baumanii  E.coli  H.pylori  K.pneumoniae  S.aureus  S.pneumoniae\n",
      "G         246     283       434           232       239           345\n",
      "A         190     207       401           168       213           334\n",
      "T         151     163       342           124       178           394\n",
      "C         147     191       326           155       160           481\n",
      "\n",
      "     A    C    G    T      organism\n",
      "0  190  147  246  151    A.baumanii\n",
      "1  207  191  283  163        E.coli\n",
      "2  401  326  434  342      H.pylori\n",
      "3  168  155  232  124  K.pneumoniae\n",
      "4  213  160  239  178      S.aureus\n",
      "5  334  481  345  394  S.pneumoniae\n"
     ]
    }
   ],
   "source": [
    "# Make a dataframe to use in the subsequent steps of the analysis\n",
    "df = pd.DataFrame({\"S.aureus\": [239, 213, 178, 160],\n",
    "                   \"A.baumanii\": [246, 190, 151, 147],\n",
    "                   \"E.coli\": [283, 207, 163, 191],\n",
    "                   \"K.pneumoniae\": [232, 168, 124, 155],\n",
    "                   \"S.pneumoniae\": [345, 334, 394, 481],\n",
    "                   \"H.pylori\": [434, 401, 342, 326]}, index = [\"G\", \"A\", \"T\", \"C\"])\n",
    "\n",
    "# A different version of the above dataframe\n",
    "df2 = pd.DataFrame({\"G\":[246,283,434,232,239,345],\n",
    "                    \"A\":[190,207,401,168,213,334],\n",
    "                    \"T\":[151,163,342,124,178,394],\n",
    "                    \"C\":[147,191,326,155,160,481],\n",
    "                    \"organism\":[\"A.baumanii\",\"E.coli\",\"H.pylori\",\"K.pneumoniae\"\n",
    "                                ,\"S.aureus\",\"S.pneumoniae\"]})\n",
    "\n",
    "print (df)\n",
    "print (\"\")\n",
    "print (df2)"
   ]
  },
  {
   "cell_type": "code",
   "execution_count": 20,
   "metadata": {
    "collapsed": false
   },
   "outputs": [],
   "source": [
    "# get the appropriate bases to count\n",
    "# cs\n",
    "def gc_content(seq):\n",
    "    '''gc_content takes a sequence of characters\n",
    "    counts the number of Cs and Gs within in the sequence\n",
    "    returns (g+c)/(number of all characters) * 100 - percentage'''\n",
    "    gc = (seq.count(\"C\") + seq.count(\"G\")) / (len(seq)) * 100\n",
    "    return gc\n",
    "\n",
    "def ga_content(seq):\n",
    "    '''ga_content takes a sequence of characters counts the number of Gs and As\n",
    "    within the sequence\n",
    "    returns (g+a)/(number of all characters) * 100 - percentage'''\n",
    "    ga = (seq.count(\"G\") + seq.count(\"A\")) / (len(seq))  * 100\n",
    "    return ga"
   ]
  },
  {
   "cell_type": "code",
   "execution_count": 21,
   "metadata": {
    "collapsed": false
   },
   "outputs": [],
   "source": [
    "# applying the function to each sequence we imported for the different organisms\n",
    "gc_a_baumanii = gc_content(a_baumannii)\n",
    "gc_e_coli = gc_content(e_coli)\n",
    "gc_h_pylori = gc_content(h_pylori)\n",
    "gc_k_pneumoniae = gc_content(k_pneumoniae)\n",
    "gc_s_aureus = gc_content(s_aureus)\n",
    "gc_s_pneumoniae = gc_content(s_pneumoniae)"
   ]
  },
  {
   "cell_type": "code",
   "execution_count": 22,
   "metadata": {
    "collapsed": false
   },
   "outputs": [],
   "source": [
    "# Do the same thing to each\n",
    "ga_a_baumanii = ga_content(a_baumannii)\n",
    "ga_e_coli = ga_content(e_coli)\n",
    "ga_h_pylori = ga_content(h_pylori)\n",
    "ga_k_pneumoniae = ga_content(k_pneumoniae)\n",
    "ga_s_aureus = ga_content(s_aureus)\n",
    "ga_s_pneumoniae = ga_content(s_pneumoniae)"
   ]
  },
  {
   "cell_type": "code",
   "execution_count": 23,
   "metadata": {
    "collapsed": false
   },
   "outputs": [],
   "source": [
    "# make new columns to populate the dataframe with appropriate contents : GC and GA\n",
    "df2.insert(loc=4, column='GC_content', value=[gc_a_baumanii, gc_e_coli, gc_h_pylori, gc_k_pneumoniae, gc_s_aureus\n",
    "                                           ,gc_s_pneumoniae]) \n",
    "\n",
    "df2.insert(loc=5, column='GA_content', value=[ga_a_baumanii, ga_e_coli, ga_h_pylori, ga_k_pneumoniae, ga_s_aureus,\n",
    "                                              ga_s_pneumoniae])"
   ]
  },
  {
   "cell_type": "code",
   "execution_count": 24,
   "metadata": {
    "collapsed": false
   },
   "outputs": [
    {
     "name": "stdout",
     "output_type": "stream",
     "text": [
      "     A    C    G    T  GC_content  GA_content      organism\n",
      "0  190  147  246  151   52.822581   58.602151    A.baumanii\n",
      "1  207  191  283  163   55.373832   57.242991        E.coli\n",
      "2  401  326  434  342   49.868766   54.790026      H.pylori\n",
      "3  168  155  232  124   56.250000   58.139535  K.pneumoniae\n",
      "4  213  160  239  178   49.812734   56.429463      S.aureus\n",
      "5  334  481  345  394   52.377933   43.056436  S.pneumoniae\n"
     ]
    }
   ],
   "source": [
    "# confirmation\n",
    "print (df2)"
   ]
  },
  {
   "cell_type": "code",
   "execution_count": 25,
   "metadata": {
    "collapsed": false
   },
   "outputs": [
    {
     "name": "stdout",
     "output_type": "stream",
     "text": [
      "\n",
      "<class 'pandas.core.frame.DataFrame'>\n",
      "\n",
      "   GC_content  GA_content\n",
      "0   52.822581   58.602151\n",
      "1   55.373832   57.242991\n",
      "2   49.868766   54.790026\n",
      "3   56.250000   58.139535\n",
      "4   49.812734   56.429463\n",
      "5   52.377933   43.056436\n"
     ]
    }
   ],
   "source": [
    "# for clustering\n",
    "content_nuc = df2[[\"GC_content\",\"GA_content\"]]\n",
    "\n",
    "print (\"\")\n",
    "print(type(content_nuc))\n",
    "print (\"\")\n",
    "print (content_nuc)"
   ]
  },
  {
   "cell_type": "markdown",
   "metadata": {},
   "source": [
    "Now that we've made preparations to our data. We can proceed to do the next step. Which was \"Draw a graph to see distribution of each base\"."
   ]
  },
  {
   "cell_type": "code",
   "execution_count": 26,
   "metadata": {
    "collapsed": false
   },
   "outputs": [],
   "source": [
    "from bokeh.plotting import figure\n",
    "from bokeh.io import output_notebook, show\n",
    "from bokeh.charts import Bar\n",
    "import matplotlib.pyplot as plt\n",
    "import seaborn as sns\n",
    "from bokeh.models.widgets import Tabs, Panel\n",
    "from bokeh.layouts import column, row\n",
    "from bokeh.palettes import Spectral5"
   ]
  },
  {
   "cell_type": "code",
   "execution_count": 27,
   "metadata": {
    "collapsed": false
   },
   "outputs": [],
   "source": [
    "# draw all the bar plots\n",
    "p = Bar(df2, label = 'organism', values=\"A\",agg =\"sum\", color=\"organism\",plot_width=450)\n",
    "p2 = Bar(df2, label = 'organism', values=\"T\",agg =\"sum\", color=\"organism\",plot_width=450)\n",
    "p3 = Bar(df2, label = 'organism', values=\"C\",agg =\"sum\", color=\"organism\",plot_width=450)\n",
    "p4 = Bar(df2, label = 'organism', values=\"G\",agg =\"sum\", color=\"organism\",plot_width=450)\n",
    "\n",
    "# make a Panels to store the plot objects: check out the docs in the references.txt\n",
    "first_second = Panel(child=row(p,p2), title = \"A and T\")\n",
    "third_fourth = Panel(child=row(p3,p4), title = \"C and G\")\n",
    "\n",
    "# make tabs like the ones you use in browsers\n",
    "tabs = Tabs(tabs=[first_second, third_fourth])"
   ]
  },
  {
   "cell_type": "code",
   "execution_count": 28,
   "metadata": {
    "collapsed": false
   },
   "outputs": [
    {
     "data": {
      "text/html": [
       "\n",
       "    <div class=\"bk-root\">\n",
       "        <a href=\"http://bokeh.pydata.org\" target=\"_blank\" class=\"bk-logo bk-logo-small bk-logo-notebook\"></a>\n",
       "        <span id=\"7f3c02a1-721f-4db2-878a-9343c61428f0\">Loading BokehJS ...</span>\n",
       "    </div>"
      ]
     },
     "metadata": {},
     "output_type": "display_data"
    },
    {
     "data": {
      "application/javascript": [
       "\n",
       "(function(global) {\n",
       "  function now() {\n",
       "    return new Date();\n",
       "  }\n",
       "\n",
       "  var force = \"1\";\n",
       "\n",
       "  if (typeof (window._bokeh_onload_callbacks) === \"undefined\" || force !== \"\") {\n",
       "    window._bokeh_onload_callbacks = [];\n",
       "    window._bokeh_is_loading = undefined;\n",
       "  }\n",
       "\n",
       "\n",
       "  \n",
       "  if (typeof (window._bokeh_timeout) === \"undefined\" || force !== \"\") {\n",
       "    window._bokeh_timeout = Date.now() + 5000;\n",
       "    window._bokeh_failed_load = false;\n",
       "  }\n",
       "\n",
       "  var NB_LOAD_WARNING = {'data': {'text/html':\n",
       "     \"<div style='background-color: #fdd'>\\n\"+\n",
       "     \"<p>\\n\"+\n",
       "     \"BokehJS does not appear to have successfully loaded. If loading BokehJS from CDN, this \\n\"+\n",
       "     \"may be due to a slow or bad network connection. Possible fixes:\\n\"+\n",
       "     \"</p>\\n\"+\n",
       "     \"<ul>\\n\"+\n",
       "     \"<li>re-rerun `output_notebook()` to attempt to load from CDN again, or</li>\\n\"+\n",
       "     \"<li>use INLINE resources instead, as so:</li>\\n\"+\n",
       "     \"</ul>\\n\"+\n",
       "     \"<code>\\n\"+\n",
       "     \"from bokeh.resources import INLINE\\n\"+\n",
       "     \"output_notebook(resources=INLINE)\\n\"+\n",
       "     \"</code>\\n\"+\n",
       "     \"</div>\"}};\n",
       "\n",
       "  function display_loaded() {\n",
       "    if (window.Bokeh !== undefined) {\n",
       "      Bokeh.$(\"#7f3c02a1-721f-4db2-878a-9343c61428f0\").text(\"BokehJS successfully loaded.\");\n",
       "    } else if (Date.now() < window._bokeh_timeout) {\n",
       "      setTimeout(display_loaded, 100)\n",
       "    }\n",
       "  }\n",
       "\n",
       "  function run_callbacks() {\n",
       "    window._bokeh_onload_callbacks.forEach(function(callback) { callback() });\n",
       "    delete window._bokeh_onload_callbacks\n",
       "    console.info(\"Bokeh: all callbacks have finished\");\n",
       "  }\n",
       "\n",
       "  function load_libs(js_urls, callback) {\n",
       "    window._bokeh_onload_callbacks.push(callback);\n",
       "    if (window._bokeh_is_loading > 0) {\n",
       "      console.log(\"Bokeh: BokehJS is being loaded, scheduling callback at\", now());\n",
       "      return null;\n",
       "    }\n",
       "    if (js_urls == null || js_urls.length === 0) {\n",
       "      run_callbacks();\n",
       "      return null;\n",
       "    }\n",
       "    console.log(\"Bokeh: BokehJS not loaded, scheduling load and callback at\", now());\n",
       "    window._bokeh_is_loading = js_urls.length;\n",
       "    for (var i = 0; i < js_urls.length; i++) {\n",
       "      var url = js_urls[i];\n",
       "      var s = document.createElement('script');\n",
       "      s.src = url;\n",
       "      s.async = false;\n",
       "      s.onreadystatechange = s.onload = function() {\n",
       "        window._bokeh_is_loading--;\n",
       "        if (window._bokeh_is_loading === 0) {\n",
       "          console.log(\"Bokeh: all BokehJS libraries loaded\");\n",
       "          run_callbacks()\n",
       "        }\n",
       "      };\n",
       "      s.onerror = function() {\n",
       "        console.warn(\"failed to load library \" + url);\n",
       "      };\n",
       "      console.log(\"Bokeh: injecting script tag for BokehJS library: \", url);\n",
       "      document.getElementsByTagName(\"head\")[0].appendChild(s);\n",
       "    }\n",
       "  };var element = document.getElementById(\"7f3c02a1-721f-4db2-878a-9343c61428f0\");\n",
       "  if (element == null) {\n",
       "    console.log(\"Bokeh: ERROR: autoload.js configured with elementid '7f3c02a1-721f-4db2-878a-9343c61428f0' but no matching script tag was found. \")\n",
       "    return false;\n",
       "  }\n",
       "\n",
       "  var js_urls = ['https://cdn.pydata.org/bokeh/release/bokeh-0.12.2.min.js', 'https://cdn.pydata.org/bokeh/release/bokeh-widgets-0.12.2.min.js', 'https://cdn.pydata.org/bokeh/release/bokeh-compiler-0.12.2.min.js'];\n",
       "\n",
       "  var inline_js = [\n",
       "    function(Bokeh) {\n",
       "      Bokeh.set_log_level(\"info\");\n",
       "    },\n",
       "    \n",
       "    function(Bokeh) {\n",
       "      \n",
       "      Bokeh.$(\"#7f3c02a1-721f-4db2-878a-9343c61428f0\").text(\"BokehJS is loading...\");\n",
       "\n",
       "    },\n",
       "    function(Bokeh) {\n",
       "      console.log(\"Bokeh: injecting CSS: https://cdn.pydata.org/bokeh/release/bokeh-0.12.2.min.css\");\n",
       "      Bokeh.embed.inject_css(\"https://cdn.pydata.org/bokeh/release/bokeh-0.12.2.min.css\");\n",
       "      console.log(\"Bokeh: injecting CSS: https://cdn.pydata.org/bokeh/release/bokeh-widgets-0.12.2.min.css\");\n",
       "      Bokeh.embed.inject_css(\"https://cdn.pydata.org/bokeh/release/bokeh-widgets-0.12.2.min.css\");\n",
       "    }\n",
       "  ];\n",
       "\n",
       "  function run_inline_js() {\n",
       "    \n",
       "    if ((window.Bokeh !== undefined) || (force === \"1\")) {\n",
       "      for (var i = 0; i < inline_js.length; i++) {\n",
       "        inline_js[i](window.Bokeh);\n",
       "      }if (force === \"1\") {\n",
       "        display_loaded();\n",
       "      }} else if (Date.now() < window._bokeh_timeout) {\n",
       "      setTimeout(run_inline_js, 100);\n",
       "    } else if (!window._bokeh_failed_load) {\n",
       "      console.log(\"Bokeh: BokehJS failed to load within specified timeout.\");\n",
       "      window._bokeh_failed_load = true;\n",
       "    } else if (!force) {\n",
       "      var cell = $(\"#7f3c02a1-721f-4db2-878a-9343c61428f0\").parents('.cell').data().cell;\n",
       "      cell.output_area.append_execute_result(NB_LOAD_WARNING)\n",
       "    }\n",
       "\n",
       "  }\n",
       "\n",
       "  if (window._bokeh_is_loading === 0) {\n",
       "    console.log(\"Bokeh: BokehJS loaded, going straight to plotting\");\n",
       "    run_inline_js();\n",
       "  } else {\n",
       "    load_libs(js_urls, function() {\n",
       "      console.log(\"Bokeh: BokehJS plotting callback run at\", now());\n",
       "      run_inline_js();\n",
       "    });\n",
       "  }\n",
       "}(this));"
      ]
     },
     "metadata": {},
     "output_type": "display_data"
    },
    {
     "data": {
      "text/html": [
       "\n",
       "\n",
       "    <div class=\"bk-root\">\n",
       "        <div class=\"plotdiv\" id=\"2050a09c-e2a1-4f31-935e-b4f37199601e\"></div>\n",
       "    </div>\n",
       "<script type=\"text/javascript\">\n",
       "  \n",
       "  (function(global) {\n",
       "    function now() {\n",
       "      return new Date();\n",
       "    }\n",
       "\n",
       "    var force = \"\";\n",
       "\n",
       "    if (typeof (window._bokeh_onload_callbacks) === \"undefined\" || force !== \"\") {\n",
       "      window._bokeh_onload_callbacks = [];\n",
       "      window._bokeh_is_loading = undefined;\n",
       "    }\n",
       "\n",
       "\n",
       "    \n",
       "    if (typeof (window._bokeh_timeout) === \"undefined\" || force !== \"\") {\n",
       "      window._bokeh_timeout = Date.now() + 0;\n",
       "      window._bokeh_failed_load = false;\n",
       "    }\n",
       "\n",
       "    var NB_LOAD_WARNING = {'data': {'text/html':\n",
       "       \"<div style='background-color: #fdd'>\\n\"+\n",
       "       \"<p>\\n\"+\n",
       "       \"BokehJS does not appear to have successfully loaded. If loading BokehJS from CDN, this \\n\"+\n",
       "       \"may be due to a slow or bad network connection. Possible fixes:\\n\"+\n",
       "       \"</p>\\n\"+\n",
       "       \"<ul>\\n\"+\n",
       "       \"<li>re-rerun `output_notebook()` to attempt to load from CDN again, or</li>\\n\"+\n",
       "       \"<li>use INLINE resources instead, as so:</li>\\n\"+\n",
       "       \"</ul>\\n\"+\n",
       "       \"<code>\\n\"+\n",
       "       \"from bokeh.resources import INLINE\\n\"+\n",
       "       \"output_notebook(resources=INLINE)\\n\"+\n",
       "       \"</code>\\n\"+\n",
       "       \"</div>\"}};\n",
       "\n",
       "    function display_loaded() {\n",
       "      if (window.Bokeh !== undefined) {\n",
       "        Bokeh.$(\"#2050a09c-e2a1-4f31-935e-b4f37199601e\").text(\"BokehJS successfully loaded.\");\n",
       "      } else if (Date.now() < window._bokeh_timeout) {\n",
       "        setTimeout(display_loaded, 100)\n",
       "      }\n",
       "    }\n",
       "\n",
       "    function run_callbacks() {\n",
       "      window._bokeh_onload_callbacks.forEach(function(callback) { callback() });\n",
       "      delete window._bokeh_onload_callbacks\n",
       "      console.info(\"Bokeh: all callbacks have finished\");\n",
       "    }\n",
       "\n",
       "    function load_libs(js_urls, callback) {\n",
       "      window._bokeh_onload_callbacks.push(callback);\n",
       "      if (window._bokeh_is_loading > 0) {\n",
       "        console.log(\"Bokeh: BokehJS is being loaded, scheduling callback at\", now());\n",
       "        return null;\n",
       "      }\n",
       "      if (js_urls == null || js_urls.length === 0) {\n",
       "        run_callbacks();\n",
       "        return null;\n",
       "      }\n",
       "      console.log(\"Bokeh: BokehJS not loaded, scheduling load and callback at\", now());\n",
       "      window._bokeh_is_loading = js_urls.length;\n",
       "      for (var i = 0; i < js_urls.length; i++) {\n",
       "        var url = js_urls[i];\n",
       "        var s = document.createElement('script');\n",
       "        s.src = url;\n",
       "        s.async = false;\n",
       "        s.onreadystatechange = s.onload = function() {\n",
       "          window._bokeh_is_loading--;\n",
       "          if (window._bokeh_is_loading === 0) {\n",
       "            console.log(\"Bokeh: all BokehJS libraries loaded\");\n",
       "            run_callbacks()\n",
       "          }\n",
       "        };\n",
       "        s.onerror = function() {\n",
       "          console.warn(\"failed to load library \" + url);\n",
       "        };\n",
       "        console.log(\"Bokeh: injecting script tag for BokehJS library: \", url);\n",
       "        document.getElementsByTagName(\"head\")[0].appendChild(s);\n",
       "      }\n",
       "    };var element = document.getElementById(\"2050a09c-e2a1-4f31-935e-b4f37199601e\");\n",
       "    if (element == null) {\n",
       "      console.log(\"Bokeh: ERROR: autoload.js configured with elementid '2050a09c-e2a1-4f31-935e-b4f37199601e' but no matching script tag was found. \")\n",
       "      return false;\n",
       "    }\n",
       "\n",
       "    var js_urls = [];\n",
       "\n",
       "    var inline_js = [\n",
       "      function(Bokeh) {\n",
       "        Bokeh.$(function() {\n",
       "            var docs_json = {\"93d12eae-8365-43bf-b20e-df29bbd70e8d\":{\"roots\":{\"references\":[{\"attributes\":{\"plot\":{\"id\":\"edab1af4-2726-4797-942c-8622278877d5\",\"subtype\":\"Chart\",\"type\":\"Plot\"}},\"id\":\"a5f69125-7cc6-4689-9036-56e78ec859a1\",\"type\":\"WheelZoomTool\"},{\"attributes\":{\"plot\":{\"id\":\"dcfd524e-b1c9-41b9-8f8b-94c398d198fa\",\"subtype\":\"Chart\",\"type\":\"Plot\"}},\"id\":\"467ffbc1-61f7-4a30-8be7-4eaf05249018\",\"type\":\"WheelZoomTool\"},{\"attributes\":{\"plot\":{\"id\":\"28eaf4de-71d7-47ef-8094-d494bbc0297e\",\"subtype\":\"Chart\",\"type\":\"Plot\"}},\"id\":\"1d3e51f6-a4f0-454b-821e-cc17ab80edbd\",\"type\":\"HelpTool\"},{\"attributes\":{\"callback\":null,\"tabs\":[{\"id\":\"efdf8085-28e8-4391-b8ec-b736e36653a4\",\"type\":\"Panel\"},{\"id\":\"e9e691e7-1ff5-4e52-a6df-e082d011dd83\",\"type\":\"Panel\"}]},\"id\":\"ba98ad09-64e4-4a4d-8c53-f87c4252bf74\",\"type\":\"Tabs\"},{\"attributes\":{\"plot\":null,\"text\":null},\"id\":\"a061d440-cafa-4cb1-a581-0c0b6020d127\",\"type\":\"Title\"},{\"attributes\":{\"data_source\":{\"id\":\"9a91ff26-4ea4-4f43-b04d-8f125fca2683\",\"type\":\"ColumnDataSource\"},\"glyph\":{\"id\":\"06d0a77d-86be-4c60-a65e-26dd6440af0d\",\"type\":\"Rect\"},\"hover_glyph\":null,\"nonselection_glyph\":null,\"selection_glyph\":null},\"id\":\"396f356a-f79b-4b4b-bcc3-b7736467424b\",\"type\":\"GlyphRenderer\"},{\"attributes\":{\"callback\":null,\"column_names\":[\"fill_alpha\",\"line_alpha\",\"color\",\"line_color\",\"x\",\"y\",\"height\",\"label\",\"width\"],\"data\":{\"chart_index\":[{\"organism\":\"S.pneumoniae\"}],\"color\":[\"#c33ff3\"],\"fill_alpha\":[0.8],\"height\":[334.0],\"label\":[{\"organism\":\"S.pneumoniae\"}],\"line_alpha\":[1.0],\"line_color\":[\"white\"],\"organism\":[\"S.pneumoniae\"],\"width\":[0.8],\"x\":[\"S.pneumoniae\"],\"y\":[167.0]}},\"id\":\"7bae5a29-4e71-4530-b95f-a513db519aa8\",\"type\":\"ColumnDataSource\"},{\"attributes\":{\"bottom_units\":\"screen\",\"fill_alpha\":{\"value\":0.5},\"fill_color\":{\"value\":\"lightgrey\"},\"left_units\":\"screen\",\"level\":\"overlay\",\"line_alpha\":{\"value\":1.0},\"line_color\":{\"value\":\"black\"},\"line_dash\":[4,4],\"line_width\":{\"value\":2},\"plot\":null,\"render_mode\":\"css\",\"right_units\":\"screen\",\"top_units\":\"screen\"},\"id\":\"7ed76abf-89c2-457b-b9a5-0e6a34baa8c8\",\"type\":\"BoxAnnotation\"},{\"attributes\":{\"data_source\":{\"id\":\"a7714ff0-d0b6-4495-8f78-3dca8b162a01\",\"type\":\"ColumnDataSource\"},\"glyph\":{\"id\":\"a661647d-f7ee-4930-b0d3-b63a01415004\",\"type\":\"Rect\"},\"hover_glyph\":null,\"nonselection_glyph\":null,\"selection_glyph\":null},\"id\":\"ffae2a48-828f-4f81-8340-f476ec1273aa\",\"type\":\"GlyphRenderer\"},{\"attributes\":{\"fill_alpha\":{\"field\":\"fill_alpha\"},\"fill_color\":{\"field\":\"color\"},\"height\":{\"field\":\"height\",\"units\":\"data\"},\"line_color\":{\"field\":\"line_color\"},\"width\":{\"field\":\"width\",\"units\":\"data\"},\"x\":{\"field\":\"x\"},\"y\":{\"field\":\"y\"}},\"id\":\"06d0a77d-86be-4c60-a65e-26dd6440af0d\",\"type\":\"Rect\"},{\"attributes\":{\"children\":[{\"id\":\"cdd2c035-3a3e-4f0c-a68f-5c092b121e50\",\"subtype\":\"Chart\",\"type\":\"Plot\"},{\"id\":\"edab1af4-2726-4797-942c-8622278877d5\",\"subtype\":\"Chart\",\"type\":\"Plot\"}]},\"id\":\"c61f6a53-7bbf-41aa-b4c6-7af8250d8b9c\",\"type\":\"Row\"},{\"attributes\":{\"callback\":null,\"column_names\":[\"fill_alpha\",\"line_alpha\",\"color\",\"line_color\",\"x\",\"y\",\"height\",\"label\",\"width\"],\"data\":{\"chart_index\":[{\"organism\":\"S.aureus\"}],\"color\":[\"#00ad9c\"],\"fill_alpha\":[0.8],\"height\":[160.0],\"label\":[{\"organism\":\"S.aureus\"}],\"line_alpha\":[1.0],\"line_color\":[\"white\"],\"organism\":[\"S.aureus\"],\"width\":[0.8],\"x\":[\"S.aureus\"],\"y\":[80.0]}},\"id\":\"ae7fb786-822e-4334-a9c9-b5abd2387627\",\"type\":\"ColumnDataSource\"},{\"attributes\":{\"callback\":null,\"factors\":[\"A.baumanii\",\"E.coli\",\"H.pylori\",\"K.pneumoniae\",\"S.aureus\",\"S.pneumoniae\"]},\"id\":\"8405b71f-fad0-49a0-a3cc-6811325d82e1\",\"type\":\"FactorRange\"},{\"attributes\":{\"plot\":{\"id\":\"cdd2c035-3a3e-4f0c-a68f-5c092b121e50\",\"subtype\":\"Chart\",\"type\":\"Plot\"}},\"id\":\"97d917a8-ceb7-4560-b899-a016cc190e1b\",\"type\":\"WheelZoomTool\"},{\"attributes\":{\"plot\":{\"id\":\"28eaf4de-71d7-47ef-8094-d494bbc0297e\",\"subtype\":\"Chart\",\"type\":\"Plot\"}},\"id\":\"16e2b447-6ef9-4911-a8cd-94bf225bd18c\",\"type\":\"PanTool\"},{\"attributes\":{\"plot\":null,\"text\":null},\"id\":\"6eb9bf71-666d-42b0-a660-d8b767c6b278\",\"type\":\"Title\"},{\"attributes\":{},\"id\":\"638c598e-3551-4371-9e07-9c674b121eb6\",\"type\":\"BasicTickFormatter\"},{\"attributes\":{\"data_source\":{\"id\":\"dbf477a1-5cae-493a-b224-cee2906873d8\",\"type\":\"ColumnDataSource\"},\"glyph\":{\"id\":\"f3cb6a70-d81d-4caf-af33-7b0acb134386\",\"type\":\"Rect\"},\"hover_glyph\":null,\"nonselection_glyph\":null,\"selection_glyph\":null},\"id\":\"3def6182-cd72-40fc-a2b3-46eeb2dc678c\",\"type\":\"GlyphRenderer\"},{\"attributes\":{\"plot\":{\"id\":\"edab1af4-2726-4797-942c-8622278877d5\",\"subtype\":\"Chart\",\"type\":\"Plot\"}},\"id\":\"1d989233-3430-4667-b564-f3be2e3e753e\",\"type\":\"ResetTool\"},{\"attributes\":{\"fill_alpha\":{\"field\":\"fill_alpha\"},\"fill_color\":{\"field\":\"color\"},\"height\":{\"field\":\"height\",\"units\":\"data\"},\"line_color\":{\"field\":\"line_color\"},\"width\":{\"field\":\"width\",\"units\":\"data\"},\"x\":{\"field\":\"x\"},\"y\":{\"field\":\"y\"}},\"id\":\"678a43db-94dc-49ef-b42b-0a9e5f9a5e00\",\"type\":\"Rect\"},{\"attributes\":{\"axis_label\":\"Sum( A )\",\"formatter\":{\"id\":\"8b3c8731-f9c1-4ce9-b6fb-2f11461d322d\",\"type\":\"BasicTickFormatter\"},\"plot\":{\"id\":\"dcfd524e-b1c9-41b9-8f8b-94c398d198fa\",\"subtype\":\"Chart\",\"type\":\"Plot\"},\"ticker\":{\"id\":\"ede6e54c-0e65-4e9e-b782-02882d7b81a5\",\"type\":\"BasicTicker\"}},\"id\":\"a0db6392-67c4-41a3-9ce3-cec60786d157\",\"type\":\"LinearAxis\"},{\"attributes\":{\"callback\":null,\"column_names\":[\"fill_alpha\",\"line_alpha\",\"color\",\"line_color\",\"x\",\"y\",\"height\",\"label\",\"width\"],\"data\":{\"chart_index\":[{\"organism\":\"E.coli\"}],\"color\":[\"#5ab738\"],\"fill_alpha\":[0.8],\"height\":[163.0],\"label\":[{\"organism\":\"E.coli\"}],\"line_alpha\":[1.0],\"line_color\":[\"white\"],\"organism\":[\"E.coli\"],\"width\":[0.8],\"x\":[\"E.coli\"],\"y\":[81.5]}},\"id\":\"a7714ff0-d0b6-4495-8f78-3dca8b162a01\",\"type\":\"ColumnDataSource\"},{\"attributes\":{\"plot\":{\"id\":\"dcfd524e-b1c9-41b9-8f8b-94c398d198fa\",\"subtype\":\"Chart\",\"type\":\"Plot\"}},\"id\":\"7a8aaf67-2a97-4901-be11-cfc91dba1248\",\"type\":\"SaveTool\"},{\"attributes\":{\"callback\":null,\"column_names\":[\"fill_alpha\",\"line_alpha\",\"color\",\"line_color\",\"x\",\"y\",\"height\",\"label\",\"width\"],\"data\":{\"chart_index\":[{\"organism\":\"S.aureus\"}],\"color\":[\"#00ad9c\"],\"fill_alpha\":[0.8],\"height\":[239.0],\"label\":[{\"organism\":\"S.aureus\"}],\"line_alpha\":[1.0],\"line_color\":[\"white\"],\"organism\":[\"S.aureus\"],\"width\":[0.8],\"x\":[\"S.aureus\"],\"y\":[119.5]}},\"id\":\"42630b4f-63aa-4ac0-a16c-3894f2752eb0\",\"type\":\"ColumnDataSource\"},{\"attributes\":{\"overlay\":{\"id\":\"0c5ad7e8-0ac3-4fb2-a845-842f5b9acba8\",\"type\":\"BoxAnnotation\"},\"plot\":{\"id\":\"28eaf4de-71d7-47ef-8094-d494bbc0297e\",\"subtype\":\"Chart\",\"type\":\"Plot\"}},\"id\":\"86de9b0b-8e4c-444b-b560-4a8850fb187a\",\"type\":\"BoxZoomTool\"},{\"attributes\":{\"overlay\":{\"id\":\"7ed76abf-89c2-457b-b9a5-0e6a34baa8c8\",\"type\":\"BoxAnnotation\"},\"plot\":{\"id\":\"dcfd524e-b1c9-41b9-8f8b-94c398d198fa\",\"subtype\":\"Chart\",\"type\":\"Plot\"}},\"id\":\"9d0f8630-56fb-4400-8c65-4e228ee678f5\",\"type\":\"BoxZoomTool\"},{\"attributes\":{\"data_source\":{\"id\":\"808139cc-0606-4080-ada0-77343a2f4c9c\",\"type\":\"ColumnDataSource\"},\"glyph\":{\"id\":\"2be363e1-71f2-41f9-b7d9-65651c8b3d24\",\"type\":\"Rect\"},\"hover_glyph\":null,\"nonselection_glyph\":null,\"selection_glyph\":null},\"id\":\"3071f17d-a351-4eaa-998b-f6b639d8f0e6\",\"type\":\"GlyphRenderer\"},{\"attributes\":{\"callback\":null,\"column_names\":[\"fill_alpha\",\"line_alpha\",\"color\",\"line_color\",\"x\",\"y\",\"height\",\"label\",\"width\"],\"data\":{\"chart_index\":[{\"organism\":\"K.pneumoniae\"}],\"color\":[\"#df5320\"],\"fill_alpha\":[0.8],\"height\":[155.0],\"label\":[{\"organism\":\"K.pneumoniae\"}],\"line_alpha\":[1.0],\"line_color\":[\"white\"],\"organism\":[\"K.pneumoniae\"],\"width\":[0.8],\"x\":[\"K.pneumoniae\"],\"y\":[77.5]}},\"id\":\"ab7fdf9f-9cfa-4d64-aa2d-c56e938d7a31\",\"type\":\"ColumnDataSource\"},{\"attributes\":{\"data_source\":{\"id\":\"20f1e29b-6d66-4eee-800c-34bc24f1d682\",\"type\":\"ColumnDataSource\"},\"glyph\":{\"id\":\"ef38f356-0538-4c8f-85b6-186cbb17fc1c\",\"type\":\"Rect\"},\"hover_glyph\":null,\"nonselection_glyph\":null,\"selection_glyph\":null},\"id\":\"7d3cf946-2539-4df6-859a-2adc8d3b85e6\",\"type\":\"GlyphRenderer\"},{\"attributes\":{\"data_source\":{\"id\":\"a674523a-f37f-4d3d-b263-6ac9a77015dc\",\"type\":\"ColumnDataSource\"},\"glyph\":{\"id\":\"678a43db-94dc-49ef-b42b-0a9e5f9a5e00\",\"type\":\"Rect\"},\"hover_glyph\":null,\"nonselection_glyph\":null,\"selection_glyph\":null},\"id\":\"93c26296-ab58-4727-ad72-2f87d7c80f0d\",\"type\":\"GlyphRenderer\"},{\"attributes\":{\"legends\":[[\"A.baumanii\",[{\"id\":\"49e8c2d7-3ec2-402a-8078-b9585f54e542\",\"type\":\"GlyphRenderer\"}]],[\"E.coli\",[{\"id\":\"ffae2a48-828f-4f81-8340-f476ec1273aa\",\"type\":\"GlyphRenderer\"}]],[\"H.pylori\",[{\"id\":\"93c26296-ab58-4727-ad72-2f87d7c80f0d\",\"type\":\"GlyphRenderer\"}]],[\"K.pneumoniae\",[{\"id\":\"0cddb6d4-a167-4845-8e7e-53e447f0ec6e\",\"type\":\"GlyphRenderer\"}]],[\"S.aureus\",[{\"id\":\"598a9d69-755e-4fe2-b665-d17b5339b2c7\",\"type\":\"GlyphRenderer\"}]],[\"S.pneumoniae\",[{\"id\":\"e9157b37-4c74-4c0a-96e5-6e72de034cab\",\"type\":\"GlyphRenderer\"}]]],\"location\":\"top_left\",\"plot\":{\"id\":\"28eaf4de-71d7-47ef-8094-d494bbc0297e\",\"subtype\":\"Chart\",\"type\":\"Plot\"}},\"id\":\"7897e772-ee61-4a91-aa50-dc406ffc4cc9\",\"type\":\"Legend\"},{\"attributes\":{\"callback\":null,\"column_names\":[\"fill_alpha\",\"line_alpha\",\"color\",\"line_color\",\"x\",\"y\",\"height\",\"label\",\"width\"],\"data\":{\"chart_index\":[{\"organism\":\"H.pylori\"}],\"color\":[\"#407ee7\"],\"fill_alpha\":[0.8],\"height\":[326.0],\"label\":[{\"organism\":\"H.pylori\"}],\"line_alpha\":[1.0],\"line_color\":[\"white\"],\"organism\":[\"H.pylori\"],\"width\":[0.8],\"x\":[\"H.pylori\"],\"y\":[163.0]}},\"id\":\"34a677d0-15d0-4887-bc9b-f3f37799bd79\",\"type\":\"ColumnDataSource\"},{\"attributes\":{\"plot\":{\"id\":\"dcfd524e-b1c9-41b9-8f8b-94c398d198fa\",\"subtype\":\"Chart\",\"type\":\"Plot\"}},\"id\":\"c2040629-8dc4-4f87-aa0c-4bf372636f8a\",\"type\":\"HelpTool\"},{\"attributes\":{\"dimension\":1,\"plot\":{\"id\":\"28eaf4de-71d7-47ef-8094-d494bbc0297e\",\"subtype\":\"Chart\",\"type\":\"Plot\"},\"ticker\":{\"id\":\"ea8339e0-e301-4f59-84dd-3cdaef05411d\",\"type\":\"BasicTicker\"}},\"id\":\"3d87ac97-8ea7-4529-ad4b-dfdc24c5d21e\",\"type\":\"Grid\"},{\"attributes\":{\"fill_alpha\":{\"field\":\"fill_alpha\"},\"fill_color\":{\"field\":\"color\"},\"height\":{\"field\":\"height\",\"units\":\"data\"},\"line_color\":{\"field\":\"line_color\"},\"width\":{\"field\":\"width\",\"units\":\"data\"},\"x\":{\"field\":\"x\"},\"y\":{\"field\":\"y\"}},\"id\":\"e5cdb64e-cfd9-4072-b3b0-10c01eed0e7f\",\"type\":\"Rect\"},{\"attributes\":{\"below\":[{\"id\":\"d9e13d2c-a5c4-4f52-be9f-36ca7c8a36f5\",\"type\":\"CategoricalAxis\"}],\"left\":[{\"id\":\"4ea428e1-0139-4d9e-9dfb-e70a81e87046\",\"type\":\"LinearAxis\"}],\"plot_width\":450,\"renderers\":[{\"id\":\"0b12da77-a8d6-4428-9239-c87ed3114211\",\"type\":\"BoxAnnotation\"},{\"id\":\"5658d2fd-e617-460e-b3ef-120a806691d6\",\"type\":\"GlyphRenderer\"},{\"id\":\"3def6182-cd72-40fc-a2b3-46eeb2dc678c\",\"type\":\"GlyphRenderer\"},{\"id\":\"bf1f61ea-b844-4de3-ba1f-b80897c0b35f\",\"type\":\"GlyphRenderer\"},{\"id\":\"8e987c2b-5b1d-4f4b-8d8f-457237f1c6e8\",\"type\":\"GlyphRenderer\"},{\"id\":\"1c68b41f-6761-4613-86d7-e541fced13ba\",\"type\":\"GlyphRenderer\"},{\"id\":\"8ed0029b-f155-409b-996a-a3b11dcc087f\",\"type\":\"GlyphRenderer\"},{\"id\":\"a3a2215b-6a7b-4fc0-a933-d975de9e2482\",\"type\":\"Legend\"},{\"id\":\"d9e13d2c-a5c4-4f52-be9f-36ca7c8a36f5\",\"type\":\"CategoricalAxis\"},{\"id\":\"4ea428e1-0139-4d9e-9dfb-e70a81e87046\",\"type\":\"LinearAxis\"},{\"id\":\"073ec1d0-6f55-4e58-81d1-baafc58d6ded\",\"type\":\"Grid\"}],\"title\":{\"id\":\"6eb9bf71-666d-42b0-a660-d8b767c6b278\",\"type\":\"Title\"},\"tool_events\":{\"id\":\"acaedf39-2740-4b78-855d-f04daed65e73\",\"type\":\"ToolEvents\"},\"toolbar\":{\"id\":\"923a28c4-5b4c-4a1d-877d-ddc9fb756985\",\"type\":\"Toolbar\"},\"x_mapper_type\":\"auto\",\"x_range\":{\"id\":\"a82ae5d1-f354-46e1-8d57-057b0cb6b1b4\",\"type\":\"FactorRange\"},\"y_mapper_type\":\"auto\",\"y_range\":{\"id\":\"8641f52c-b13f-4a7f-b61e-0bab62a08fcb\",\"type\":\"Range1d\"}},\"id\":\"cdd2c035-3a3e-4f0c-a68f-5c092b121e50\",\"subtype\":\"Chart\",\"type\":\"Plot\"},{\"attributes\":{\"plot\":null,\"text\":null},\"id\":\"2e2eef99-6b6b-4588-b8c1-81ca013cb22e\",\"type\":\"Title\"},{\"attributes\":{},\"id\":\"ea8339e0-e301-4f59-84dd-3cdaef05411d\",\"type\":\"BasicTicker\"},{\"attributes\":{\"callback\":null,\"column_names\":[\"fill_alpha\",\"line_alpha\",\"color\",\"line_color\",\"x\",\"y\",\"height\",\"label\",\"width\"],\"data\":{\"chart_index\":[{\"organism\":\"S.pneumoniae\"}],\"color\":[\"#c33ff3\"],\"fill_alpha\":[0.8],\"height\":[481.0],\"label\":[{\"organism\":\"S.pneumoniae\"}],\"line_alpha\":[1.0],\"line_color\":[\"white\"],\"organism\":[\"S.pneumoniae\"],\"width\":[0.8],\"x\":[\"S.pneumoniae\"],\"y\":[240.5]}},\"id\":\"434cea70-029a-426e-951a-c9bba55de81c\",\"type\":\"ColumnDataSource\"},{\"attributes\":{},\"id\":\"bc0180fb-3257-4f48-8d13-3111039dc29e\",\"type\":\"ToolEvents\"},{\"attributes\":{\"fill_alpha\":{\"field\":\"fill_alpha\"},\"fill_color\":{\"field\":\"color\"},\"height\":{\"field\":\"height\",\"units\":\"data\"},\"line_color\":{\"field\":\"line_color\"},\"width\":{\"field\":\"width\",\"units\":\"data\"},\"x\":{\"field\":\"x\"},\"y\":{\"field\":\"y\"}},\"id\":\"2be363e1-71f2-41f9-b7d9-65651c8b3d24\",\"type\":\"Rect\"},{\"attributes\":{\"overlay\":{\"id\":\"0b12da77-a8d6-4428-9239-c87ed3114211\",\"type\":\"BoxAnnotation\"},\"plot\":{\"id\":\"cdd2c035-3a3e-4f0c-a68f-5c092b121e50\",\"subtype\":\"Chart\",\"type\":\"Plot\"}},\"id\":\"b2c3dc83-655e-4035-ba8e-2b3c4aa02115\",\"type\":\"BoxZoomTool\"},{\"attributes\":{\"plot\":{\"id\":\"cdd2c035-3a3e-4f0c-a68f-5c092b121e50\",\"subtype\":\"Chart\",\"type\":\"Plot\"}},\"id\":\"345b1416-5aac-49ef-a0f4-e3a84babbdf7\",\"type\":\"ResetTool\"},{\"attributes\":{\"callback\":null,\"column_names\":[\"fill_alpha\",\"line_alpha\",\"color\",\"line_color\",\"x\",\"y\",\"height\",\"label\",\"width\"],\"data\":{\"chart_index\":[{\"organism\":\"H.pylori\"}],\"color\":[\"#407ee7\"],\"fill_alpha\":[0.8],\"height\":[434.0],\"label\":[{\"organism\":\"H.pylori\"}],\"line_alpha\":[1.0],\"line_color\":[\"white\"],\"organism\":[\"H.pylori\"],\"width\":[0.8],\"x\":[\"H.pylori\"],\"y\":[217.0]}},\"id\":\"56c32bbb-5396-4864-b149-106bc2244626\",\"type\":\"ColumnDataSource\"},{\"attributes\":{\"data_source\":{\"id\":\"84923e69-e483-4946-ab22-abf84e38a909\",\"type\":\"ColumnDataSource\"},\"glyph\":{\"id\":\"0b4629cc-97d9-4caa-af1b-4b964d6cd1cc\",\"type\":\"Rect\"},\"hover_glyph\":null,\"nonselection_glyph\":null,\"selection_glyph\":null},\"id\":\"598a9d69-755e-4fe2-b665-d17b5339b2c7\",\"type\":\"GlyphRenderer\"},{\"attributes\":{\"dimension\":1,\"plot\":{\"id\":\"cdd2c035-3a3e-4f0c-a68f-5c092b121e50\",\"subtype\":\"Chart\",\"type\":\"Plot\"},\"ticker\":{\"id\":\"547387e1-24d1-4d11-9a24-4b182793a3c6\",\"type\":\"BasicTicker\"}},\"id\":\"073ec1d0-6f55-4e58-81d1-baafc58d6ded\",\"type\":\"Grid\"},{\"attributes\":{},\"id\":\"ac40281d-ae5f-49e6-9e10-727562463769\",\"type\":\"CategoricalTicker\"},{\"attributes\":{\"data_source\":{\"id\":\"56c32bbb-5396-4864-b149-106bc2244626\",\"type\":\"ColumnDataSource\"},\"glyph\":{\"id\":\"734c6936-66d1-48ed-b31b-a5e07c408205\",\"type\":\"Rect\"},\"hover_glyph\":null,\"nonselection_glyph\":null,\"selection_glyph\":null},\"id\":\"340e198e-0526-44cd-ad73-14757f596172\",\"type\":\"GlyphRenderer\"},{\"attributes\":{\"data_source\":{\"id\":\"ab7fdf9f-9cfa-4d64-aa2d-c56e938d7a31\",\"type\":\"ColumnDataSource\"},\"glyph\":{\"id\":\"2b226ddf-21e7-4843-94aa-3da4cac22fa9\",\"type\":\"Rect\"},\"hover_glyph\":null,\"nonselection_glyph\":null,\"selection_glyph\":null},\"id\":\"8e987c2b-5b1d-4f4b-8d8f-457237f1c6e8\",\"type\":\"GlyphRenderer\"},{\"attributes\":{\"callback\":null,\"column_names\":[\"fill_alpha\",\"line_alpha\",\"color\",\"line_color\",\"x\",\"y\",\"height\",\"label\",\"width\"],\"data\":{\"chart_index\":[{\"organism\":\"E.coli\"}],\"color\":[\"#5ab738\"],\"fill_alpha\":[0.8],\"height\":[283.0],\"label\":[{\"organism\":\"E.coli\"}],\"line_alpha\":[1.0],\"line_color\":[\"white\"],\"organism\":[\"E.coli\"],\"width\":[0.8],\"x\":[\"E.coli\"],\"y\":[141.5]}},\"id\":\"808139cc-0606-4080-ada0-77343a2f4c9c\",\"type\":\"ColumnDataSource\"},{\"attributes\":{\"active_drag\":\"auto\",\"active_scroll\":\"auto\",\"active_tap\":\"auto\",\"tools\":[{\"id\":\"fc21cca0-f644-4bd9-9504-75201c44f157\",\"type\":\"PanTool\"},{\"id\":\"467ffbc1-61f7-4a30-8be7-4eaf05249018\",\"type\":\"WheelZoomTool\"},{\"id\":\"9d0f8630-56fb-4400-8c65-4e228ee678f5\",\"type\":\"BoxZoomTool\"},{\"id\":\"7a8aaf67-2a97-4901-be11-cfc91dba1248\",\"type\":\"SaveTool\"},{\"id\":\"5453082e-a03f-4c68-98f4-23c06581ea0d\",\"type\":\"ResetTool\"},{\"id\":\"c2040629-8dc4-4f87-aa0c-4bf372636f8a\",\"type\":\"HelpTool\"}]},\"id\":\"29fcfcf1-2ebd-4129-9335-662333fd955b\",\"type\":\"Toolbar\"},{\"attributes\":{\"active_drag\":\"auto\",\"active_scroll\":\"auto\",\"active_tap\":\"auto\",\"tools\":[{\"id\":\"0cb9fc97-71db-428f-9a5c-d301f61156b2\",\"type\":\"PanTool\"},{\"id\":\"97d917a8-ceb7-4560-b899-a016cc190e1b\",\"type\":\"WheelZoomTool\"},{\"id\":\"b2c3dc83-655e-4035-ba8e-2b3c4aa02115\",\"type\":\"BoxZoomTool\"},{\"id\":\"0ca5f9e0-0f43-4bfc-8d63-5dc9f7deeaef\",\"type\":\"SaveTool\"},{\"id\":\"345b1416-5aac-49ef-a0f4-e3a84babbdf7\",\"type\":\"ResetTool\"},{\"id\":\"6fa12443-18c1-4836-a563-67277a194865\",\"type\":\"HelpTool\"}]},\"id\":\"923a28c4-5b4c-4a1d-877d-ddc9fb756985\",\"type\":\"Toolbar\"},{\"attributes\":{\"fill_alpha\":{\"field\":\"fill_alpha\"},\"fill_color\":{\"field\":\"color\"},\"height\":{\"field\":\"height\",\"units\":\"data\"},\"line_color\":{\"field\":\"line_color\"},\"width\":{\"field\":\"width\",\"units\":\"data\"},\"x\":{\"field\":\"x\"},\"y\":{\"field\":\"y\"}},\"id\":\"ef38f356-0538-4c8f-85b6-186cbb17fc1c\",\"type\":\"Rect\"},{\"attributes\":{\"data_source\":{\"id\":\"34a677d0-15d0-4887-bc9b-f3f37799bd79\",\"type\":\"ColumnDataSource\"},\"glyph\":{\"id\":\"3b789bfb-e654-43e6-8c15-b61c568458e7\",\"type\":\"Rect\"},\"hover_glyph\":null,\"nonselection_glyph\":null,\"selection_glyph\":null},\"id\":\"bf1f61ea-b844-4de3-ba1f-b80897c0b35f\",\"type\":\"GlyphRenderer\"},{\"attributes\":{\"bottom_units\":\"screen\",\"fill_alpha\":{\"value\":0.5},\"fill_color\":{\"value\":\"lightgrey\"},\"left_units\":\"screen\",\"level\":\"overlay\",\"line_alpha\":{\"value\":1.0},\"line_color\":{\"value\":\"black\"},\"line_dash\":[4,4],\"line_width\":{\"value\":2},\"plot\":null,\"render_mode\":\"css\",\"right_units\":\"screen\",\"top_units\":\"screen\"},\"id\":\"722b3800-6d47-4aa8-868e-438301fc7fa6\",\"type\":\"BoxAnnotation\"},{\"attributes\":{\"fill_alpha\":{\"field\":\"fill_alpha\"},\"fill_color\":{\"field\":\"color\"},\"height\":{\"field\":\"height\",\"units\":\"data\"},\"line_color\":{\"field\":\"line_color\"},\"width\":{\"field\":\"width\",\"units\":\"data\"},\"x\":{\"field\":\"x\"},\"y\":{\"field\":\"y\"}},\"id\":\"2aa96f23-af80-4faa-87e9-9ba46cace0e0\",\"type\":\"Rect\"},{\"attributes\":{},\"id\":\"ede6e54c-0e65-4e9e-b782-02882d7b81a5\",\"type\":\"BasicTicker\"},{\"attributes\":{\"callback\":null,\"column_names\":[\"fill_alpha\",\"line_alpha\",\"color\",\"line_color\",\"x\",\"y\",\"height\",\"label\",\"width\"],\"data\":{\"chart_index\":[{\"organism\":\"A.baumanii\"}],\"color\":[\"#f22c40\"],\"fill_alpha\":[0.8],\"height\":[147.0],\"label\":[{\"organism\":\"A.baumanii\"}],\"line_alpha\":[1.0],\"line_color\":[\"white\"],\"organism\":[\"A.baumanii\"],\"width\":[0.8],\"x\":[\"A.baumanii\"],\"y\":[73.5]}},\"id\":\"b90be9bd-1bb5-4d52-80ff-29f4537b3d7c\",\"type\":\"ColumnDataSource\"},{\"attributes\":{},\"id\":\"2083560b-0c0d-4e52-a7a6-4466123e47e2\",\"type\":\"CategoricalTickFormatter\"},{\"attributes\":{\"fill_alpha\":{\"field\":\"fill_alpha\"},\"fill_color\":{\"field\":\"color\"},\"height\":{\"field\":\"height\",\"units\":\"data\"},\"line_color\":{\"field\":\"line_color\"},\"width\":{\"field\":\"width\",\"units\":\"data\"},\"x\":{\"field\":\"x\"},\"y\":{\"field\":\"y\"}},\"id\":\"0b4629cc-97d9-4caa-af1b-4b964d6cd1cc\",\"type\":\"Rect\"},{\"attributes\":{\"axis_label\":\"Organism\",\"formatter\":{\"id\":\"90b00ac7-31d5-4935-af01-8f93d0f54db7\",\"type\":\"CategoricalTickFormatter\"},\"major_label_orientation\":0.7853981633974483,\"plot\":{\"id\":\"edab1af4-2726-4797-942c-8622278877d5\",\"subtype\":\"Chart\",\"type\":\"Plot\"},\"ticker\":{\"id\":\"c00bad7c-3f91-4a46-9c19-3c9d29097856\",\"type\":\"CategoricalTicker\"}},\"id\":\"0d4b582a-65ec-48c5-aa30-cfa4ae45a960\",\"type\":\"CategoricalAxis\"},{\"attributes\":{\"children\":[{\"id\":\"dcfd524e-b1c9-41b9-8f8b-94c398d198fa\",\"subtype\":\"Chart\",\"type\":\"Plot\"},{\"id\":\"28eaf4de-71d7-47ef-8094-d494bbc0297e\",\"subtype\":\"Chart\",\"type\":\"Plot\"}]},\"id\":\"b4c32695-ad93-4b63-bd1c-2ea22ac873bc\",\"type\":\"Row\"},{\"attributes\":{\"fill_alpha\":{\"field\":\"fill_alpha\"},\"fill_color\":{\"field\":\"color\"},\"height\":{\"field\":\"height\",\"units\":\"data\"},\"line_color\":{\"field\":\"line_color\"},\"width\":{\"field\":\"width\",\"units\":\"data\"},\"x\":{\"field\":\"x\"},\"y\":{\"field\":\"y\"}},\"id\":\"0f0b3e9a-021f-4f58-b592-3c0dfd25c7f7\",\"type\":\"Rect\"},{\"attributes\":{\"axis_label\":\"Organism\",\"formatter\":{\"id\":\"664dc1df-2ec7-4b01-9f1d-04205f7b109c\",\"type\":\"CategoricalTickFormatter\"},\"major_label_orientation\":0.7853981633974483,\"plot\":{\"id\":\"28eaf4de-71d7-47ef-8094-d494bbc0297e\",\"subtype\":\"Chart\",\"type\":\"Plot\"},\"ticker\":{\"id\":\"7f3f6553-0406-4678-9c84-8ebb11d99f44\",\"type\":\"CategoricalTicker\"}},\"id\":\"d0b10ed0-0c18-41b9-b0ea-43ef59c573bb\",\"type\":\"CategoricalAxis\"},{\"attributes\":{\"bottom_units\":\"screen\",\"fill_alpha\":{\"value\":0.5},\"fill_color\":{\"value\":\"lightgrey\"},\"left_units\":\"screen\",\"level\":\"overlay\",\"line_alpha\":{\"value\":1.0},\"line_color\":{\"value\":\"black\"},\"line_dash\":[4,4],\"line_width\":{\"value\":2},\"plot\":null,\"render_mode\":\"css\",\"right_units\":\"screen\",\"top_units\":\"screen\"},\"id\":\"0b12da77-a8d6-4428-9239-c87ed3114211\",\"type\":\"BoxAnnotation\"},{\"attributes\":{},\"id\":\"8b3c8731-f9c1-4ce9-b6fb-2f11461d322d\",\"type\":\"BasicTickFormatter\"},{\"attributes\":{},\"id\":\"53f6400e-e1d9-41ce-889e-b5e99c7e001b\",\"type\":\"BasicTicker\"},{\"attributes\":{\"fill_alpha\":{\"field\":\"fill_alpha\"},\"fill_color\":{\"field\":\"color\"},\"height\":{\"field\":\"height\",\"units\":\"data\"},\"line_color\":{\"field\":\"line_color\"},\"width\":{\"field\":\"width\",\"units\":\"data\"},\"x\":{\"field\":\"x\"},\"y\":{\"field\":\"y\"}},\"id\":\"0c7f8593-77cc-4830-9b30-7283c73a8d7a\",\"type\":\"Rect\"},{\"attributes\":{\"data_source\":{\"id\":\"76474337-8e83-453a-884b-61cf420b9880\",\"type\":\"ColumnDataSource\"},\"glyph\":{\"id\":\"e5cdb64e-cfd9-4072-b3b0-10c01eed0e7f\",\"type\":\"Rect\"},\"hover_glyph\":null,\"nonselection_glyph\":null,\"selection_glyph\":null},\"id\":\"ff20bf55-73a2-4dff-9b92-0ea913b0e6e6\",\"type\":\"GlyphRenderer\"},{\"attributes\":{},\"id\":\"5b2ccc6c-d0a9-494c-8427-2739f45b7925\",\"type\":\"BasicTickFormatter\"},{\"attributes\":{\"callback\":null,\"column_names\":[\"fill_alpha\",\"line_alpha\",\"color\",\"line_color\",\"x\",\"y\",\"height\",\"label\",\"width\"],\"data\":{\"chart_index\":[{\"organism\":\"H.pylori\"}],\"color\":[\"#407ee7\"],\"fill_alpha\":[0.8],\"height\":[342.0],\"label\":[{\"organism\":\"H.pylori\"}],\"line_alpha\":[1.0],\"line_color\":[\"white\"],\"organism\":[\"H.pylori\"],\"width\":[0.8],\"x\":[\"H.pylori\"],\"y\":[171.0]}},\"id\":\"a674523a-f37f-4d3d-b263-6ac9a77015dc\",\"type\":\"ColumnDataSource\"},{\"attributes\":{\"plot\":{\"id\":\"edab1af4-2726-4797-942c-8622278877d5\",\"subtype\":\"Chart\",\"type\":\"Plot\"}},\"id\":\"9b1fb848-7039-4bfe-85ab-c9493dd71931\",\"type\":\"PanTool\"},{\"attributes\":{\"fill_alpha\":{\"field\":\"fill_alpha\"},\"fill_color\":{\"field\":\"color\"},\"height\":{\"field\":\"height\",\"units\":\"data\"},\"line_color\":{\"field\":\"line_color\"},\"width\":{\"field\":\"width\",\"units\":\"data\"},\"x\":{\"field\":\"x\"},\"y\":{\"field\":\"y\"}},\"id\":\"2b226ddf-21e7-4843-94aa-3da4cac22fa9\",\"type\":\"Rect\"},{\"attributes\":{\"callback\":null,\"factors\":[\"A.baumanii\",\"E.coli\",\"H.pylori\",\"K.pneumoniae\",\"S.aureus\",\"S.pneumoniae\"]},\"id\":\"e2bd1ed1-ef90-440c-9f44-c1b67242df9d\",\"type\":\"FactorRange\"},{\"attributes\":{\"callback\":null,\"column_names\":[\"fill_alpha\",\"line_alpha\",\"color\",\"line_color\",\"x\",\"y\",\"height\",\"label\",\"width\"],\"data\":{\"chart_index\":[{\"organism\":\"A.baumanii\"}],\"color\":[\"#f22c40\"],\"fill_alpha\":[0.8],\"height\":[151.0],\"label\":[{\"organism\":\"A.baumanii\"}],\"line_alpha\":[1.0],\"line_color\":[\"white\"],\"organism\":[\"A.baumanii\"],\"width\":[0.8],\"x\":[\"A.baumanii\"],\"y\":[75.5]}},\"id\":\"0d9809cd-3ba7-4e22-b2d1-0df0aec6e43e\",\"type\":\"ColumnDataSource\"},{\"attributes\":{\"active_drag\":\"auto\",\"active_scroll\":\"auto\",\"active_tap\":\"auto\",\"tools\":[{\"id\":\"16e2b447-6ef9-4911-a8cd-94bf225bd18c\",\"type\":\"PanTool\"},{\"id\":\"d52ef634-2c28-4aae-9374-a05262393fe6\",\"type\":\"WheelZoomTool\"},{\"id\":\"86de9b0b-8e4c-444b-b560-4a8850fb187a\",\"type\":\"BoxZoomTool\"},{\"id\":\"a5c690c8-5e22-4977-beae-2094b2fc7bdc\",\"type\":\"SaveTool\"},{\"id\":\"ce457c4c-296d-4386-a253-cee123e56304\",\"type\":\"ResetTool\"},{\"id\":\"1d3e51f6-a4f0-454b-821e-cc17ab80edbd\",\"type\":\"HelpTool\"}]},\"id\":\"411ade07-b032-41a1-981b-0c194a517085\",\"type\":\"Toolbar\"},{\"attributes\":{\"dimension\":1,\"plot\":{\"id\":\"dcfd524e-b1c9-41b9-8f8b-94c398d198fa\",\"subtype\":\"Chart\",\"type\":\"Plot\"},\"ticker\":{\"id\":\"ede6e54c-0e65-4e9e-b782-02882d7b81a5\",\"type\":\"BasicTicker\"}},\"id\":\"0a8a72d0-7aab-4f2b-a064-a2f3635c3537\",\"type\":\"Grid\"},{\"attributes\":{\"plot\":null,\"text\":null},\"id\":\"0abf68c8-a73f-4622-b0ca-c536e1be41df\",\"type\":\"Title\"},{\"attributes\":{\"fill_alpha\":{\"field\":\"fill_alpha\"},\"fill_color\":{\"field\":\"color\"},\"height\":{\"field\":\"height\",\"units\":\"data\"},\"line_color\":{\"field\":\"line_color\"},\"width\":{\"field\":\"width\",\"units\":\"data\"},\"x\":{\"field\":\"x\"},\"y\":{\"field\":\"y\"}},\"id\":\"1946ff46-9caf-453b-a7b4-fe1bdc885a61\",\"type\":\"Rect\"},{\"attributes\":{},\"id\":\"547387e1-24d1-4d11-9a24-4b182793a3c6\",\"type\":\"BasicTicker\"},{\"attributes\":{\"callback\":null,\"column_names\":[\"fill_alpha\",\"line_alpha\",\"color\",\"line_color\",\"x\",\"y\",\"height\",\"label\",\"width\"],\"data\":{\"chart_index\":[{\"organism\":\"E.coli\"}],\"color\":[\"#5ab738\"],\"fill_alpha\":[0.8],\"height\":[191.0],\"label\":[{\"organism\":\"E.coli\"}],\"line_alpha\":[1.0],\"line_color\":[\"white\"],\"organism\":[\"E.coli\"],\"width\":[0.8],\"x\":[\"E.coli\"],\"y\":[95.5]}},\"id\":\"dbf477a1-5cae-493a-b224-cee2906873d8\",\"type\":\"ColumnDataSource\"},{\"attributes\":{\"fill_alpha\":{\"field\":\"fill_alpha\"},\"fill_color\":{\"field\":\"color\"},\"height\":{\"field\":\"height\",\"units\":\"data\"},\"line_color\":{\"field\":\"line_color\"},\"width\":{\"field\":\"width\",\"units\":\"data\"},\"x\":{\"field\":\"x\"},\"y\":{\"field\":\"y\"}},\"id\":\"e16cb09c-3627-4fa4-a864-6c4c079863a6\",\"type\":\"Rect\"},{\"attributes\":{},\"id\":\"90b00ac7-31d5-4935-af01-8f93d0f54db7\",\"type\":\"CategoricalTickFormatter\"},{\"attributes\":{\"callback\":null,\"factors\":[\"A.baumanii\",\"E.coli\",\"H.pylori\",\"K.pneumoniae\",\"S.aureus\",\"S.pneumoniae\"]},\"id\":\"a82ae5d1-f354-46e1-8d57-057b0cb6b1b4\",\"type\":\"FactorRange\"},{\"attributes\":{\"callback\":null,\"column_names\":[\"fill_alpha\",\"line_alpha\",\"color\",\"line_color\",\"x\",\"y\",\"height\",\"label\",\"width\"],\"data\":{\"chart_index\":[{\"organism\":\"K.pneumoniae\"}],\"color\":[\"#df5320\"],\"fill_alpha\":[0.8],\"height\":[168.0],\"label\":[{\"organism\":\"K.pneumoniae\"}],\"line_alpha\":[1.0],\"line_color\":[\"white\"],\"organism\":[\"K.pneumoniae\"],\"width\":[0.8],\"x\":[\"K.pneumoniae\"],\"y\":[84.0]}},\"id\":\"76474337-8e83-453a-884b-61cf420b9880\",\"type\":\"ColumnDataSource\"},{\"attributes\":{\"callback\":null,\"end\":421.05},\"id\":\"d66b0076-004f-457d-98c1-ca8034824070\",\"type\":\"Range1d\"},{\"attributes\":{\"callback\":null,\"column_names\":[\"fill_alpha\",\"line_alpha\",\"color\",\"line_color\",\"x\",\"y\",\"height\",\"label\",\"width\"],\"data\":{\"chart_index\":[{\"organism\":\"S.pneumoniae\"}],\"color\":[\"#c33ff3\"],\"fill_alpha\":[0.8],\"height\":[394.0],\"label\":[{\"organism\":\"S.pneumoniae\"}],\"line_alpha\":[1.0],\"line_color\":[\"white\"],\"organism\":[\"S.pneumoniae\"],\"width\":[0.8],\"x\":[\"S.pneumoniae\"],\"y\":[197.0]}},\"id\":\"85b57bf7-9d0d-4be4-822e-79cdf7e18ac9\",\"type\":\"ColumnDataSource\"},{\"attributes\":{\"callback\":null,\"column_names\":[\"fill_alpha\",\"line_alpha\",\"color\",\"line_color\",\"x\",\"y\",\"height\",\"label\",\"width\"],\"data\":{\"chart_index\":[{\"organism\":\"H.pylori\"}],\"color\":[\"#407ee7\"],\"fill_alpha\":[0.8],\"height\":[401.0],\"label\":[{\"organism\":\"H.pylori\"}],\"line_alpha\":[1.0],\"line_color\":[\"white\"],\"organism\":[\"H.pylori\"],\"width\":[0.8],\"x\":[\"H.pylori\"],\"y\":[200.5]}},\"id\":\"5eae8cdc-6c27-4ecb-a349-297f59221d79\",\"type\":\"ColumnDataSource\"},{\"attributes\":{\"fill_alpha\":{\"field\":\"fill_alpha\"},\"fill_color\":{\"field\":\"color\"},\"height\":{\"field\":\"height\",\"units\":\"data\"},\"line_color\":{\"field\":\"line_color\"},\"width\":{\"field\":\"width\",\"units\":\"data\"},\"x\":{\"field\":\"x\"},\"y\":{\"field\":\"y\"}},\"id\":\"d2de8c3b-8e09-4b2c-894d-182edb23257b\",\"type\":\"Rect\"},{\"attributes\":{\"callback\":null,\"end\":505.05},\"id\":\"8641f52c-b13f-4a7f-b61e-0bab62a08fcb\",\"type\":\"Range1d\"},{\"attributes\":{\"fill_alpha\":{\"field\":\"fill_alpha\"},\"fill_color\":{\"field\":\"color\"},\"height\":{\"field\":\"height\",\"units\":\"data\"},\"line_color\":{\"field\":\"line_color\"},\"width\":{\"field\":\"width\",\"units\":\"data\"},\"x\":{\"field\":\"x\"},\"y\":{\"field\":\"y\"}},\"id\":\"a661647d-f7ee-4930-b0d3-b63a01415004\",\"type\":\"Rect\"},{\"attributes\":{\"below\":[{\"id\":\"d0b10ed0-0c18-41b9-b0ea-43ef59c573bb\",\"type\":\"CategoricalAxis\"}],\"left\":[{\"id\":\"9518bc3c-8fb1-4328-8bfb-567a92492c06\",\"type\":\"LinearAxis\"}],\"plot_width\":450,\"renderers\":[{\"id\":\"0c5ad7e8-0ac3-4fb2-a845-842f5b9acba8\",\"type\":\"BoxAnnotation\"},{\"id\":\"49e8c2d7-3ec2-402a-8078-b9585f54e542\",\"type\":\"GlyphRenderer\"},{\"id\":\"ffae2a48-828f-4f81-8340-f476ec1273aa\",\"type\":\"GlyphRenderer\"},{\"id\":\"93c26296-ab58-4727-ad72-2f87d7c80f0d\",\"type\":\"GlyphRenderer\"},{\"id\":\"0cddb6d4-a167-4845-8e7e-53e447f0ec6e\",\"type\":\"GlyphRenderer\"},{\"id\":\"598a9d69-755e-4fe2-b665-d17b5339b2c7\",\"type\":\"GlyphRenderer\"},{\"id\":\"e9157b37-4c74-4c0a-96e5-6e72de034cab\",\"type\":\"GlyphRenderer\"},{\"id\":\"7897e772-ee61-4a91-aa50-dc406ffc4cc9\",\"type\":\"Legend\"},{\"id\":\"d0b10ed0-0c18-41b9-b0ea-43ef59c573bb\",\"type\":\"CategoricalAxis\"},{\"id\":\"9518bc3c-8fb1-4328-8bfb-567a92492c06\",\"type\":\"LinearAxis\"},{\"id\":\"3d87ac97-8ea7-4529-ad4b-dfdc24c5d21e\",\"type\":\"Grid\"}],\"title\":{\"id\":\"a061d440-cafa-4cb1-a581-0c0b6020d127\",\"type\":\"Title\"},\"tool_events\":{\"id\":\"bc0180fb-3257-4f48-8d13-3111039dc29e\",\"type\":\"ToolEvents\"},\"toolbar\":{\"id\":\"411ade07-b032-41a1-981b-0c194a517085\",\"type\":\"Toolbar\"},\"x_mapper_type\":\"auto\",\"x_range\":{\"id\":\"8405b71f-fad0-49a0-a3cc-6811325d82e1\",\"type\":\"FactorRange\"},\"y_mapper_type\":\"auto\",\"y_range\":{\"id\":\"63e27fa5-8fa0-42c3-be72-f0a3b2a4bffe\",\"type\":\"Range1d\"}},\"id\":\"28eaf4de-71d7-47ef-8094-d494bbc0297e\",\"subtype\":\"Chart\",\"type\":\"Plot\"},{\"attributes\":{\"axis_label\":\"Sum( C )\",\"formatter\":{\"id\":\"638c598e-3551-4371-9e07-9c674b121eb6\",\"type\":\"BasicTickFormatter\"},\"plot\":{\"id\":\"cdd2c035-3a3e-4f0c-a68f-5c092b121e50\",\"subtype\":\"Chart\",\"type\":\"Plot\"},\"ticker\":{\"id\":\"547387e1-24d1-4d11-9a24-4b182793a3c6\",\"type\":\"BasicTicker\"}},\"id\":\"4ea428e1-0139-4d9e-9dfb-e70a81e87046\",\"type\":\"LinearAxis\"},{\"attributes\":{\"data_source\":{\"id\":\"42630b4f-63aa-4ac0-a16c-3894f2752eb0\",\"type\":\"ColumnDataSource\"},\"glyph\":{\"id\":\"2ddb7d39-ac47-4b48-8387-3396fb909954\",\"type\":\"Rect\"},\"hover_glyph\":null,\"nonselection_glyph\":null,\"selection_glyph\":null},\"id\":\"7a115f56-0862-4473-bff3-0ac820b0b9cc\",\"type\":\"GlyphRenderer\"},{\"attributes\":{\"plot\":{\"id\":\"edab1af4-2726-4797-942c-8622278877d5\",\"subtype\":\"Chart\",\"type\":\"Plot\"}},\"id\":\"1ac11249-4c2c-4b7c-8b1e-4975eb4c33a9\",\"type\":\"SaveTool\"},{\"attributes\":{\"callback\":null,\"column_names\":[\"fill_alpha\",\"line_alpha\",\"color\",\"line_color\",\"x\",\"y\",\"height\",\"label\",\"width\"],\"data\":{\"chart_index\":[{\"organism\":\"S.aureus\"}],\"color\":[\"#00ad9c\"],\"fill_alpha\":[0.8],\"height\":[178.0],\"label\":[{\"organism\":\"S.aureus\"}],\"line_alpha\":[1.0],\"line_color\":[\"white\"],\"organism\":[\"S.aureus\"],\"width\":[0.8],\"x\":[\"S.aureus\"],\"y\":[89.0]}},\"id\":\"84923e69-e483-4946-ab22-abf84e38a909\",\"type\":\"ColumnDataSource\"},{\"attributes\":{\"fill_alpha\":{\"field\":\"fill_alpha\"},\"fill_color\":{\"field\":\"color\"},\"height\":{\"field\":\"height\",\"units\":\"data\"},\"line_color\":{\"field\":\"line_color\"},\"width\":{\"field\":\"width\",\"units\":\"data\"},\"x\":{\"field\":\"x\"},\"y\":{\"field\":\"y\"}},\"id\":\"02010f31-8487-43e0-8fd5-dc4dac7088b5\",\"type\":\"Rect\"},{\"attributes\":{\"plot\":{\"id\":\"28eaf4de-71d7-47ef-8094-d494bbc0297e\",\"subtype\":\"Chart\",\"type\":\"Plot\"}},\"id\":\"a5c690c8-5e22-4977-beae-2094b2fc7bdc\",\"type\":\"SaveTool\"},{\"attributes\":{\"callback\":null,\"column_names\":[\"fill_alpha\",\"line_alpha\",\"color\",\"line_color\",\"x\",\"y\",\"height\",\"label\",\"width\"],\"data\":{\"chart_index\":[{\"organism\":\"K.pneumoniae\"}],\"color\":[\"#df5320\"],\"fill_alpha\":[0.8],\"height\":[232.0],\"label\":[{\"organism\":\"K.pneumoniae\"}],\"line_alpha\":[1.0],\"line_color\":[\"white\"],\"organism\":[\"K.pneumoniae\"],\"width\":[0.8],\"x\":[\"K.pneumoniae\"],\"y\":[116.0]}},\"id\":\"9a91ff26-4ea4-4f43-b04d-8f125fca2683\",\"type\":\"ColumnDataSource\"},{\"attributes\":{\"data_source\":{\"id\":\"21e6c38a-ef05-4885-ae6d-2317298cdf2d\",\"type\":\"ColumnDataSource\"},\"glyph\":{\"id\":\"e16cb09c-3627-4fa4-a864-6c4c079863a6\",\"type\":\"Rect\"},\"hover_glyph\":null,\"nonselection_glyph\":null,\"selection_glyph\":null},\"id\":\"26cd6c67-dcaf-40ac-afd2-838de52d1765\",\"type\":\"GlyphRenderer\"},{\"attributes\":{\"fill_alpha\":{\"field\":\"fill_alpha\"},\"fill_color\":{\"field\":\"color\"},\"height\":{\"field\":\"height\",\"units\":\"data\"},\"line_color\":{\"field\":\"line_color\"},\"width\":{\"field\":\"width\",\"units\":\"data\"},\"x\":{\"field\":\"x\"},\"y\":{\"field\":\"y\"}},\"id\":\"7e8fc992-062e-4ec3-9771-d5305fe2de40\",\"type\":\"Rect\"},{\"attributes\":{\"data_source\":{\"id\":\"ae7fb786-822e-4334-a9c9-b5abd2387627\",\"type\":\"ColumnDataSource\"},\"glyph\":{\"id\":\"1946ff46-9caf-453b-a7b4-fe1bdc885a61\",\"type\":\"Rect\"},\"hover_glyph\":null,\"nonselection_glyph\":null,\"selection_glyph\":null},\"id\":\"1c68b41f-6761-4613-86d7-e541fced13ba\",\"type\":\"GlyphRenderer\"},{\"attributes\":{\"active_drag\":\"auto\",\"active_scroll\":\"auto\",\"active_tap\":\"auto\",\"tools\":[{\"id\":\"9b1fb848-7039-4bfe-85ab-c9493dd71931\",\"type\":\"PanTool\"},{\"id\":\"a5f69125-7cc6-4689-9036-56e78ec859a1\",\"type\":\"WheelZoomTool\"},{\"id\":\"f7ed6d26-d562-4d76-a958-b6b9e9233f99\",\"type\":\"BoxZoomTool\"},{\"id\":\"1ac11249-4c2c-4b7c-8b1e-4975eb4c33a9\",\"type\":\"SaveTool\"},{\"id\":\"1d989233-3430-4667-b564-f3be2e3e753e\",\"type\":\"ResetTool\"},{\"id\":\"6be8e2e1-0aed-4843-a5b1-ba783923bf71\",\"type\":\"HelpTool\"}]},\"id\":\"e7fe704e-1d52-4b9a-a9a5-bde6330d4fdc\",\"type\":\"Toolbar\"},{\"attributes\":{},\"id\":\"f898ece2-e863-462e-aae9-004e2a917b13\",\"type\":\"CategoricalTickFormatter\"},{\"attributes\":{\"plot\":{\"id\":\"cdd2c035-3a3e-4f0c-a68f-5c092b121e50\",\"subtype\":\"Chart\",\"type\":\"Plot\"}},\"id\":\"6fa12443-18c1-4836-a563-67277a194865\",\"type\":\"HelpTool\"},{\"attributes\":{\"fill_alpha\":{\"field\":\"fill_alpha\"},\"fill_color\":{\"field\":\"color\"},\"height\":{\"field\":\"height\",\"units\":\"data\"},\"line_color\":{\"field\":\"line_color\"},\"width\":{\"field\":\"width\",\"units\":\"data\"},\"x\":{\"field\":\"x\"},\"y\":{\"field\":\"y\"}},\"id\":\"83ec5f05-49d2-4b4b-ba71-235cb31f5a01\",\"type\":\"Rect\"},{\"attributes\":{\"fill_alpha\":{\"field\":\"fill_alpha\"},\"fill_color\":{\"field\":\"color\"},\"height\":{\"field\":\"height\",\"units\":\"data\"},\"line_color\":{\"field\":\"line_color\"},\"width\":{\"field\":\"width\",\"units\":\"data\"},\"x\":{\"field\":\"x\"},\"y\":{\"field\":\"y\"}},\"id\":\"3b789bfb-e654-43e6-8c15-b61c568458e7\",\"type\":\"Rect\"},{\"attributes\":{\"bottom_units\":\"screen\",\"fill_alpha\":{\"value\":0.5},\"fill_color\":{\"value\":\"lightgrey\"},\"left_units\":\"screen\",\"level\":\"overlay\",\"line_alpha\":{\"value\":1.0},\"line_color\":{\"value\":\"black\"},\"line_dash\":[4,4],\"line_width\":{\"value\":2},\"plot\":null,\"render_mode\":\"css\",\"right_units\":\"screen\",\"top_units\":\"screen\"},\"id\":\"0c5ad7e8-0ac3-4fb2-a845-842f5b9acba8\",\"type\":\"BoxAnnotation\"},{\"attributes\":{\"plot\":{\"id\":\"dcfd524e-b1c9-41b9-8f8b-94c398d198fa\",\"subtype\":\"Chart\",\"type\":\"Plot\"}},\"id\":\"fc21cca0-f644-4bd9-9504-75201c44f157\",\"type\":\"PanTool\"},{\"attributes\":{\"data_source\":{\"id\":\"41f85c1f-9c6a-4e13-8932-515ad81fea0d\",\"type\":\"ColumnDataSource\"},\"glyph\":{\"id\":\"2d5144ed-83a9-4204-a2c9-24493b8f8476\",\"type\":\"Rect\"},\"hover_glyph\":null,\"nonselection_glyph\":null,\"selection_glyph\":null},\"id\":\"0cddb6d4-a167-4845-8e7e-53e447f0ec6e\",\"type\":\"GlyphRenderer\"},{\"attributes\":{},\"id\":\"664dc1df-2ec7-4b01-9f1d-04205f7b109c\",\"type\":\"CategoricalTickFormatter\"},{\"attributes\":{\"data_source\":{\"id\":\"0d9809cd-3ba7-4e22-b2d1-0df0aec6e43e\",\"type\":\"ColumnDataSource\"},\"glyph\":{\"id\":\"447ce4c6-a74f-45de-b30a-9ce471348e54\",\"type\":\"Rect\"},\"hover_glyph\":null,\"nonselection_glyph\":null,\"selection_glyph\":null},\"id\":\"49e8c2d7-3ec2-402a-8078-b9585f54e542\",\"type\":\"GlyphRenderer\"},{\"attributes\":{},\"id\":\"782ff127-cfb5-451c-9a37-b48e16ab229c\",\"type\":\"BasicTickFormatter\"},{\"attributes\":{},\"id\":\"29311403-47e0-4d8d-b2e4-171c29f3027c\",\"type\":\"ToolEvents\"},{\"attributes\":{\"data_source\":{\"id\":\"85b57bf7-9d0d-4be4-822e-79cdf7e18ac9\",\"type\":\"ColumnDataSource\"},\"glyph\":{\"id\":\"7e8fc992-062e-4ec3-9771-d5305fe2de40\",\"type\":\"Rect\"},\"hover_glyph\":null,\"nonselection_glyph\":null,\"selection_glyph\":null},\"id\":\"e9157b37-4c74-4c0a-96e5-6e72de034cab\",\"type\":\"GlyphRenderer\"},{\"attributes\":{\"below\":[{\"id\":\"1c8b8030-6867-4d2a-8769-792cf50bd65b\",\"type\":\"CategoricalAxis\"}],\"left\":[{\"id\":\"a0db6392-67c4-41a3-9ce3-cec60786d157\",\"type\":\"LinearAxis\"}],\"plot_width\":450,\"renderers\":[{\"id\":\"7ed76abf-89c2-457b-b9a5-0e6a34baa8c8\",\"type\":\"BoxAnnotation\"},{\"id\":\"378142c6-9d63-45e7-bda6-de836a4b5da0\",\"type\":\"GlyphRenderer\"},{\"id\":\"435df7c9-2c92-4a37-aeec-f18d700c693d\",\"type\":\"GlyphRenderer\"},{\"id\":\"307aa3f3-6d7e-4cd1-abb9-bb747877aa28\",\"type\":\"GlyphRenderer\"},{\"id\":\"ff20bf55-73a2-4dff-9b92-0ea913b0e6e6\",\"type\":\"GlyphRenderer\"},{\"id\":\"26cd6c67-dcaf-40ac-afd2-838de52d1765\",\"type\":\"GlyphRenderer\"},{\"id\":\"5636ea15-a954-4d2f-aa14-6239c55c5f49\",\"type\":\"GlyphRenderer\"},{\"id\":\"dd9f69a7-188f-455c-8f8c-b624e30ea881\",\"type\":\"Legend\"},{\"id\":\"1c8b8030-6867-4d2a-8769-792cf50bd65b\",\"type\":\"CategoricalAxis\"},{\"id\":\"a0db6392-67c4-41a3-9ce3-cec60786d157\",\"type\":\"LinearAxis\"},{\"id\":\"0a8a72d0-7aab-4f2b-a064-a2f3635c3537\",\"type\":\"Grid\"}],\"title\":{\"id\":\"2e2eef99-6b6b-4588-b8c1-81ca013cb22e\",\"type\":\"Title\"},\"tool_events\":{\"id\":\"fe4b7eae-fb63-4f31-9cd6-3c1b8bfe151b\",\"type\":\"ToolEvents\"},\"toolbar\":{\"id\":\"29fcfcf1-2ebd-4129-9335-662333fd955b\",\"type\":\"Toolbar\"},\"x_mapper_type\":\"auto\",\"x_range\":{\"id\":\"f86ba392-52f6-487d-99c0-facd0693dac8\",\"type\":\"FactorRange\"},\"y_mapper_type\":\"auto\",\"y_range\":{\"id\":\"d66b0076-004f-457d-98c1-ca8034824070\",\"type\":\"Range1d\"}},\"id\":\"dcfd524e-b1c9-41b9-8f8b-94c398d198fa\",\"subtype\":\"Chart\",\"type\":\"Plot\"},{\"attributes\":{\"plot\":{\"id\":\"dcfd524e-b1c9-41b9-8f8b-94c398d198fa\",\"subtype\":\"Chart\",\"type\":\"Plot\"}},\"id\":\"5453082e-a03f-4c68-98f4-23c06581ea0d\",\"type\":\"ResetTool\"},{\"attributes\":{\"callback\":null,\"column_names\":[\"fill_alpha\",\"line_alpha\",\"color\",\"line_color\",\"x\",\"y\",\"height\",\"label\",\"width\"],\"data\":{\"chart_index\":[{\"organism\":\"K.pneumoniae\"}],\"color\":[\"#df5320\"],\"fill_alpha\":[0.8],\"height\":[124.0],\"label\":[{\"organism\":\"K.pneumoniae\"}],\"line_alpha\":[1.0],\"line_color\":[\"white\"],\"organism\":[\"K.pneumoniae\"],\"width\":[0.8],\"x\":[\"K.pneumoniae\"],\"y\":[62.0]}},\"id\":\"41f85c1f-9c6a-4e13-8932-515ad81fea0d\",\"type\":\"ColumnDataSource\"},{\"attributes\":{\"legends\":[[\"A.baumanii\",[{\"id\":\"7d3cf946-2539-4df6-859a-2adc8d3b85e6\",\"type\":\"GlyphRenderer\"}]],[\"E.coli\",[{\"id\":\"3071f17d-a351-4eaa-998b-f6b639d8f0e6\",\"type\":\"GlyphRenderer\"}]],[\"H.pylori\",[{\"id\":\"340e198e-0526-44cd-ad73-14757f596172\",\"type\":\"GlyphRenderer\"}]],[\"K.pneumoniae\",[{\"id\":\"396f356a-f79b-4b4b-bcc3-b7736467424b\",\"type\":\"GlyphRenderer\"}]],[\"S.aureus\",[{\"id\":\"7a115f56-0862-4473-bff3-0ac820b0b9cc\",\"type\":\"GlyphRenderer\"}]],[\"S.pneumoniae\",[{\"id\":\"a5763f52-8664-41af-83e2-bd4310b9f38c\",\"type\":\"GlyphRenderer\"}]]],\"location\":\"top_left\",\"plot\":{\"id\":\"edab1af4-2726-4797-942c-8622278877d5\",\"subtype\":\"Chart\",\"type\":\"Plot\"}},\"id\":\"bf708cac-8479-41bd-8a05-a213275ac11f\",\"type\":\"Legend\"},{\"attributes\":{\"axis_label\":\"Organism\",\"formatter\":{\"id\":\"f898ece2-e863-462e-aae9-004e2a917b13\",\"type\":\"CategoricalTickFormatter\"},\"major_label_orientation\":0.7853981633974483,\"plot\":{\"id\":\"dcfd524e-b1c9-41b9-8f8b-94c398d198fa\",\"subtype\":\"Chart\",\"type\":\"Plot\"},\"ticker\":{\"id\":\"ac40281d-ae5f-49e6-9e10-727562463769\",\"type\":\"CategoricalTicker\"}},\"id\":\"1c8b8030-6867-4d2a-8769-792cf50bd65b\",\"type\":\"CategoricalAxis\"},{\"attributes\":{\"child\":{\"id\":\"b4c32695-ad93-4b63-bd1c-2ea22ac873bc\",\"type\":\"Row\"},\"title\":\"A and T\"},\"id\":\"efdf8085-28e8-4391-b8ec-b736e36653a4\",\"type\":\"Panel\"},{\"attributes\":{\"data_source\":{\"id\":\"b0356569-3a01-495c-a519-3f1e28d0bbdf\",\"type\":\"ColumnDataSource\"},\"glyph\":{\"id\":\"d2de8c3b-8e09-4b2c-894d-182edb23257b\",\"type\":\"Rect\"},\"hover_glyph\":null,\"nonselection_glyph\":null,\"selection_glyph\":null},\"id\":\"435df7c9-2c92-4a37-aeec-f18d700c693d\",\"type\":\"GlyphRenderer\"},{\"attributes\":{\"overlay\":{\"id\":\"722b3800-6d47-4aa8-868e-438301fc7fa6\",\"type\":\"BoxAnnotation\"},\"plot\":{\"id\":\"edab1af4-2726-4797-942c-8622278877d5\",\"subtype\":\"Chart\",\"type\":\"Plot\"}},\"id\":\"f7ed6d26-d562-4d76-a958-b6b9e9233f99\",\"type\":\"BoxZoomTool\"},{\"attributes\":{},\"id\":\"acaedf39-2740-4b78-855d-f04daed65e73\",\"type\":\"ToolEvents\"},{\"attributes\":{\"plot\":{\"id\":\"edab1af4-2726-4797-942c-8622278877d5\",\"subtype\":\"Chart\",\"type\":\"Plot\"}},\"id\":\"6be8e2e1-0aed-4843-a5b1-ba783923bf71\",\"type\":\"HelpTool\"},{\"attributes\":{\"callback\":null,\"end\":455.7},\"id\":\"da5e413b-db80-4e19-9eae-4fa572459a55\",\"type\":\"Range1d\"},{\"attributes\":{\"fill_alpha\":{\"field\":\"fill_alpha\"},\"fill_color\":{\"field\":\"color\"},\"height\":{\"field\":\"height\",\"units\":\"data\"},\"line_color\":{\"field\":\"line_color\"},\"width\":{\"field\":\"width\",\"units\":\"data\"},\"x\":{\"field\":\"x\"},\"y\":{\"field\":\"y\"}},\"id\":\"734c6936-66d1-48ed-b31b-a5e07c408205\",\"type\":\"Rect\"},{\"attributes\":{\"axis_label\":\"Sum( G )\",\"formatter\":{\"id\":\"5b2ccc6c-d0a9-494c-8427-2739f45b7925\",\"type\":\"BasicTickFormatter\"},\"plot\":{\"id\":\"edab1af4-2726-4797-942c-8622278877d5\",\"subtype\":\"Chart\",\"type\":\"Plot\"},\"ticker\":{\"id\":\"53f6400e-e1d9-41ce-889e-b5e99c7e001b\",\"type\":\"BasicTicker\"}},\"id\":\"a8ba5ab8-b386-4dab-80bf-98d07604be99\",\"type\":\"LinearAxis\"},{\"attributes\":{\"fill_alpha\":{\"field\":\"fill_alpha\"},\"fill_color\":{\"field\":\"color\"},\"height\":{\"field\":\"height\",\"units\":\"data\"},\"line_color\":{\"field\":\"line_color\"},\"width\":{\"field\":\"width\",\"units\":\"data\"},\"x\":{\"field\":\"x\"},\"y\":{\"field\":\"y\"}},\"id\":\"2d5144ed-83a9-4204-a2c9-24493b8f8476\",\"type\":\"Rect\"},{\"attributes\":{\"data_source\":{\"id\":\"c650b711-19af-4c6d-86ed-465db3c68f6a\",\"type\":\"ColumnDataSource\"},\"glyph\":{\"id\":\"2aa96f23-af80-4faa-87e9-9ba46cace0e0\",\"type\":\"Rect\"},\"hover_glyph\":null,\"nonselection_glyph\":null,\"selection_glyph\":null},\"id\":\"378142c6-9d63-45e7-bda6-de836a4b5da0\",\"type\":\"GlyphRenderer\"},{\"attributes\":{\"plot\":{\"id\":\"28eaf4de-71d7-47ef-8094-d494bbc0297e\",\"subtype\":\"Chart\",\"type\":\"Plot\"}},\"id\":\"ce457c4c-296d-4386-a253-cee123e56304\",\"type\":\"ResetTool\"},{\"attributes\":{\"callback\":null,\"column_names\":[\"fill_alpha\",\"line_alpha\",\"color\",\"line_color\",\"x\",\"y\",\"height\",\"label\",\"width\"],\"data\":{\"chart_index\":[{\"organism\":\"A.baumanii\"}],\"color\":[\"#f22c40\"],\"fill_alpha\":[0.8],\"height\":[190.0],\"label\":[{\"organism\":\"A.baumanii\"}],\"line_alpha\":[1.0],\"line_color\":[\"white\"],\"organism\":[\"A.baumanii\"],\"width\":[0.8],\"x\":[\"A.baumanii\"],\"y\":[95.0]}},\"id\":\"c650b711-19af-4c6d-86ed-465db3c68f6a\",\"type\":\"ColumnDataSource\"},{\"attributes\":{\"axis_label\":\"Organism\",\"formatter\":{\"id\":\"2083560b-0c0d-4e52-a7a6-4466123e47e2\",\"type\":\"CategoricalTickFormatter\"},\"major_label_orientation\":0.7853981633974483,\"plot\":{\"id\":\"cdd2c035-3a3e-4f0c-a68f-5c092b121e50\",\"subtype\":\"Chart\",\"type\":\"Plot\"},\"ticker\":{\"id\":\"c5fd503b-a965-4ed5-9669-98051294a8de\",\"type\":\"CategoricalTicker\"}},\"id\":\"d9e13d2c-a5c4-4f52-be9f-36ca7c8a36f5\",\"type\":\"CategoricalAxis\"},{\"attributes\":{},\"id\":\"7f3f6553-0406-4678-9c84-8ebb11d99f44\",\"type\":\"CategoricalTicker\"},{\"attributes\":{\"below\":[{\"id\":\"0d4b582a-65ec-48c5-aa30-cfa4ae45a960\",\"type\":\"CategoricalAxis\"}],\"left\":[{\"id\":\"a8ba5ab8-b386-4dab-80bf-98d07604be99\",\"type\":\"LinearAxis\"}],\"plot_width\":450,\"renderers\":[{\"id\":\"722b3800-6d47-4aa8-868e-438301fc7fa6\",\"type\":\"BoxAnnotation\"},{\"id\":\"7d3cf946-2539-4df6-859a-2adc8d3b85e6\",\"type\":\"GlyphRenderer\"},{\"id\":\"3071f17d-a351-4eaa-998b-f6b639d8f0e6\",\"type\":\"GlyphRenderer\"},{\"id\":\"340e198e-0526-44cd-ad73-14757f596172\",\"type\":\"GlyphRenderer\"},{\"id\":\"396f356a-f79b-4b4b-bcc3-b7736467424b\",\"type\":\"GlyphRenderer\"},{\"id\":\"7a115f56-0862-4473-bff3-0ac820b0b9cc\",\"type\":\"GlyphRenderer\"},{\"id\":\"a5763f52-8664-41af-83e2-bd4310b9f38c\",\"type\":\"GlyphRenderer\"},{\"id\":\"bf708cac-8479-41bd-8a05-a213275ac11f\",\"type\":\"Legend\"},{\"id\":\"0d4b582a-65ec-48c5-aa30-cfa4ae45a960\",\"type\":\"CategoricalAxis\"},{\"id\":\"a8ba5ab8-b386-4dab-80bf-98d07604be99\",\"type\":\"LinearAxis\"},{\"id\":\"e7cd2f49-f1d9-4f4d-ac02-bb4eaba2ddb0\",\"type\":\"Grid\"}],\"title\":{\"id\":\"0abf68c8-a73f-4622-b0ca-c536e1be41df\",\"type\":\"Title\"},\"tool_events\":{\"id\":\"29311403-47e0-4d8d-b2e4-171c29f3027c\",\"type\":\"ToolEvents\"},\"toolbar\":{\"id\":\"e7fe704e-1d52-4b9a-a9a5-bde6330d4fdc\",\"type\":\"Toolbar\"},\"x_mapper_type\":\"auto\",\"x_range\":{\"id\":\"e2bd1ed1-ef90-440c-9f44-c1b67242df9d\",\"type\":\"FactorRange\"},\"y_mapper_type\":\"auto\",\"y_range\":{\"id\":\"da5e413b-db80-4e19-9eae-4fa572459a55\",\"type\":\"Range1d\"}},\"id\":\"edab1af4-2726-4797-942c-8622278877d5\",\"subtype\":\"Chart\",\"type\":\"Plot\"},{\"attributes\":{\"plot\":{\"id\":\"28eaf4de-71d7-47ef-8094-d494bbc0297e\",\"subtype\":\"Chart\",\"type\":\"Plot\"}},\"id\":\"d52ef634-2c28-4aae-9374-a05262393fe6\",\"type\":\"WheelZoomTool\"},{\"attributes\":{\"data_source\":{\"id\":\"b90be9bd-1bb5-4d52-80ff-29f4537b3d7c\",\"type\":\"ColumnDataSource\"},\"glyph\":{\"id\":\"0c7f8593-77cc-4830-9b30-7283c73a8d7a\",\"type\":\"Rect\"},\"hover_glyph\":null,\"nonselection_glyph\":null,\"selection_glyph\":null},\"id\":\"5658d2fd-e617-460e-b3ef-120a806691d6\",\"type\":\"GlyphRenderer\"},{\"attributes\":{\"callback\":null,\"end\":413.7},\"id\":\"63e27fa5-8fa0-42c3-be72-f0a3b2a4bffe\",\"type\":\"Range1d\"},{\"attributes\":{},\"id\":\"c00bad7c-3f91-4a46-9c19-3c9d29097856\",\"type\":\"CategoricalTicker\"},{\"attributes\":{\"dimension\":1,\"plot\":{\"id\":\"edab1af4-2726-4797-942c-8622278877d5\",\"subtype\":\"Chart\",\"type\":\"Plot\"},\"ticker\":{\"id\":\"53f6400e-e1d9-41ce-889e-b5e99c7e001b\",\"type\":\"BasicTicker\"}},\"id\":\"e7cd2f49-f1d9-4f4d-ac02-bb4eaba2ddb0\",\"type\":\"Grid\"},{\"attributes\":{\"callback\":null,\"column_names\":[\"fill_alpha\",\"line_alpha\",\"color\",\"line_color\",\"x\",\"y\",\"height\",\"label\",\"width\"],\"data\":{\"chart_index\":[{\"organism\":\"A.baumanii\"}],\"color\":[\"#f22c40\"],\"fill_alpha\":[0.8],\"height\":[246.0],\"label\":[{\"organism\":\"A.baumanii\"}],\"line_alpha\":[1.0],\"line_color\":[\"white\"],\"organism\":[\"A.baumanii\"],\"width\":[0.8],\"x\":[\"A.baumanii\"],\"y\":[123.0]}},\"id\":\"20f1e29b-6d66-4eee-800c-34bc24f1d682\",\"type\":\"ColumnDataSource\"},{\"attributes\":{\"legends\":[[\"A.baumanii\",[{\"id\":\"5658d2fd-e617-460e-b3ef-120a806691d6\",\"type\":\"GlyphRenderer\"}]],[\"E.coli\",[{\"id\":\"3def6182-cd72-40fc-a2b3-46eeb2dc678c\",\"type\":\"GlyphRenderer\"}]],[\"H.pylori\",[{\"id\":\"bf1f61ea-b844-4de3-ba1f-b80897c0b35f\",\"type\":\"GlyphRenderer\"}]],[\"K.pneumoniae\",[{\"id\":\"8e987c2b-5b1d-4f4b-8d8f-457237f1c6e8\",\"type\":\"GlyphRenderer\"}]],[\"S.aureus\",[{\"id\":\"1c68b41f-6761-4613-86d7-e541fced13ba\",\"type\":\"GlyphRenderer\"}]],[\"S.pneumoniae\",[{\"id\":\"8ed0029b-f155-409b-996a-a3b11dcc087f\",\"type\":\"GlyphRenderer\"}]]],\"location\":\"top_left\",\"plot\":{\"id\":\"cdd2c035-3a3e-4f0c-a68f-5c092b121e50\",\"subtype\":\"Chart\",\"type\":\"Plot\"}},\"id\":\"a3a2215b-6a7b-4fc0-a933-d975de9e2482\",\"type\":\"Legend\"},{\"attributes\":{\"callback\":null,\"factors\":[\"A.baumanii\",\"E.coli\",\"H.pylori\",\"K.pneumoniae\",\"S.aureus\",\"S.pneumoniae\"]},\"id\":\"f86ba392-52f6-487d-99c0-facd0693dac8\",\"type\":\"FactorRange\"},{\"attributes\":{\"callback\":null,\"column_names\":[\"fill_alpha\",\"line_alpha\",\"color\",\"line_color\",\"x\",\"y\",\"height\",\"label\",\"width\"],\"data\":{\"chart_index\":[{\"organism\":\"S.aureus\"}],\"color\":[\"#00ad9c\"],\"fill_alpha\":[0.8],\"height\":[213.0],\"label\":[{\"organism\":\"S.aureus\"}],\"line_alpha\":[1.0],\"line_color\":[\"white\"],\"organism\":[\"S.aureus\"],\"width\":[0.8],\"x\":[\"S.aureus\"],\"y\":[106.5]}},\"id\":\"21e6c38a-ef05-4885-ae6d-2317298cdf2d\",\"type\":\"ColumnDataSource\"},{\"attributes\":{\"fill_alpha\":{\"field\":\"fill_alpha\"},\"fill_color\":{\"field\":\"color\"},\"height\":{\"field\":\"height\",\"units\":\"data\"},\"line_color\":{\"field\":\"line_color\"},\"width\":{\"field\":\"width\",\"units\":\"data\"},\"x\":{\"field\":\"x\"},\"y\":{\"field\":\"y\"}},\"id\":\"447ce4c6-a74f-45de-b30a-9ce471348e54\",\"type\":\"Rect\"},{\"attributes\":{\"plot\":{\"id\":\"cdd2c035-3a3e-4f0c-a68f-5c092b121e50\",\"subtype\":\"Chart\",\"type\":\"Plot\"}},\"id\":\"0cb9fc97-71db-428f-9a5c-d301f61156b2\",\"type\":\"PanTool\"},{\"attributes\":{\"legends\":[[\"A.baumanii\",[{\"id\":\"378142c6-9d63-45e7-bda6-de836a4b5da0\",\"type\":\"GlyphRenderer\"}]],[\"E.coli\",[{\"id\":\"435df7c9-2c92-4a37-aeec-f18d700c693d\",\"type\":\"GlyphRenderer\"}]],[\"H.pylori\",[{\"id\":\"307aa3f3-6d7e-4cd1-abb9-bb747877aa28\",\"type\":\"GlyphRenderer\"}]],[\"K.pneumoniae\",[{\"id\":\"ff20bf55-73a2-4dff-9b92-0ea913b0e6e6\",\"type\":\"GlyphRenderer\"}]],[\"S.aureus\",[{\"id\":\"26cd6c67-dcaf-40ac-afd2-838de52d1765\",\"type\":\"GlyphRenderer\"}]],[\"S.pneumoniae\",[{\"id\":\"5636ea15-a954-4d2f-aa14-6239c55c5f49\",\"type\":\"GlyphRenderer\"}]]],\"location\":\"top_left\",\"plot\":{\"id\":\"dcfd524e-b1c9-41b9-8f8b-94c398d198fa\",\"subtype\":\"Chart\",\"type\":\"Plot\"}},\"id\":\"dd9f69a7-188f-455c-8f8c-b624e30ea881\",\"type\":\"Legend\"},{\"attributes\":{\"fill_alpha\":{\"field\":\"fill_alpha\"},\"fill_color\":{\"field\":\"color\"},\"height\":{\"field\":\"height\",\"units\":\"data\"},\"line_color\":{\"field\":\"line_color\"},\"width\":{\"field\":\"width\",\"units\":\"data\"},\"x\":{\"field\":\"x\"},\"y\":{\"field\":\"y\"}},\"id\":\"f3cb6a70-d81d-4caf-af33-7b0acb134386\",\"type\":\"Rect\"},{\"attributes\":{\"data_source\":{\"id\":\"7bae5a29-4e71-4530-b95f-a513db519aa8\",\"type\":\"ColumnDataSource\"},\"glyph\":{\"id\":\"801e89a4-4e15-41e3-9b52-274936fe2b46\",\"type\":\"Rect\"},\"hover_glyph\":null,\"nonselection_glyph\":null,\"selection_glyph\":null},\"id\":\"5636ea15-a954-4d2f-aa14-6239c55c5f49\",\"type\":\"GlyphRenderer\"},{\"attributes\":{\"fill_alpha\":{\"field\":\"fill_alpha\"},\"fill_color\":{\"field\":\"color\"},\"height\":{\"field\":\"height\",\"units\":\"data\"},\"line_color\":{\"field\":\"line_color\"},\"width\":{\"field\":\"width\",\"units\":\"data\"},\"x\":{\"field\":\"x\"},\"y\":{\"field\":\"y\"}},\"id\":\"801e89a4-4e15-41e3-9b52-274936fe2b46\",\"type\":\"Rect\"},{\"attributes\":{\"callback\":null,\"column_names\":[\"fill_alpha\",\"line_alpha\",\"color\",\"line_color\",\"x\",\"y\",\"height\",\"label\",\"width\"],\"data\":{\"chart_index\":[{\"organism\":\"E.coli\"}],\"color\":[\"#5ab738\"],\"fill_alpha\":[0.8],\"height\":[207.0],\"label\":[{\"organism\":\"E.coli\"}],\"line_alpha\":[1.0],\"line_color\":[\"white\"],\"organism\":[\"E.coli\"],\"width\":[0.8],\"x\":[\"E.coli\"],\"y\":[103.5]}},\"id\":\"b0356569-3a01-495c-a519-3f1e28d0bbdf\",\"type\":\"ColumnDataSource\"},{\"attributes\":{\"plot\":{\"id\":\"cdd2c035-3a3e-4f0c-a68f-5c092b121e50\",\"subtype\":\"Chart\",\"type\":\"Plot\"}},\"id\":\"0ca5f9e0-0f43-4bfc-8d63-5dc9f7deeaef\",\"type\":\"SaveTool\"},{\"attributes\":{},\"id\":\"fe4b7eae-fb63-4f31-9cd6-3c1b8bfe151b\",\"type\":\"ToolEvents\"},{\"attributes\":{\"callback\":null,\"column_names\":[\"fill_alpha\",\"line_alpha\",\"color\",\"line_color\",\"x\",\"y\",\"height\",\"label\",\"width\"],\"data\":{\"chart_index\":[{\"organism\":\"S.pneumoniae\"}],\"color\":[\"#c33ff3\"],\"fill_alpha\":[0.8],\"height\":[345.0],\"label\":[{\"organism\":\"S.pneumoniae\"}],\"line_alpha\":[1.0],\"line_color\":[\"white\"],\"organism\":[\"S.pneumoniae\"],\"width\":[0.8],\"x\":[\"S.pneumoniae\"],\"y\":[172.5]}},\"id\":\"e5754072-15f3-4589-9dcf-9e9b000c3f25\",\"type\":\"ColumnDataSource\"},{\"attributes\":{\"axis_label\":\"Sum( T )\",\"formatter\":{\"id\":\"782ff127-cfb5-451c-9a37-b48e16ab229c\",\"type\":\"BasicTickFormatter\"},\"plot\":{\"id\":\"28eaf4de-71d7-47ef-8094-d494bbc0297e\",\"subtype\":\"Chart\",\"type\":\"Plot\"},\"ticker\":{\"id\":\"ea8339e0-e301-4f59-84dd-3cdaef05411d\",\"type\":\"BasicTicker\"}},\"id\":\"9518bc3c-8fb1-4328-8bfb-567a92492c06\",\"type\":\"LinearAxis\"},{\"attributes\":{\"data_source\":{\"id\":\"5eae8cdc-6c27-4ecb-a349-297f59221d79\",\"type\":\"ColumnDataSource\"},\"glyph\":{\"id\":\"02010f31-8487-43e0-8fd5-dc4dac7088b5\",\"type\":\"Rect\"},\"hover_glyph\":null,\"nonselection_glyph\":null,\"selection_glyph\":null},\"id\":\"307aa3f3-6d7e-4cd1-abb9-bb747877aa28\",\"type\":\"GlyphRenderer\"},{\"attributes\":{\"data_source\":{\"id\":\"e5754072-15f3-4589-9dcf-9e9b000c3f25\",\"type\":\"ColumnDataSource\"},\"glyph\":{\"id\":\"0f0b3e9a-021f-4f58-b592-3c0dfd25c7f7\",\"type\":\"Rect\"},\"hover_glyph\":null,\"nonselection_glyph\":null,\"selection_glyph\":null},\"id\":\"a5763f52-8664-41af-83e2-bd4310b9f38c\",\"type\":\"GlyphRenderer\"},{\"attributes\":{},\"id\":\"c5fd503b-a965-4ed5-9669-98051294a8de\",\"type\":\"CategoricalTicker\"},{\"attributes\":{\"fill_alpha\":{\"field\":\"fill_alpha\"},\"fill_color\":{\"field\":\"color\"},\"height\":{\"field\":\"height\",\"units\":\"data\"},\"line_color\":{\"field\":\"line_color\"},\"width\":{\"field\":\"width\",\"units\":\"data\"},\"x\":{\"field\":\"x\"},\"y\":{\"field\":\"y\"}},\"id\":\"2ddb7d39-ac47-4b48-8387-3396fb909954\",\"type\":\"Rect\"},{\"attributes\":{\"data_source\":{\"id\":\"434cea70-029a-426e-951a-c9bba55de81c\",\"type\":\"ColumnDataSource\"},\"glyph\":{\"id\":\"83ec5f05-49d2-4b4b-ba71-235cb31f5a01\",\"type\":\"Rect\"},\"hover_glyph\":null,\"nonselection_glyph\":null,\"selection_glyph\":null},\"id\":\"8ed0029b-f155-409b-996a-a3b11dcc087f\",\"type\":\"GlyphRenderer\"},{\"attributes\":{\"child\":{\"id\":\"c61f6a53-7bbf-41aa-b4c6-7af8250d8b9c\",\"type\":\"Row\"},\"title\":\"C and G\"},\"id\":\"e9e691e7-1ff5-4e52-a6df-e082d011dd83\",\"type\":\"Panel\"}],\"root_ids\":[\"ba98ad09-64e4-4a4d-8c53-f87c4252bf74\"]},\"title\":\"Bokeh Application\",\"version\":\"0.12.2\"}};\n",
       "            var render_items = [{\"docid\":\"93d12eae-8365-43bf-b20e-df29bbd70e8d\",\"elementid\":\"2050a09c-e2a1-4f31-935e-b4f37199601e\",\"modelid\":\"ba98ad09-64e4-4a4d-8c53-f87c4252bf74\"}];\n",
       "            \n",
       "            Bokeh.embed.embed_items(docs_json, render_items);\n",
       "        });\n",
       "      },\n",
       "      function(Bokeh) {\n",
       "      }\n",
       "    ];\n",
       "\n",
       "    function run_inline_js() {\n",
       "      \n",
       "      if ((window.Bokeh !== undefined) || (force === \"1\")) {\n",
       "        for (var i = 0; i < inline_js.length; i++) {\n",
       "          inline_js[i](window.Bokeh);\n",
       "        }if (force === \"1\") {\n",
       "          display_loaded();\n",
       "        }} else if (Date.now() < window._bokeh_timeout) {\n",
       "        setTimeout(run_inline_js, 100);\n",
       "      } else if (!window._bokeh_failed_load) {\n",
       "        console.log(\"Bokeh: BokehJS failed to load within specified timeout.\");\n",
       "        window._bokeh_failed_load = true;\n",
       "      } else if (!force) {\n",
       "        var cell = $(\"#2050a09c-e2a1-4f31-935e-b4f37199601e\").parents('.cell').data().cell;\n",
       "        cell.output_area.append_execute_result(NB_LOAD_WARNING)\n",
       "      }\n",
       "\n",
       "    }\n",
       "\n",
       "    if (window._bokeh_is_loading === 0) {\n",
       "      console.log(\"Bokeh: BokehJS loaded, going straight to plotting\");\n",
       "      run_inline_js();\n",
       "    } else {\n",
       "      load_libs(js_urls, function() {\n",
       "        console.log(\"Bokeh: BokehJS plotting callback run at\", now());\n",
       "        run_inline_js();\n",
       "      });\n",
       "    }\n",
       "  }(this));\n",
       "</script>"
      ]
     },
     "metadata": {},
     "output_type": "display_data"
    }
   ],
   "source": [
    "# store the output in the notebook and show the plot\n",
    "# if you can't see some colors well you can just change them\n",
    "output_notebook()\n",
    "show(tabs)"
   ]
  },
  {
   "cell_type": "markdown",
   "metadata": {},
   "source": [
    "One quick observation you can see is *H.pylori* and *S.pneumoniae* have the most of each base. This is due to the fact we got the whole sequence. Remember that the whole sequence ~1500 bases. On the contrary, the rest are lower compared those two. Also, the GC content calculated above is rather high -- this is indicative of prokaryotic DNA whereas, eukaryotic DNA such as Human beings(*Homo sapiens*) DNA is about 50%. We can use these differences in GC content to differenciate them. "
   ]
  },
  {
   "cell_type": "markdown",
   "metadata": {},
   "source": [
    "Back to phylogeny. I went ahead and made phylogenetic trees with the maximum likelihood method and distance based methods -- I'll talk about these later. They both produced different types of output. Yet i used the default parameters in different implementations. To add on this, i used online tools [Clustal Omega](https://www.ebi.ac.uk/Tools/msa/clustalo/) which is a quick way of doing this."
   ]
  },
  {
   "cell_type": "markdown",
   "metadata": {},
   "source": [
    "<p align=\"center\">\n",
    "<img src=\"images/clustal_omega_msa_defaultparams_phylogenetics.png\" width=\"550\"> <br>\n",
    "<figcaption>Above is a tree generated with clustal omega default parameters Maximum likelihood.</figcaption>\n",
    "</p>"
   ]
  },
  {
   "cell_type": "markdown",
   "metadata": {},
   "source": [
    "<p align=\"center\">\n",
    "<img src=\"images/mega7_ML_bootstrap_phylotree.png\" width=\"550\"> <br>\n",
    "<figcaption>The last one uses Neigbour joining method. Also, done using [MEGA7](http://megasoftware.net/).</figcaption>\n",
    "</p>"
   ]
  },
  {
   "cell_type": "markdown",
   "metadata": {},
   "source": [
    "<p align=\"center\">\n",
    "<img src=\"images/mega7_NJ_boostrap_phylotree.png\" width=\"550\"> <br>\n",
    "<figcaption>The last one uses Neigbour joining method. Also, done using MEGA7.</figcaption>\n",
    "</p>"
   ]
  },
  {
   "cell_type": "markdown",
   "metadata": {},
   "source": [
    "Before moving into the discussion. Let's try making the above tree diagrams with an unsupervised learning method: Hierarchical clustering."
   ]
  },
  {
   "cell_type": "code",
   "execution_count": 29,
   "metadata": {
    "collapsed": false
   },
   "outputs": [
    {
     "data": {
      "image/png": "[encoded data removed]",
      "text/plain": [
       "<matplotlib.figure.Figure at 0x111ee7c88>"
      ]
     },
     "metadata": {},
     "output_type": "display_data"
    }
   ],
   "source": [
    "# scipy library can help out with this\n",
    "from scipy.cluster.hierarchy import dendrogram, linkage, ward\n",
    "\n",
    "# we need a numpy arrays to continue to the next step so?\n",
    "# you don't need the columns GC content, GA_content and organism\n",
    "samp_orgs = df2.drop([\"GC_content\",\"GA_content\",\"organism\"], axis = 1).values \n",
    "\n",
    "# test 1 with Linkage\n",
    "# merges two clusters that have the smallest maximum distance between points (intro to ML)\n",
    "merge = linkage(samp_orgs, method = \"complete\")\n",
    "\n",
    "# test 2 with ward\n",
    "# uses the ward variance minimization algorithm \n",
    "merge2 = ward(samp_orgs)\n",
    "dendrogram(merge,\n",
    "           labels = [\"A.baumanii\",\"E.coli\",\"H.pylori\",\"K.pneumoniae\"\n",
    "                                ,\"S.aureus\",\"S.pneumoniae\"],\n",
    "           leaf_rotation = 90,\n",
    "           leaf_font_size = 20,\n",
    ")\n",
    "# show plot\n",
    "plt.show()"
   ]
  },
  {
   "cell_type": "code",
   "execution_count": 30,
   "metadata": {
    "collapsed": false
   },
   "outputs": [
    {
     "data": {
      "image/png": "[encoded data removed]",
      "text/plain": [
       "<matplotlib.figure.Figure at 0x111ef2dd8>"
      ]
     },
     "metadata": {},
     "output_type": "display_data"
    }
   ],
   "source": [
    "# With the ward function\n",
    "dendrogram(merge2,\n",
    "           labels = [\"A.baumanii\",\"E.coli\",\"H.pylori\",\"K.pneumoniae\"\n",
    "                                ,\"S.aureus\",\"S.pneumoniae\"],\n",
    "           leaf_rotation = 90,\n",
    "           leaf_font_size = 20,\n",
    ")\n",
    "# label the axes and show the plot\n",
    "plt.xlabel(\"Organism\")\n",
    "plt.ylabel(\"Cluster distance\")\n",
    "plt.show()"
   ]
  },
  {
   "cell_type": "code",
   "execution_count": 31,
   "metadata": {
    "collapsed": false
   },
   "outputs": [
    {
     "data": {
      "image/png": "[encoded data removed]",
      "text/plain": [
       "<matplotlib.figure.Figure at 0x111ef2c18>"
      ]
     },
     "metadata": {},
     "output_type": "display_data"
    }
   ],
   "source": [
    "# using GC content alone\n",
    "# test 3\n",
    "samp_gc_content = linkage(content_nuc, method = \"complete\")\n",
    "dendrogram(samp_gc_content,\n",
    "           labels = [\"A.baumanii\",\"E.coli\",\"H.pylori\",\"K.pneumoniae\"\n",
    "                                ,\"S.aureus\",\"S.pneumoniae\"],\n",
    "           leaf_rotation = 90,\n",
    "           leaf_font_size = 20,\n",
    ")\n",
    "# label axes and show plot\n",
    "plt.xlabel(\"Organism\")\n",
    "plt.ylabel(\"Cluster distance\")\n",
    "plt.show()"
   ]
  },
  {
   "cell_type": "markdown",
   "metadata": {},
   "source": [
    "The trees generated with Hierarchial clustering are different with the `Linkage` function, we get 3 clusters depending on your cluster distance and using the `ward` function we get only 3 clades whereas, the one using the gc content got a totally different tree. Note that the organisms most similiar are grouped together indicated by a specific color. But what brought me close to the full arrangement found in the phylogenetic tree? We'll explore that in the discussion."
   ]
  },
  {
   "cell_type": "markdown",
   "metadata": {},
   "source": [
    "Which one brought us closer to the full tree?"
   ]
  },
  {
   "cell_type": "markdown",
   "metadata": {},
   "source": [
    "<p align=\"center\">\n",
    "<img src=\"http://www.dhushara.com/book/unraveltree/root.jpg\" width=\"900\">\n",
    "\n",
    "</p>"
   ]
  },
  {
   "cell_type": "markdown",
   "metadata": {},
   "source": [
    "# Discussion"
   ]
  },
  {
   "cell_type": "markdown",
   "metadata": {
    "collapsed": true
   },
   "source": [
    "From the calculations done above these sequences are different. They don't align so well -- check the file aligned_16S_Rrna.meg in the file data on my [github repository](https://github.com/Shuyib/Phylogenetic-tree-study/tree/master/data). This is due to a couple of reasons: we do not have the full sequence of the 16S Rrna gene for some organisms as i mentioned earlier, i've taken very few organisms that makes it even difficult for the software MEGA7 and clustal Omega to give better results in terms of making distance matrices between the bases. So what i'm doing is analogous to a situation of working with outliers. Removing them makes things worse since we won't have any sequences to compare.\n",
    "\n",
    "What exactly is a distance matrix? Let's go back to phylogenetics tools -- they are two ways of comparing given sequences one are **distance based methods** and the other is **character based methods**. Guess what? We've used both in this analysis. You'll figure that out after reading this explanation i'm about to give.\n",
    "\n",
    "A matrix consists of rows and columns of data of the same type. So when using distance based methods determining the number of mismatches between sequences sort of like this \"AATTCC\" == \"AATTGG\" == \"AGGCC\" but you do this with multiple sequences which gives rise to a pairwise distance matrix; this allows us to identify closely related species and the first two branches of the tree are formed. Then this matrix is remade, but from the previous step the most closely related species are found on the terminal branches. See the terminal node that is, marked red with *H.pylori* and *S.pneumoniae* 2nd last phylogenetic tree. In short, it involves estimating evolutionary distances and correcting for multiple events *Jukes & Cantor 1969* then making of a tree diagram based on the evolutionary distance. For example, the **Neighbour joining method**. \n",
    "\n",
    "Character based methods, aim to explain the relationship between the sequences that are most likely or give the simplest explanation observed in the data. They look at all possible trees and identify the single tree or set of trees that explains the data the best based on a specific criteria. For example **Maximum Likelihood**. \n",
    "\n",
    "Notice the trees generated with MEGA7 don't give a good bootstrap support for example 49 at the clade (numbers above the branch of the trees); however, some a good > 70 which is generally acceptable. I think also more parameter tuning could help of the following attributes: Gaps-Missing Data / Pairwise Deletion, Model / Nucleotide, Rates among sites / Different (Gamma Distributed) and Gamma Parameter in the MEGA 7 software.\n",
    "\n",
    "Which tree brought us close to the full phylogenetic tree above? Let's try and make a small tree to find out. *K.pneumoniae* is not in the tree but according to many of it's properties: morphological and biochemical. I think it's safe to say it will be close to *E.coli* in fact they are on the same family Enterobacteriaceae. Whereas, *A.baumanii* is the phylum Proteobacteria with that in mind i suppose it will also be close to *E.coli* since it is also, in the proteobacteria phylum. Though, further way from *K.pneumoniae*. In summary, this is how i think the tree should look like (((*S.aureus*, *S.pneumoniae*), (*E.coli*, *K.pneumoniae*), *H.pylori*), *A.baumanii*) -- this is the newick representation of evolutionary relationships. NB. the strains used in the tree are different from the ones we used but it help us estimate a tree for our needs."
   ]
  },
  {
   "cell_type": "markdown",
   "metadata": {},
   "source": [
    "# Conclusion"
   ]
  },
  {
   "cell_type": "markdown",
   "metadata": {
    "collapsed": true
   },
   "source": [
    "From the short phylogenetic tree analysis, i've learned that to draw better trees we need to add more organisms - they don't have to be from the same phylum, the more variety the better. To deal with outliers like we've seen in the above analysis. It also seems like a good idea to use a variety of methods to draw phylogenetics trees like we did. On the other hand, parameter tuning is important. I think the tree that brought us closer to what the true phylogenetic tree would look like are, the one we got from Clustal Omega and the one i wrote in the newick representation. For the unsupervised learning methods, didn't do so good perhaps due to the different lengths of the nucleotides or a better numpy array could've been defined with more features exploring different things about the organisms."
   ]
  }
 ],
 "metadata": {
  "anaconda-cloud": {},
  "kernelspec": {
   "display_name": "Python [conda env:py35]",
   "language": "python",
   "name": "conda-env-py35-py"
  },
  "language_info": {
   "codemirror_mode": {
    "name": "ipython",
    "version": 3
   },
   "file_extension": ".py",
   "mimetype": "text/x-python",
   "name": "python",
   "nbconvert_exporter": "python",
   "pygments_lexer": "ipython3",
   "version": "3.5.4"
  }
 },
 "nbformat": 4,
 "nbformat_minor": 1
}
